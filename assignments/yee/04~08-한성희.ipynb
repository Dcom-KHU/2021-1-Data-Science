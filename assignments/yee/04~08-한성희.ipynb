{
  "nbformat": 4,
  "nbformat_minor": 5,
  "metadata": {
    "kernelspec": {
      "display_name": "Python 3",
      "language": "python",
      "name": "python3"
    },
    "language_info": {
      "codemirror_mode": {
        "name": "ipython",
        "version": 3
      },
      "file_extension": ".py",
      "mimetype": "text/x-python",
      "name": "python",
      "nbconvert_exporter": "python",
      "pygments_lexer": "ipython3",
      "version": "3.8.10"
    },
    "colab": {
      "name": "04~08_한성희.ipynb",
      "provenance": [],
      "collapsed_sections": [],
      "include_colab_link": true
    },
    "widgets": {
      "application/vnd.jupyter.widget-state+json": {
        "353b656363784babbdf7168e04d42bff": {
          "model_module": "@jupyter-widgets/controls",
          "model_name": "HBoxModel",
          "state": {
            "_view_name": "HBoxView",
            "_dom_classes": [],
            "_model_name": "HBoxModel",
            "_view_module": "@jupyter-widgets/controls",
            "_model_module_version": "1.5.0",
            "_view_count": null,
            "_view_module_version": "1.5.0",
            "box_style": "",
            "layout": "IPY_MODEL_415a79dfcb4345efa71140beef8569d3",
            "_model_module": "@jupyter-widgets/controls",
            "children": [
              "IPY_MODEL_5c2fd5b155c349fdadf41ae6d76345bd",
              "IPY_MODEL_6e49b7dfdd9b4912af67559f4e81e893"
            ]
          }
        },
        "415a79dfcb4345efa71140beef8569d3": {
          "model_module": "@jupyter-widgets/base",
          "model_name": "LayoutModel",
          "state": {
            "_view_name": "LayoutView",
            "grid_template_rows": null,
            "right": null,
            "justify_content": null,
            "_view_module": "@jupyter-widgets/base",
            "overflow": null,
            "_model_module_version": "1.2.0",
            "_view_count": null,
            "flex_flow": null,
            "width": null,
            "min_width": null,
            "border": null,
            "align_items": null,
            "bottom": null,
            "_model_module": "@jupyter-widgets/base",
            "top": null,
            "grid_column": null,
            "overflow_y": null,
            "overflow_x": null,
            "grid_auto_flow": null,
            "grid_area": null,
            "grid_template_columns": null,
            "flex": null,
            "_model_name": "LayoutModel",
            "justify_items": null,
            "grid_row": null,
            "max_height": null,
            "align_content": null,
            "visibility": null,
            "align_self": null,
            "height": null,
            "min_height": null,
            "padding": null,
            "grid_auto_rows": null,
            "grid_gap": null,
            "max_width": null,
            "order": null,
            "_view_module_version": "1.2.0",
            "grid_template_areas": null,
            "object_position": null,
            "object_fit": null,
            "grid_auto_columns": null,
            "margin": null,
            "display": null,
            "left": null
          }
        },
        "5c2fd5b155c349fdadf41ae6d76345bd": {
          "model_module": "@jupyter-widgets/controls",
          "model_name": "FloatProgressModel",
          "state": {
            "_view_name": "ProgressView",
            "style": "IPY_MODEL_2bc865967b6746df9bd6b96869fe8a7d",
            "_dom_classes": [],
            "description": "",
            "_model_name": "FloatProgressModel",
            "bar_style": "success",
            "max": 9912422,
            "_view_module": "@jupyter-widgets/controls",
            "_model_module_version": "1.5.0",
            "value": 9912422,
            "_view_count": null,
            "_view_module_version": "1.5.0",
            "orientation": "horizontal",
            "min": 0,
            "description_tooltip": null,
            "_model_module": "@jupyter-widgets/controls",
            "layout": "IPY_MODEL_c77f9aa07f964781b4ade618f1bf91af"
          }
        },
        "6e49b7dfdd9b4912af67559f4e81e893": {
          "model_module": "@jupyter-widgets/controls",
          "model_name": "HTMLModel",
          "state": {
            "_view_name": "HTMLView",
            "style": "IPY_MODEL_4b4da85d3901491790f6edc3d605fada",
            "_dom_classes": [],
            "description": "",
            "_model_name": "HTMLModel",
            "placeholder": "​",
            "_view_module": "@jupyter-widgets/controls",
            "_model_module_version": "1.5.0",
            "value": " 9913344/? [00:01&lt;00:00, 6040097.53it/s]",
            "_view_count": null,
            "_view_module_version": "1.5.0",
            "description_tooltip": null,
            "_model_module": "@jupyter-widgets/controls",
            "layout": "IPY_MODEL_d58fe7daecbc45bc8e4456abd8b08190"
          }
        },
        "2bc865967b6746df9bd6b96869fe8a7d": {
          "model_module": "@jupyter-widgets/controls",
          "model_name": "ProgressStyleModel",
          "state": {
            "_view_name": "StyleView",
            "_model_name": "ProgressStyleModel",
            "description_width": "initial",
            "_view_module": "@jupyter-widgets/base",
            "_model_module_version": "1.5.0",
            "_view_count": null,
            "_view_module_version": "1.2.0",
            "bar_color": null,
            "_model_module": "@jupyter-widgets/controls"
          }
        },
        "c77f9aa07f964781b4ade618f1bf91af": {
          "model_module": "@jupyter-widgets/base",
          "model_name": "LayoutModel",
          "state": {
            "_view_name": "LayoutView",
            "grid_template_rows": null,
            "right": null,
            "justify_content": null,
            "_view_module": "@jupyter-widgets/base",
            "overflow": null,
            "_model_module_version": "1.2.0",
            "_view_count": null,
            "flex_flow": null,
            "width": null,
            "min_width": null,
            "border": null,
            "align_items": null,
            "bottom": null,
            "_model_module": "@jupyter-widgets/base",
            "top": null,
            "grid_column": null,
            "overflow_y": null,
            "overflow_x": null,
            "grid_auto_flow": null,
            "grid_area": null,
            "grid_template_columns": null,
            "flex": null,
            "_model_name": "LayoutModel",
            "justify_items": null,
            "grid_row": null,
            "max_height": null,
            "align_content": null,
            "visibility": null,
            "align_self": null,
            "height": null,
            "min_height": null,
            "padding": null,
            "grid_auto_rows": null,
            "grid_gap": null,
            "max_width": null,
            "order": null,
            "_view_module_version": "1.2.0",
            "grid_template_areas": null,
            "object_position": null,
            "object_fit": null,
            "grid_auto_columns": null,
            "margin": null,
            "display": null,
            "left": null
          }
        },
        "4b4da85d3901491790f6edc3d605fada": {
          "model_module": "@jupyter-widgets/controls",
          "model_name": "DescriptionStyleModel",
          "state": {
            "_view_name": "StyleView",
            "_model_name": "DescriptionStyleModel",
            "description_width": "",
            "_view_module": "@jupyter-widgets/base",
            "_model_module_version": "1.5.0",
            "_view_count": null,
            "_view_module_version": "1.2.0",
            "_model_module": "@jupyter-widgets/controls"
          }
        },
        "d58fe7daecbc45bc8e4456abd8b08190": {
          "model_module": "@jupyter-widgets/base",
          "model_name": "LayoutModel",
          "state": {
            "_view_name": "LayoutView",
            "grid_template_rows": null,
            "right": null,
            "justify_content": null,
            "_view_module": "@jupyter-widgets/base",
            "overflow": null,
            "_model_module_version": "1.2.0",
            "_view_count": null,
            "flex_flow": null,
            "width": null,
            "min_width": null,
            "border": null,
            "align_items": null,
            "bottom": null,
            "_model_module": "@jupyter-widgets/base",
            "top": null,
            "grid_column": null,
            "overflow_y": null,
            "overflow_x": null,
            "grid_auto_flow": null,
            "grid_area": null,
            "grid_template_columns": null,
            "flex": null,
            "_model_name": "LayoutModel",
            "justify_items": null,
            "grid_row": null,
            "max_height": null,
            "align_content": null,
            "visibility": null,
            "align_self": null,
            "height": null,
            "min_height": null,
            "padding": null,
            "grid_auto_rows": null,
            "grid_gap": null,
            "max_width": null,
            "order": null,
            "_view_module_version": "1.2.0",
            "grid_template_areas": null,
            "object_position": null,
            "object_fit": null,
            "grid_auto_columns": null,
            "margin": null,
            "display": null,
            "left": null
          }
        },
        "b6fee77315d64e3685d852ed13de847a": {
          "model_module": "@jupyter-widgets/controls",
          "model_name": "HBoxModel",
          "state": {
            "_view_name": "HBoxView",
            "_dom_classes": [],
            "_model_name": "HBoxModel",
            "_view_module": "@jupyter-widgets/controls",
            "_model_module_version": "1.5.0",
            "_view_count": null,
            "_view_module_version": "1.5.0",
            "box_style": "",
            "layout": "IPY_MODEL_b8695ee9d7a84789928dbbaa1be648e9",
            "_model_module": "@jupyter-widgets/controls",
            "children": [
              "IPY_MODEL_b711607275f84ef2a346709924334a94",
              "IPY_MODEL_d254a8bf17bc4b58bc1cce7d0d6c5cd6"
            ]
          }
        },
        "b8695ee9d7a84789928dbbaa1be648e9": {
          "model_module": "@jupyter-widgets/base",
          "model_name": "LayoutModel",
          "state": {
            "_view_name": "LayoutView",
            "grid_template_rows": null,
            "right": null,
            "justify_content": null,
            "_view_module": "@jupyter-widgets/base",
            "overflow": null,
            "_model_module_version": "1.2.0",
            "_view_count": null,
            "flex_flow": null,
            "width": null,
            "min_width": null,
            "border": null,
            "align_items": null,
            "bottom": null,
            "_model_module": "@jupyter-widgets/base",
            "top": null,
            "grid_column": null,
            "overflow_y": null,
            "overflow_x": null,
            "grid_auto_flow": null,
            "grid_area": null,
            "grid_template_columns": null,
            "flex": null,
            "_model_name": "LayoutModel",
            "justify_items": null,
            "grid_row": null,
            "max_height": null,
            "align_content": null,
            "visibility": null,
            "align_self": null,
            "height": null,
            "min_height": null,
            "padding": null,
            "grid_auto_rows": null,
            "grid_gap": null,
            "max_width": null,
            "order": null,
            "_view_module_version": "1.2.0",
            "grid_template_areas": null,
            "object_position": null,
            "object_fit": null,
            "grid_auto_columns": null,
            "margin": null,
            "display": null,
            "left": null
          }
        },
        "b711607275f84ef2a346709924334a94": {
          "model_module": "@jupyter-widgets/controls",
          "model_name": "FloatProgressModel",
          "state": {
            "_view_name": "ProgressView",
            "style": "IPY_MODEL_266e60d353a04d20930335636178002e",
            "_dom_classes": [],
            "description": "",
            "_model_name": "FloatProgressModel",
            "bar_style": "success",
            "max": 28881,
            "_view_module": "@jupyter-widgets/controls",
            "_model_module_version": "1.5.0",
            "value": 28881,
            "_view_count": null,
            "_view_module_version": "1.5.0",
            "orientation": "horizontal",
            "min": 0,
            "description_tooltip": null,
            "_model_module": "@jupyter-widgets/controls",
            "layout": "IPY_MODEL_1a020ad5b06c476bb610f8264a44b1cb"
          }
        },
        "d254a8bf17bc4b58bc1cce7d0d6c5cd6": {
          "model_module": "@jupyter-widgets/controls",
          "model_name": "HTMLModel",
          "state": {
            "_view_name": "HTMLView",
            "style": "IPY_MODEL_0856acaf57df4c1a8663818c38846823",
            "_dom_classes": [],
            "description": "",
            "_model_name": "HTMLModel",
            "placeholder": "​",
            "_view_module": "@jupyter-widgets/controls",
            "_model_module_version": "1.5.0",
            "value": " 29696/? [00:00&lt;00:00, 125513.48it/s]",
            "_view_count": null,
            "_view_module_version": "1.5.0",
            "description_tooltip": null,
            "_model_module": "@jupyter-widgets/controls",
            "layout": "IPY_MODEL_329c5e3c31224258a65db70112b2f01a"
          }
        },
        "266e60d353a04d20930335636178002e": {
          "model_module": "@jupyter-widgets/controls",
          "model_name": "ProgressStyleModel",
          "state": {
            "_view_name": "StyleView",
            "_model_name": "ProgressStyleModel",
            "description_width": "initial",
            "_view_module": "@jupyter-widgets/base",
            "_model_module_version": "1.5.0",
            "_view_count": null,
            "_view_module_version": "1.2.0",
            "bar_color": null,
            "_model_module": "@jupyter-widgets/controls"
          }
        },
        "1a020ad5b06c476bb610f8264a44b1cb": {
          "model_module": "@jupyter-widgets/base",
          "model_name": "LayoutModel",
          "state": {
            "_view_name": "LayoutView",
            "grid_template_rows": null,
            "right": null,
            "justify_content": null,
            "_view_module": "@jupyter-widgets/base",
            "overflow": null,
            "_model_module_version": "1.2.0",
            "_view_count": null,
            "flex_flow": null,
            "width": null,
            "min_width": null,
            "border": null,
            "align_items": null,
            "bottom": null,
            "_model_module": "@jupyter-widgets/base",
            "top": null,
            "grid_column": null,
            "overflow_y": null,
            "overflow_x": null,
            "grid_auto_flow": null,
            "grid_area": null,
            "grid_template_columns": null,
            "flex": null,
            "_model_name": "LayoutModel",
            "justify_items": null,
            "grid_row": null,
            "max_height": null,
            "align_content": null,
            "visibility": null,
            "align_self": null,
            "height": null,
            "min_height": null,
            "padding": null,
            "grid_auto_rows": null,
            "grid_gap": null,
            "max_width": null,
            "order": null,
            "_view_module_version": "1.2.0",
            "grid_template_areas": null,
            "object_position": null,
            "object_fit": null,
            "grid_auto_columns": null,
            "margin": null,
            "display": null,
            "left": null
          }
        },
        "0856acaf57df4c1a8663818c38846823": {
          "model_module": "@jupyter-widgets/controls",
          "model_name": "DescriptionStyleModel",
          "state": {
            "_view_name": "StyleView",
            "_model_name": "DescriptionStyleModel",
            "description_width": "",
            "_view_module": "@jupyter-widgets/base",
            "_model_module_version": "1.5.0",
            "_view_count": null,
            "_view_module_version": "1.2.0",
            "_model_module": "@jupyter-widgets/controls"
          }
        },
        "329c5e3c31224258a65db70112b2f01a": {
          "model_module": "@jupyter-widgets/base",
          "model_name": "LayoutModel",
          "state": {
            "_view_name": "LayoutView",
            "grid_template_rows": null,
            "right": null,
            "justify_content": null,
            "_view_module": "@jupyter-widgets/base",
            "overflow": null,
            "_model_module_version": "1.2.0",
            "_view_count": null,
            "flex_flow": null,
            "width": null,
            "min_width": null,
            "border": null,
            "align_items": null,
            "bottom": null,
            "_model_module": "@jupyter-widgets/base",
            "top": null,
            "grid_column": null,
            "overflow_y": null,
            "overflow_x": null,
            "grid_auto_flow": null,
            "grid_area": null,
            "grid_template_columns": null,
            "flex": null,
            "_model_name": "LayoutModel",
            "justify_items": null,
            "grid_row": null,
            "max_height": null,
            "align_content": null,
            "visibility": null,
            "align_self": null,
            "height": null,
            "min_height": null,
            "padding": null,
            "grid_auto_rows": null,
            "grid_gap": null,
            "max_width": null,
            "order": null,
            "_view_module_version": "1.2.0",
            "grid_template_areas": null,
            "object_position": null,
            "object_fit": null,
            "grid_auto_columns": null,
            "margin": null,
            "display": null,
            "left": null
          }
        },
        "e39a2751cb6c448c892fa8a79cba61d2": {
          "model_module": "@jupyter-widgets/controls",
          "model_name": "HBoxModel",
          "state": {
            "_view_name": "HBoxView",
            "_dom_classes": [],
            "_model_name": "HBoxModel",
            "_view_module": "@jupyter-widgets/controls",
            "_model_module_version": "1.5.0",
            "_view_count": null,
            "_view_module_version": "1.5.0",
            "box_style": "",
            "layout": "IPY_MODEL_adba00ef2ed444fc920139b2284a9d4f",
            "_model_module": "@jupyter-widgets/controls",
            "children": [
              "IPY_MODEL_b89bfedfa17a4c3aa56ed3799b491214",
              "IPY_MODEL_ecead8ba38fb45cf966ad62c5de586e3"
            ]
          }
        },
        "adba00ef2ed444fc920139b2284a9d4f": {
          "model_module": "@jupyter-widgets/base",
          "model_name": "LayoutModel",
          "state": {
            "_view_name": "LayoutView",
            "grid_template_rows": null,
            "right": null,
            "justify_content": null,
            "_view_module": "@jupyter-widgets/base",
            "overflow": null,
            "_model_module_version": "1.2.0",
            "_view_count": null,
            "flex_flow": null,
            "width": null,
            "min_width": null,
            "border": null,
            "align_items": null,
            "bottom": null,
            "_model_module": "@jupyter-widgets/base",
            "top": null,
            "grid_column": null,
            "overflow_y": null,
            "overflow_x": null,
            "grid_auto_flow": null,
            "grid_area": null,
            "grid_template_columns": null,
            "flex": null,
            "_model_name": "LayoutModel",
            "justify_items": null,
            "grid_row": null,
            "max_height": null,
            "align_content": null,
            "visibility": null,
            "align_self": null,
            "height": null,
            "min_height": null,
            "padding": null,
            "grid_auto_rows": null,
            "grid_gap": null,
            "max_width": null,
            "order": null,
            "_view_module_version": "1.2.0",
            "grid_template_areas": null,
            "object_position": null,
            "object_fit": null,
            "grid_auto_columns": null,
            "margin": null,
            "display": null,
            "left": null
          }
        },
        "b89bfedfa17a4c3aa56ed3799b491214": {
          "model_module": "@jupyter-widgets/controls",
          "model_name": "FloatProgressModel",
          "state": {
            "_view_name": "ProgressView",
            "style": "IPY_MODEL_4036bbbcf5784fd5830354b29697b392",
            "_dom_classes": [],
            "description": "",
            "_model_name": "FloatProgressModel",
            "bar_style": "success",
            "max": 1648877,
            "_view_module": "@jupyter-widgets/controls",
            "_model_module_version": "1.5.0",
            "value": 1648877,
            "_view_count": null,
            "_view_module_version": "1.5.0",
            "orientation": "horizontal",
            "min": 0,
            "description_tooltip": null,
            "_model_module": "@jupyter-widgets/controls",
            "layout": "IPY_MODEL_b5f84e8ae3814a5c84ddc0a1e04123ef"
          }
        },
        "ecead8ba38fb45cf966ad62c5de586e3": {
          "model_module": "@jupyter-widgets/controls",
          "model_name": "HTMLModel",
          "state": {
            "_view_name": "HTMLView",
            "style": "IPY_MODEL_03be632840a648e0a888c593af753b13",
            "_dom_classes": [],
            "description": "",
            "_model_name": "HTMLModel",
            "placeholder": "​",
            "_view_module": "@jupyter-widgets/controls",
            "_model_module_version": "1.5.0",
            "value": " 1649664/? [00:00&lt;00:00, 2532944.87it/s]",
            "_view_count": null,
            "_view_module_version": "1.5.0",
            "description_tooltip": null,
            "_model_module": "@jupyter-widgets/controls",
            "layout": "IPY_MODEL_dee451e4b91f40c89da109a8da5afdc4"
          }
        },
        "4036bbbcf5784fd5830354b29697b392": {
          "model_module": "@jupyter-widgets/controls",
          "model_name": "ProgressStyleModel",
          "state": {
            "_view_name": "StyleView",
            "_model_name": "ProgressStyleModel",
            "description_width": "initial",
            "_view_module": "@jupyter-widgets/base",
            "_model_module_version": "1.5.0",
            "_view_count": null,
            "_view_module_version": "1.2.0",
            "bar_color": null,
            "_model_module": "@jupyter-widgets/controls"
          }
        },
        "b5f84e8ae3814a5c84ddc0a1e04123ef": {
          "model_module": "@jupyter-widgets/base",
          "model_name": "LayoutModel",
          "state": {
            "_view_name": "LayoutView",
            "grid_template_rows": null,
            "right": null,
            "justify_content": null,
            "_view_module": "@jupyter-widgets/base",
            "overflow": null,
            "_model_module_version": "1.2.0",
            "_view_count": null,
            "flex_flow": null,
            "width": null,
            "min_width": null,
            "border": null,
            "align_items": null,
            "bottom": null,
            "_model_module": "@jupyter-widgets/base",
            "top": null,
            "grid_column": null,
            "overflow_y": null,
            "overflow_x": null,
            "grid_auto_flow": null,
            "grid_area": null,
            "grid_template_columns": null,
            "flex": null,
            "_model_name": "LayoutModel",
            "justify_items": null,
            "grid_row": null,
            "max_height": null,
            "align_content": null,
            "visibility": null,
            "align_self": null,
            "height": null,
            "min_height": null,
            "padding": null,
            "grid_auto_rows": null,
            "grid_gap": null,
            "max_width": null,
            "order": null,
            "_view_module_version": "1.2.0",
            "grid_template_areas": null,
            "object_position": null,
            "object_fit": null,
            "grid_auto_columns": null,
            "margin": null,
            "display": null,
            "left": null
          }
        },
        "03be632840a648e0a888c593af753b13": {
          "model_module": "@jupyter-widgets/controls",
          "model_name": "DescriptionStyleModel",
          "state": {
            "_view_name": "StyleView",
            "_model_name": "DescriptionStyleModel",
            "description_width": "",
            "_view_module": "@jupyter-widgets/base",
            "_model_module_version": "1.5.0",
            "_view_count": null,
            "_view_module_version": "1.2.0",
            "_model_module": "@jupyter-widgets/controls"
          }
        },
        "dee451e4b91f40c89da109a8da5afdc4": {
          "model_module": "@jupyter-widgets/base",
          "model_name": "LayoutModel",
          "state": {
            "_view_name": "LayoutView",
            "grid_template_rows": null,
            "right": null,
            "justify_content": null,
            "_view_module": "@jupyter-widgets/base",
            "overflow": null,
            "_model_module_version": "1.2.0",
            "_view_count": null,
            "flex_flow": null,
            "width": null,
            "min_width": null,
            "border": null,
            "align_items": null,
            "bottom": null,
            "_model_module": "@jupyter-widgets/base",
            "top": null,
            "grid_column": null,
            "overflow_y": null,
            "overflow_x": null,
            "grid_auto_flow": null,
            "grid_area": null,
            "grid_template_columns": null,
            "flex": null,
            "_model_name": "LayoutModel",
            "justify_items": null,
            "grid_row": null,
            "max_height": null,
            "align_content": null,
            "visibility": null,
            "align_self": null,
            "height": null,
            "min_height": null,
            "padding": null,
            "grid_auto_rows": null,
            "grid_gap": null,
            "max_width": null,
            "order": null,
            "_view_module_version": "1.2.0",
            "grid_template_areas": null,
            "object_position": null,
            "object_fit": null,
            "grid_auto_columns": null,
            "margin": null,
            "display": null,
            "left": null
          }
        },
        "6ff8109d675549a6a82ee85bfe917e93": {
          "model_module": "@jupyter-widgets/controls",
          "model_name": "HBoxModel",
          "state": {
            "_view_name": "HBoxView",
            "_dom_classes": [],
            "_model_name": "HBoxModel",
            "_view_module": "@jupyter-widgets/controls",
            "_model_module_version": "1.5.0",
            "_view_count": null,
            "_view_module_version": "1.5.0",
            "box_style": "",
            "layout": "IPY_MODEL_3e6af450a20c4758a987f642d31d5abc",
            "_model_module": "@jupyter-widgets/controls",
            "children": [
              "IPY_MODEL_5f138a42b92b4306b27de5e47c9eec71",
              "IPY_MODEL_82560e863134419ea716e30ea45074b8"
            ]
          }
        },
        "3e6af450a20c4758a987f642d31d5abc": {
          "model_module": "@jupyter-widgets/base",
          "model_name": "LayoutModel",
          "state": {
            "_view_name": "LayoutView",
            "grid_template_rows": null,
            "right": null,
            "justify_content": null,
            "_view_module": "@jupyter-widgets/base",
            "overflow": null,
            "_model_module_version": "1.2.0",
            "_view_count": null,
            "flex_flow": null,
            "width": null,
            "min_width": null,
            "border": null,
            "align_items": null,
            "bottom": null,
            "_model_module": "@jupyter-widgets/base",
            "top": null,
            "grid_column": null,
            "overflow_y": null,
            "overflow_x": null,
            "grid_auto_flow": null,
            "grid_area": null,
            "grid_template_columns": null,
            "flex": null,
            "_model_name": "LayoutModel",
            "justify_items": null,
            "grid_row": null,
            "max_height": null,
            "align_content": null,
            "visibility": null,
            "align_self": null,
            "height": null,
            "min_height": null,
            "padding": null,
            "grid_auto_rows": null,
            "grid_gap": null,
            "max_width": null,
            "order": null,
            "_view_module_version": "1.2.0",
            "grid_template_areas": null,
            "object_position": null,
            "object_fit": null,
            "grid_auto_columns": null,
            "margin": null,
            "display": null,
            "left": null
          }
        },
        "5f138a42b92b4306b27de5e47c9eec71": {
          "model_module": "@jupyter-widgets/controls",
          "model_name": "FloatProgressModel",
          "state": {
            "_view_name": "ProgressView",
            "style": "IPY_MODEL_e231c7c71c4841cb8763d350b2eb78af",
            "_dom_classes": [],
            "description": "",
            "_model_name": "FloatProgressModel",
            "bar_style": "success",
            "max": 4542,
            "_view_module": "@jupyter-widgets/controls",
            "_model_module_version": "1.5.0",
            "value": 4542,
            "_view_count": null,
            "_view_module_version": "1.5.0",
            "orientation": "horizontal",
            "min": 0,
            "description_tooltip": null,
            "_model_module": "@jupyter-widgets/controls",
            "layout": "IPY_MODEL_31cce35321144cfab62513f30c76aac1"
          }
        },
        "82560e863134419ea716e30ea45074b8": {
          "model_module": "@jupyter-widgets/controls",
          "model_name": "HTMLModel",
          "state": {
            "_view_name": "HTMLView",
            "style": "IPY_MODEL_86e3118ad52f4c68bc4324879a14a2fd",
            "_dom_classes": [],
            "description": "",
            "_model_name": "HTMLModel",
            "placeholder": "​",
            "_view_module": "@jupyter-widgets/controls",
            "_model_module_version": "1.5.0",
            "value": " 5120/? [00:00&lt;00:00, 20797.70it/s]",
            "_view_count": null,
            "_view_module_version": "1.5.0",
            "description_tooltip": null,
            "_model_module": "@jupyter-widgets/controls",
            "layout": "IPY_MODEL_65b013d3b29e47118febf6f095c66a57"
          }
        },
        "e231c7c71c4841cb8763d350b2eb78af": {
          "model_module": "@jupyter-widgets/controls",
          "model_name": "ProgressStyleModel",
          "state": {
            "_view_name": "StyleView",
            "_model_name": "ProgressStyleModel",
            "description_width": "initial",
            "_view_module": "@jupyter-widgets/base",
            "_model_module_version": "1.5.0",
            "_view_count": null,
            "_view_module_version": "1.2.0",
            "bar_color": null,
            "_model_module": "@jupyter-widgets/controls"
          }
        },
        "31cce35321144cfab62513f30c76aac1": {
          "model_module": "@jupyter-widgets/base",
          "model_name": "LayoutModel",
          "state": {
            "_view_name": "LayoutView",
            "grid_template_rows": null,
            "right": null,
            "justify_content": null,
            "_view_module": "@jupyter-widgets/base",
            "overflow": null,
            "_model_module_version": "1.2.0",
            "_view_count": null,
            "flex_flow": null,
            "width": null,
            "min_width": null,
            "border": null,
            "align_items": null,
            "bottom": null,
            "_model_module": "@jupyter-widgets/base",
            "top": null,
            "grid_column": null,
            "overflow_y": null,
            "overflow_x": null,
            "grid_auto_flow": null,
            "grid_area": null,
            "grid_template_columns": null,
            "flex": null,
            "_model_name": "LayoutModel",
            "justify_items": null,
            "grid_row": null,
            "max_height": null,
            "align_content": null,
            "visibility": null,
            "align_self": null,
            "height": null,
            "min_height": null,
            "padding": null,
            "grid_auto_rows": null,
            "grid_gap": null,
            "max_width": null,
            "order": null,
            "_view_module_version": "1.2.0",
            "grid_template_areas": null,
            "object_position": null,
            "object_fit": null,
            "grid_auto_columns": null,
            "margin": null,
            "display": null,
            "left": null
          }
        },
        "86e3118ad52f4c68bc4324879a14a2fd": {
          "model_module": "@jupyter-widgets/controls",
          "model_name": "DescriptionStyleModel",
          "state": {
            "_view_name": "StyleView",
            "_model_name": "DescriptionStyleModel",
            "description_width": "",
            "_view_module": "@jupyter-widgets/base",
            "_model_module_version": "1.5.0",
            "_view_count": null,
            "_view_module_version": "1.2.0",
            "_model_module": "@jupyter-widgets/controls"
          }
        },
        "65b013d3b29e47118febf6f095c66a57": {
          "model_module": "@jupyter-widgets/base",
          "model_name": "LayoutModel",
          "state": {
            "_view_name": "LayoutView",
            "grid_template_rows": null,
            "right": null,
            "justify_content": null,
            "_view_module": "@jupyter-widgets/base",
            "overflow": null,
            "_model_module_version": "1.2.0",
            "_view_count": null,
            "flex_flow": null,
            "width": null,
            "min_width": null,
            "border": null,
            "align_items": null,
            "bottom": null,
            "_model_module": "@jupyter-widgets/base",
            "top": null,
            "grid_column": null,
            "overflow_y": null,
            "overflow_x": null,
            "grid_auto_flow": null,
            "grid_area": null,
            "grid_template_columns": null,
            "flex": null,
            "_model_name": "LayoutModel",
            "justify_items": null,
            "grid_row": null,
            "max_height": null,
            "align_content": null,
            "visibility": null,
            "align_self": null,
            "height": null,
            "min_height": null,
            "padding": null,
            "grid_auto_rows": null,
            "grid_gap": null,
            "max_width": null,
            "order": null,
            "_view_module_version": "1.2.0",
            "grid_template_areas": null,
            "object_position": null,
            "object_fit": null,
            "grid_auto_columns": null,
            "margin": null,
            "display": null,
            "left": null
          }
        }
      }
    }
  },
  "cells": [
    {
      "cell_type": "markdown",
      "metadata": {
        "id": "view-in-github",
        "colab_type": "text"
      },
      "source": [
        "<a href=\"https://colab.research.google.com/github/Developer-Yee/2021-1-Data-Science/blob/main/assignments/yee/04~08-%ED%95%9C%EC%84%B1%ED%9D%AC.ipynb\" target=\"_parent\"><img src=\"https://colab.research.google.com/assets/colab-badge.svg\" alt=\"Open In Colab\"/></a>"
      ]
    },
    {
      "cell_type": "markdown",
      "metadata": {
        "id": "fb78f666"
      },
      "source": [
        "## Module Import"
      ],
      "id": "fb78f666"
    },
    {
      "cell_type": "code",
      "metadata": {
        "id": "570828be"
      },
      "source": [
        "import numpy as np\n",
        "import pandas as pd\n",
        "import matplotlib.pyplot as plt\n",
        "import sklearn"
      ],
      "id": "570828be",
      "execution_count": 1,
      "outputs": []
    },
    {
      "cell_type": "markdown",
      "metadata": {
        "id": "5353befe"
      },
      "source": [
        "## Assignment 1.\n",
        "우리는 붓꽃의 **꽃받침의 길이, 꽃받침의 너비, 꽃잎의 길이, 꽃잎의 너비**를 통해서, **꽃의 종류**를 구분 해 볼 것입니다. **Input**으로 주어 지는 데이터는 다음과 같습니다.\n",
        "\n",
        "- Sepal Length: 꽃받침의 길이 정보이다.\n",
        "- Sepal Width: 꽃받침의 너비 정보이다.\n",
        "- Petal Length: 꽃잎의 길이 정보이다.\n",
        "- Petal Width: 꽃잎의 너비 정보이다.\n",
        "- Species: 꽃의 종류 정보이다. **setosa / versicolor / virginica** 의 3종류로 구분된다."
      ],
      "id": "5353befe"
    },
    {
      "cell_type": "code",
      "metadata": {
        "colab": {
          "base_uri": "https://localhost:8080/"
        },
        "id": "a3b18df3",
        "outputId": "573b1f9d-a895-42b9-b786-45b13b9816ba"
      },
      "source": [
        "from sklearn.datasets import load_iris\n",
        "from sklearn.model_selection import train_test_split\n",
        "\n",
        "data = load_iris()\n",
        "X_train, X_test, y_train, y_test = train_test_split(data.data, data.target, test_size=0.33, random_state=42, shuffle=True)\n",
        "\n",
        "print(\"X_train의 shape:\", X_train.shape)\n",
        "print(\"X_test의 shape:\", X_test.shape)\n",
        "print(\"y_train의 shape:\", y_train.shape)\n",
        "print(\"y_test의 shape:\", y_test.shape)"
      ],
      "id": "a3b18df3",
      "execution_count": 2,
      "outputs": [
        {
          "output_type": "stream",
          "text": [
            "X_train의 shape: (100, 4)\n",
            "X_test의 shape: (50, 4)\n",
            "y_train의 shape: (100,)\n",
            "y_test의 shape: (50,)\n"
          ],
          "name": "stdout"
        }
      ]
    },
    {
      "cell_type": "markdown",
      "metadata": {
        "id": "9b53defd"
      },
      "source": [
        "### 1-1. Data Normalization\n",
        "첫 번째로, 데이터를 정규화 하는 것이 중요 할 것 같습니다. 데이터를 정규화 해 보세요.\n",
        "\n",
        "(Min - Max 정규화를 이용하면 될 것 같죠? hint: ndarray.min(), ndarray.max())"
      ],
      "id": "9b53defd"
    },
    {
      "cell_type": "code",
      "metadata": {
        "colab": {
          "base_uri": "https://localhost:8080/"
        },
        "id": "25ebc396",
        "outputId": "6c3d868b-8241-4181-a4c9-1b85133250f2"
      },
      "source": [
        "X_train = (X_train - X_train.min()) / (X_train.max() - X_train.min())\n",
        "X_test = (X_test - X_test.min()) / (X_test.max() - X_test.min())\n",
        "print(X_train[:10])"
      ],
      "id": "25ebc396",
      "execution_count": 3,
      "outputs": [
        {
          "output_type": "stream",
          "text": [
            "[[0.73684211 0.36842105 0.53947368 0.15789474]\n",
            " [0.98684211 0.38157895 0.85526316 0.26315789]\n",
            " [0.72368421 0.38157895 0.57894737 0.18421053]\n",
            " [0.65789474 0.44736842 0.17105263 0.01315789]\n",
            " [1.         0.35526316 0.86842105 0.25      ]\n",
            " [0.75       0.34210526 0.52631579 0.11842105]\n",
            " [0.67105263 0.43421053 0.17105263 0.01315789]\n",
            " [0.64473684 0.44736842 0.15789474 0.02631579]\n",
            " [0.65789474 0.48684211 0.23684211 0.03947368]\n",
            " [0.64473684 0.25       0.44736842 0.11842105]]\n"
          ],
          "name": "stdout"
        }
      ]
    },
    {
      "cell_type": "markdown",
      "metadata": {
        "id": "fd97af39"
      },
      "source": [
        "## 1-2. Data Training\n",
        "그 다음으로는 이제 데이터를 학습 시킬 시간입니다! SVM 모듈을 import 한 후, 학습을 시켜 보도록 하겠습니다."
      ],
      "id": "fd97af39"
    },
    {
      "cell_type": "code",
      "metadata": {
        "colab": {
          "base_uri": "https://localhost:8080/"
        },
        "id": "9c989b42",
        "outputId": "a4d500a3-c238-429a-9a63-5d4b56555600"
      },
      "source": [
        "from sklearn.svm import SVC\n",
        "\n",
        "svm = SVC(C=2)\n",
        "# <your code: 학습 과정을 넣어 주세요>\n",
        "svm.fit(X_train, y_train)\n",
        "accuracy = (sum(svm.predict(X_test) == y_test) / 50) * 100\n",
        "print(f'정확도 (accuracy): {accuracy}%')"
      ],
      "id": "9c989b42",
      "execution_count": 4,
      "outputs": [
        {
          "output_type": "stream",
          "text": [
            "정확도 (accuracy): 100.0%\n"
          ],
          "name": "stdout"
        }
      ]
    },
    {
      "cell_type": "markdown",
      "metadata": {
        "id": "162aa7df"
      },
      "source": [
        "## Assignment 2.\n",
        "다음은 **MNIST 데이터**에 대해 분류를 해보는 연습을 해 보겠습니다. **MNIST**는 손글씨 데이터로, **Input Data**는 [28 x 28]의 데이터로 이루어져 있습니다. 일단, 우리가 이를 학습 시키기 전에 한번 데이터를 확인 해 볼까요?\n",
        "\n",
        "이 예제는 DNN을 이용하기 때문에, **Pytorch**로 진행 하겠습니다. 실습은 **Hyperparameter**만 고치면 됩니다.\n",
        "\n",
        "**학습률 95%에 도전 해 보세요!**"
      ],
      "id": "162aa7df"
    },
    {
      "cell_type": "code",
      "metadata": {
        "id": "09585b1f"
      },
      "source": [
        "import time\n",
        "import random\n",
        "import torch\n",
        "import torch.nn as nn\n",
        "from torchvision.datasets import MNIST\n",
        "from torchvision import transforms\n",
        "from torch.utils.data import DataLoader\n",
        "import torch.nn.functional as F"
      ],
      "id": "09585b1f",
      "execution_count": 5,
      "outputs": []
    },
    {
      "cell_type": "code",
      "metadata": {
        "colab": {
          "base_uri": "https://localhost:8080/"
        },
        "id": "52693fc8",
        "outputId": "b42ae19d-2723-4c82-d946-81542b637eb3"
      },
      "source": [
        "# 이 부분은 절대 변경하지 마세요.\n",
        "\n",
        "RANDOM_SEED = 123\n",
        "DEVICE = torch.device('cuda:0' if torch.cuda.is_available() else 'cpu')\n",
        "\n",
        "random.seed(RANDOM_SEED)\n",
        "torch.manual_seed(RANDOM_SEED)"
      ],
      "id": "52693fc8",
      "execution_count": 6,
      "outputs": [
        {
          "output_type": "execute_result",
          "data": {
            "text/plain": [
              "<torch._C.Generator at 0x7f1d9cba32b0>"
            ]
          },
          "metadata": {
            "tags": []
          },
          "execution_count": 6
        }
      ]
    },
    {
      "cell_type": "markdown",
      "metadata": {
        "id": "c795ae90"
      },
      "source": [
        "## 2-0. Data Load\n",
        "데이터를 불러와 보겠습니다. `transforms.Compose`를 이용하여, 데이터를 pytorch에서 사용하는 **Tensor**형으로 바꾸고, 이를 **Gaussian Distribution**으로 정규화합니다."
      ],
      "id": "c795ae90"
    },
    {
      "cell_type": "code",
      "metadata": {
        "id": "6b9bbb9f"
      },
      "source": [
        "# 수정 가능한 셀입니다.\n",
        "BATCH_SIZE = 64  # 60000을 사용하면, Full-Batch 학습을 진행 합니다."
      ],
      "id": "6b9bbb9f",
      "execution_count": 7,
      "outputs": []
    },
    {
      "cell_type": "code",
      "metadata": {
        "id": "d1eb9987"
      },
      "source": [
        "# Don't Touch!\n",
        "custom_train_transform = transforms.Compose([  \n",
        "                                             transforms.ToTensor(),\n",
        "                                             transforms.Normalize(mean=(0.5,), std=(0.5,))\n",
        "])\n",
        "\n",
        "custom_test_transform = transforms.Compose([\n",
        "                                             transforms.ToTensor(),\n",
        "                                             transforms.Normalize(mean=(0.5,), std=(0.5,))\n",
        "])"
      ],
      "id": "d1eb9987",
      "execution_count": 8,
      "outputs": []
    },
    {
      "cell_type": "markdown",
      "metadata": {
        "id": "946bb0ec"
      },
      "source": [
        "`MNIST`를 이용하여 **MNIST** 데이터를 불러 오고, 이를 transform 해 줍니다. 또한, `DataLoader`를 이용하여, 셔플을 해준 후, 미니 배치를 생성 합니다."
      ],
      "id": "946bb0ec"
    },
    {
      "cell_type": "code",
      "metadata": {
        "colab": {
          "base_uri": "https://localhost:8080/",
          "height": 845,
          "referenced_widgets": [
            "353b656363784babbdf7168e04d42bff",
            "415a79dfcb4345efa71140beef8569d3",
            "5c2fd5b155c349fdadf41ae6d76345bd",
            "6e49b7dfdd9b4912af67559f4e81e893",
            "2bc865967b6746df9bd6b96869fe8a7d",
            "c77f9aa07f964781b4ade618f1bf91af",
            "4b4da85d3901491790f6edc3d605fada",
            "d58fe7daecbc45bc8e4456abd8b08190",
            "b6fee77315d64e3685d852ed13de847a",
            "b8695ee9d7a84789928dbbaa1be648e9",
            "b711607275f84ef2a346709924334a94",
            "d254a8bf17bc4b58bc1cce7d0d6c5cd6",
            "266e60d353a04d20930335636178002e",
            "1a020ad5b06c476bb610f8264a44b1cb",
            "0856acaf57df4c1a8663818c38846823",
            "329c5e3c31224258a65db70112b2f01a",
            "e39a2751cb6c448c892fa8a79cba61d2",
            "adba00ef2ed444fc920139b2284a9d4f",
            "b89bfedfa17a4c3aa56ed3799b491214",
            "ecead8ba38fb45cf966ad62c5de586e3",
            "4036bbbcf5784fd5830354b29697b392",
            "b5f84e8ae3814a5c84ddc0a1e04123ef",
            "03be632840a648e0a888c593af753b13",
            "dee451e4b91f40c89da109a8da5afdc4",
            "6ff8109d675549a6a82ee85bfe917e93",
            "3e6af450a20c4758a987f642d31d5abc",
            "5f138a42b92b4306b27de5e47c9eec71",
            "82560e863134419ea716e30ea45074b8",
            "e231c7c71c4841cb8763d350b2eb78af",
            "31cce35321144cfab62513f30c76aac1",
            "86e3118ad52f4c68bc4324879a14a2fd",
            "65b013d3b29e47118febf6f095c66a57"
          ]
        },
        "id": "c0b80568",
        "outputId": "86915fac-eb04-4b0e-e512-7b772fab2eee"
      },
      "source": [
        "train_dataset = MNIST(\".\", train=True, download=True, transform=custom_train_transform)\n",
        "\n",
        "train_loader = DataLoader(dataset=train_dataset,\n",
        "                          batch_size=BATCH_SIZE,\n",
        "                          shuffle=True,\n",
        "                          drop_last=True,\n",
        "                          num_workers=2)\n",
        "\n",
        "\n",
        "test_dataset = MNIST(\".\", train=False, download=True, transform=custom_test_transform)\n",
        "\n",
        "test_loader = DataLoader(dataset=test_dataset,\n",
        "                         batch_size=BATCH_SIZE,\n",
        "                         shuffle=False,\n",
        "                         num_workers=2)"
      ],
      "id": "c0b80568",
      "execution_count": 9,
      "outputs": [
        {
          "output_type": "stream",
          "text": [
            "Downloading http://yann.lecun.com/exdb/mnist/train-images-idx3-ubyte.gz\n",
            "Downloading http://yann.lecun.com/exdb/mnist/train-images-idx3-ubyte.gz to ./MNIST/raw/train-images-idx3-ubyte.gz\n",
            "Failed to download (trying next):\n",
            "HTTP Error 503: Service Unavailable\n",
            "\n",
            "Downloading https://ossci-datasets.s3.amazonaws.com/mnist/train-images-idx3-ubyte.gz\n",
            "Downloading https://ossci-datasets.s3.amazonaws.com/mnist/train-images-idx3-ubyte.gz to ./MNIST/raw/train-images-idx3-ubyte.gz\n"
          ],
          "name": "stdout"
        },
        {
          "output_type": "display_data",
          "data": {
            "application/vnd.jupyter.widget-view+json": {
              "model_id": "353b656363784babbdf7168e04d42bff",
              "version_minor": 0,
              "version_major": 2
            },
            "text/plain": [
              "HBox(children=(FloatProgress(value=0.0, max=9912422.0), HTML(value='')))"
            ]
          },
          "metadata": {
            "tags": []
          }
        },
        {
          "output_type": "stream",
          "text": [
            "\n",
            "Extracting ./MNIST/raw/train-images-idx3-ubyte.gz to ./MNIST/raw\n",
            "\n",
            "Downloading http://yann.lecun.com/exdb/mnist/train-labels-idx1-ubyte.gz\n",
            "Failed to download (trying next):\n",
            "HTTP Error 503: Service Unavailable\n",
            "\n",
            "Downloading https://ossci-datasets.s3.amazonaws.com/mnist/train-labels-idx1-ubyte.gz\n",
            "Downloading https://ossci-datasets.s3.amazonaws.com/mnist/train-labels-idx1-ubyte.gz to ./MNIST/raw/train-labels-idx1-ubyte.gz\n"
          ],
          "name": "stdout"
        },
        {
          "output_type": "display_data",
          "data": {
            "application/vnd.jupyter.widget-view+json": {
              "model_id": "b6fee77315d64e3685d852ed13de847a",
              "version_minor": 0,
              "version_major": 2
            },
            "text/plain": [
              "HBox(children=(FloatProgress(value=0.0, max=28881.0), HTML(value='')))"
            ]
          },
          "metadata": {
            "tags": []
          }
        },
        {
          "output_type": "stream",
          "text": [
            "\n",
            "Extracting ./MNIST/raw/train-labels-idx1-ubyte.gz to ./MNIST/raw\n",
            "\n",
            "Downloading http://yann.lecun.com/exdb/mnist/t10k-images-idx3-ubyte.gz\n",
            "Downloading http://yann.lecun.com/exdb/mnist/t10k-images-idx3-ubyte.gz to ./MNIST/raw/t10k-images-idx3-ubyte.gz\n",
            "Failed to download (trying next):\n",
            "HTTP Error 503: Service Unavailable\n",
            "\n",
            "Downloading https://ossci-datasets.s3.amazonaws.com/mnist/t10k-images-idx3-ubyte.gz\n",
            "Downloading https://ossci-datasets.s3.amazonaws.com/mnist/t10k-images-idx3-ubyte.gz to ./MNIST/raw/t10k-images-idx3-ubyte.gz\n"
          ],
          "name": "stdout"
        },
        {
          "output_type": "display_data",
          "data": {
            "application/vnd.jupyter.widget-view+json": {
              "model_id": "e39a2751cb6c448c892fa8a79cba61d2",
              "version_minor": 0,
              "version_major": 2
            },
            "text/plain": [
              "HBox(children=(FloatProgress(value=0.0, max=1648877.0), HTML(value='')))"
            ]
          },
          "metadata": {
            "tags": []
          }
        },
        {
          "output_type": "stream",
          "text": [
            "\n",
            "Extracting ./MNIST/raw/t10k-images-idx3-ubyte.gz to ./MNIST/raw\n",
            "\n",
            "Downloading http://yann.lecun.com/exdb/mnist/t10k-labels-idx1-ubyte.gz\n",
            "Failed to download (trying next):\n",
            "HTTP Error 503: Service Unavailable\n",
            "\n",
            "Downloading https://ossci-datasets.s3.amazonaws.com/mnist/t10k-labels-idx1-ubyte.gz\n",
            "Downloading https://ossci-datasets.s3.amazonaws.com/mnist/t10k-labels-idx1-ubyte.gz to ./MNIST/raw/t10k-labels-idx1-ubyte.gz\n"
          ],
          "name": "stdout"
        },
        {
          "output_type": "display_data",
          "data": {
            "application/vnd.jupyter.widget-view+json": {
              "model_id": "6ff8109d675549a6a82ee85bfe917e93",
              "version_minor": 0,
              "version_major": 2
            },
            "text/plain": [
              "HBox(children=(FloatProgress(value=0.0, max=4542.0), HTML(value='')))"
            ]
          },
          "metadata": {
            "tags": []
          }
        },
        {
          "output_type": "stream",
          "text": [
            "\n",
            "Extracting ./MNIST/raw/t10k-labels-idx1-ubyte.gz to ./MNIST/raw\n",
            "\n"
          ],
          "name": "stdout"
        },
        {
          "output_type": "stream",
          "text": [
            "/usr/local/lib/python3.7/dist-packages/torchvision/datasets/mnist.py:498: UserWarning: The given NumPy array is not writeable, and PyTorch does not support non-writeable tensors. This means you can write to the underlying (supposedly non-writeable) NumPy array using the tensor. You may want to copy the array to protect its data or make it writeable before converting it to a tensor. This type of warning will be suppressed for the rest of this program. (Triggered internally at  /pytorch/torch/csrc/utils/tensor_numpy.cpp:180.)\n",
            "  return torch.from_numpy(parsed.astype(m[2], copy=False)).view(*s)\n"
          ],
          "name": "stderr"
        }
      ]
    },
    {
      "cell_type": "markdown",
      "metadata": {
        "id": "0908c769"
      },
      "source": [
        "데이터가 잘 들어 왔는지 확인 합니다."
      ],
      "id": "0908c769"
    },
    {
      "cell_type": "code",
      "metadata": {
        "colab": {
          "base_uri": "https://localhost:8080/",
          "height": 332
        },
        "id": "da2ccbc2",
        "outputId": "25026302-6b03-4c4e-b30a-b54883d6e267"
      },
      "source": [
        "for batch_idx, (x, y) in enumerate(train_loader):\n",
        "    print(' | Batch index:', batch_idx, end='')\n",
        "    print(' | Batch size:', y.size()[0])\n",
        "\n",
        "    x = x.to(DEVICE)\n",
        "    y = y.to(DEVICE)\n",
        "\n",
        "    x_numpy = x.numpy()\n",
        "    y_numpy = y.numpy()\n",
        "    print('input batch의 모양:', x_numpy.shape)\n",
        "    plt.imshow(x_numpy[0].reshape(28, 28))\n",
        "    plt.title(f'Label {y_numpy[0]}')\n",
        "    plt.show()\n",
        "\n",
        "    print('break minibatch for-loop')\n",
        "    break"
      ],
      "id": "da2ccbc2",
      "execution_count": 10,
      "outputs": [
        {
          "output_type": "stream",
          "text": [
            " | Batch index: 0 | Batch size: 64\n",
            "input batch의 모양: (64, 1, 28, 28)\n"
          ],
          "name": "stdout"
        },
        {
          "output_type": "display_data",
          "data": {
            "image/png": "[encoded data removed]",
            "text/plain": [
              "<Figure size 432x288 with 1 Axes>"
            ]
          },
          "metadata": {
            "tags": [],
            "needs_background": "light"
          }
        },
        {
          "output_type": "stream",
          "text": [
            "break minibatch for-loop\n"
          ],
          "name": "stdout"
        }
      ]
    },
    {
      "cell_type": "markdown",
      "metadata": {
        "id": "78dbdd43"
      },
      "source": [
        "## 2-1. Deep Neural Network\n",
        "아래 셀은 Deep Neural Network를 정의 합니다."
      ],
      "id": "78dbdd43"
    },
    {
      "cell_type": "code",
      "metadata": {
        "id": "aed9144c"
      },
      "source": [
        "# 변경 가능 합니다.\n",
        "class DNN(nn.Module):\n",
        "    def __init__(self, num_features, num_hidden_1, num_hidden_2, num_hidden_3, num_classes):\n",
        "        \"\"\"\n",
        "        num_features: input feature 갯수\n",
        "        num_hidden_1: 첫 번째 레이어의 노드 갯수\n",
        "        num_hidden_2: 두 번째 레이어의 노드 갯수\n",
        "        num_hidden_3: 세 번째 레이어의 노드 갯수\n",
        "        num_classes: 분류하고자 하는 class 갯수\n",
        "        \"\"\"\n",
        "        super(DNN, self).__init__()\n",
        "        \n",
        "        self.num_classes = num_classes\n",
        "        \n",
        "        # 수정 가능!: 레이어를 쌓는 법을 아신다면, 여기서 레이어를 쌓으셔도, 혹은 지우셔도 무방 합니다. (단, nn.Linear만)\n",
        "        self.linear_1 = nn.Linear(num_features, num_hidden_1)\n",
        "        self.linear_2 = nn.Linear(num_hidden_1, num_hidden_2)\n",
        "        self.linear_3 = nn.Linear(num_hidden_2, num_hidden_3)\n",
        "        self.linear_out = nn.Linear(num_hidden_3, num_classes)\n",
        "    \n",
        "    def forward(self, x):\n",
        "        out = self.linear_1(x)\n",
        "        out = torch.relu(out)\n",
        "        out = self.linear_2(out)\n",
        "        out = torch.relu(out)\n",
        "        out = self.linear_3(out)\n",
        "        out = torch.relu(out)\n",
        "        logits = self.linear_out(out)\n",
        "        probas = torch.sigmoid(logits)\n",
        "        return logits, probas\n",
        "\n",
        "# 수정 가능!\n",
        "model = DNN(num_features=28*28,\n",
        "        num_hidden_1=100,\n",
        "        num_hidden_2=50,\n",
        "        num_hidden_3=20,\n",
        "        num_classes=10)\n",
        "\n",
        "model = model.to(DEVICE)"
      ],
      "id": "aed9144c",
      "execution_count": 11,
      "outputs": []
    },
    {
      "cell_type": "markdown",
      "metadata": {
        "id": "956117f2"
      },
      "source": [
        "## 2-2. Training\n",
        "여기서는 **Optimizer**와, **Epoch**를 설정 합니다. "
      ],
      "id": "956117f2"
    },
    {
      "cell_type": "code",
      "metadata": {
        "id": "5925349f"
      },
      "source": [
        "# 수정 가능!\n",
        "LEARNING_LATE = 0.05  # 흠.. 이 친구는 학습률로는 너무 큰 것 같네요..\n",
        "NUM_EPOCHS = 5"
      ],
      "id": "5925349f",
      "execution_count": 19,
      "outputs": []
    },
    {
      "cell_type": "code",
      "metadata": {
        "id": "eaee3612"
      },
      "source": [
        "optimizer = torch.optim.SGD(model.parameters(), lr=LEARNING_LATE)"
      ],
      "id": "eaee3612",
      "execution_count": 20,
      "outputs": []
    },
    {
      "cell_type": "code",
      "metadata": {
        "colab": {
          "base_uri": "https://localhost:8080/"
        },
        "id": "e7d2292a",
        "outputId": "3861bcac-d092-473e-fd2a-dce22f30d194"
      },
      "source": [
        "def compute_accuracy_and_loss(model, data_loader, device):\n",
        "    correct_pred, num_examples = 0, 0\n",
        "    cross_entropy = 0.\n",
        "    for i, (features, targets) in enumerate(data_loader):\n",
        "            \n",
        "        features = features.view(-1, 28*28).to(device)\n",
        "        targets = targets.to(device)\n",
        "\n",
        "        logits, probas = model(features)\n",
        "        cross_entropy += F.cross_entropy(logits, targets).item()\n",
        "        _, predicted_labels = torch.max(probas, 1)\n",
        "        num_examples += targets.size(0)\n",
        "        correct_pred += (predicted_labels == targets).sum()\n",
        "    return correct_pred.float()/num_examples * 100, cross_entropy/num_examples\n",
        "    \n",
        "\n",
        "start_time = time.time()\n",
        "train_acc_lst, test_acc_lst = [], []\n",
        "train_loss_lst, test_loss_lst = [], []\n",
        "\n",
        "for epoch in range(NUM_EPOCHS):\n",
        "    \n",
        "    model.train()\n",
        "    \n",
        "    for batch_idx, (features, targets) in enumerate(train_loader):\n",
        "    \n",
        "        ### PREPARE MINIBATCH\n",
        "        features = features.view(-1, 28*28).to(DEVICE)\n",
        "        targets = targets.to(DEVICE)\n",
        "            \n",
        "        ### FORWARD AND BACK PROP\n",
        "        logits, probas = model(features)  # 모델 계산\n",
        "        cost = F.cross_entropy(logits, targets)  # 크로스 엔트로피 계산\n",
        "        optimizer.zero_grad()  # 기울기 초기화\n",
        "        \n",
        "        cost.backward()  # 역전파\n",
        "        \n",
        "        ### UPDATE MODEL PARAMETERS\n",
        "        optimizer.step()  # step 적용\n",
        "        \n",
        "        ### LOGGING\n",
        "        if not batch_idx % 40:\n",
        "            print (f'Epoch: {epoch+1:03d}/{NUM_EPOCHS:03d} | '\n",
        "                   f'Batch {batch_idx:03d}/{len(train_loader):03d} |' \n",
        "                   f' Cost: {cost:.4f}')\n",
        "\n",
        "    # 매 Epoch마다 evaluation을 진행합니다. \n",
        "    # Epoch마다 Loss를 기록하여 학습과정을 살펴보고 Underfitting, Overfitting 여부를 확인합니다.\n",
        "    model.eval()\n",
        "    with torch.set_grad_enabled(False): # Gradient 계산이 안되도록\n",
        "        train_acc, train_loss = compute_accuracy_and_loss(model, train_loader, device=DEVICE) # train acc, loss 계산\n",
        "        test_acc, test_loss = compute_accuracy_and_loss(model, test_loader, device=DEVICE)    # test acc, loss 계산\n",
        "        \n",
        "        # list에 train, test의  acc, loss 추가\n",
        "        train_acc_lst.append(train_acc)\n",
        "        test_acc_lst.append(test_acc)\n",
        "        train_loss_lst.append(train_loss)\n",
        "        test_loss_lst.append(test_loss)\n",
        "        \n",
        "        # 로깅\n",
        "        print(f'Epoch: {epoch+1:03d}/{NUM_EPOCHS:03d} Train Acc.: {train_acc:.2f}%'\n",
        "              f' | Test Acc.: {test_acc:.2f}%')\n",
        "    \n",
        "    # 1 epoch 학습 소요시간\n",
        "    elapsed = (time.time() - start_time)/60\n",
        "    print(f'Time elapsed: {elapsed:.2f} min')\n",
        "\n",
        "# 총 학습 소요시간\n",
        "elapsed = (time.time() - start_time)/60\n",
        "print(f'Total Training Time: {elapsed:.2f} min')"
      ],
      "id": "e7d2292a",
      "execution_count": 21,
      "outputs": [
        {
          "output_type": "stream",
          "text": [
            "Epoch: 001/005 | Batch 000/937 | Cost: 0.3845\n",
            "Epoch: 001/005 | Batch 040/937 | Cost: 1.4855\n",
            "Epoch: 001/005 | Batch 080/937 | Cost: 0.6567\n",
            "Epoch: 001/005 | Batch 120/937 | Cost: 0.1849\n",
            "Epoch: 001/005 | Batch 160/937 | Cost: 0.2180\n",
            "Epoch: 001/005 | Batch 200/937 | Cost: 0.3019\n",
            "Epoch: 001/005 | Batch 240/937 | Cost: 0.4417\n",
            "Epoch: 001/005 | Batch 280/937 | Cost: 0.3386\n",
            "Epoch: 001/005 | Batch 320/937 | Cost: 0.2664\n",
            "Epoch: 001/005 | Batch 360/937 | Cost: 0.4847\n",
            "Epoch: 001/005 | Batch 400/937 | Cost: 0.2179\n",
            "Epoch: 001/005 | Batch 440/937 | Cost: 0.4800\n",
            "Epoch: 001/005 | Batch 480/937 | Cost: 0.2106\n",
            "Epoch: 001/005 | Batch 520/937 | Cost: 0.1408\n",
            "Epoch: 001/005 | Batch 560/937 | Cost: 0.3541\n",
            "Epoch: 001/005 | Batch 600/937 | Cost: 0.2148\n",
            "Epoch: 001/005 | Batch 640/937 | Cost: 0.1283\n",
            "Epoch: 001/005 | Batch 680/937 | Cost: 0.1777\n",
            "Epoch: 001/005 | Batch 720/937 | Cost: 0.3163\n",
            "Epoch: 001/005 | Batch 760/937 | Cost: 0.1141\n",
            "Epoch: 001/005 | Batch 800/937 | Cost: 0.2345\n",
            "Epoch: 001/005 | Batch 840/937 | Cost: 0.1537\n",
            "Epoch: 001/005 | Batch 880/937 | Cost: 0.1347\n",
            "Epoch: 001/005 | Batch 920/937 | Cost: 0.0460\n",
            "Epoch: 001/005 Train Acc.: 93.94% | Test Acc.: 93.77%\n",
            "Time elapsed: 0.42 min\n",
            "Epoch: 002/005 | Batch 000/937 | Cost: 0.2860\n",
            "Epoch: 002/005 | Batch 040/937 | Cost: 0.2271\n",
            "Epoch: 002/005 | Batch 080/937 | Cost: 0.2413\n",
            "Epoch: 002/005 | Batch 120/937 | Cost: 0.2236\n",
            "Epoch: 002/005 | Batch 160/937 | Cost: 0.1182\n",
            "Epoch: 002/005 | Batch 200/937 | Cost: 0.1305\n",
            "Epoch: 002/005 | Batch 240/937 | Cost: 0.1073\n",
            "Epoch: 002/005 | Batch 280/937 | Cost: 0.1356\n",
            "Epoch: 002/005 | Batch 320/937 | Cost: 0.4012\n",
            "Epoch: 002/005 | Batch 360/937 | Cost: 0.2410\n",
            "Epoch: 002/005 | Batch 400/937 | Cost: 0.3347\n",
            "Epoch: 002/005 | Batch 440/937 | Cost: 0.2132\n",
            "Epoch: 002/005 | Batch 480/937 | Cost: 0.0692\n",
            "Epoch: 002/005 | Batch 520/937 | Cost: 0.1262\n",
            "Epoch: 002/005 | Batch 560/937 | Cost: 0.1420\n",
            "Epoch: 002/005 | Batch 600/937 | Cost: 0.1930\n",
            "Epoch: 002/005 | Batch 640/937 | Cost: 0.3942\n",
            "Epoch: 002/005 | Batch 680/937 | Cost: 0.3024\n",
            "Epoch: 002/005 | Batch 720/937 | Cost: 0.1577\n",
            "Epoch: 002/005 | Batch 760/937 | Cost: 0.2364\n",
            "Epoch: 002/005 | Batch 800/937 | Cost: 0.1813\n",
            "Epoch: 002/005 | Batch 840/937 | Cost: 0.2037\n",
            "Epoch: 002/005 | Batch 880/937 | Cost: 0.0469\n",
            "Epoch: 002/005 | Batch 920/937 | Cost: 0.1095\n",
            "Epoch: 002/005 Train Acc.: 95.85% | Test Acc.: 95.43%\n",
            "Time elapsed: 0.83 min\n",
            "Epoch: 003/005 | Batch 000/937 | Cost: 0.1664\n",
            "Epoch: 003/005 | Batch 040/937 | Cost: 0.1343\n",
            "Epoch: 003/005 | Batch 080/937 | Cost: 0.1430\n",
            "Epoch: 003/005 | Batch 120/937 | Cost: 0.0465\n",
            "Epoch: 003/005 | Batch 160/937 | Cost: 0.2572\n",
            "Epoch: 003/005 | Batch 200/937 | Cost: 0.1860\n",
            "Epoch: 003/005 | Batch 240/937 | Cost: 0.1844\n",
            "Epoch: 003/005 | Batch 280/937 | Cost: 0.1998\n",
            "Epoch: 003/005 | Batch 320/937 | Cost: 0.2601\n",
            "Epoch: 003/005 | Batch 360/937 | Cost: 0.1366\n",
            "Epoch: 003/005 | Batch 400/937 | Cost: 0.1652\n",
            "Epoch: 003/005 | Batch 440/937 | Cost: 0.1177\n",
            "Epoch: 003/005 | Batch 480/937 | Cost: 0.1296\n",
            "Epoch: 003/005 | Batch 520/937 | Cost: 0.1103\n",
            "Epoch: 003/005 | Batch 560/937 | Cost: 0.2221\n",
            "Epoch: 003/005 | Batch 600/937 | Cost: 0.0638\n",
            "Epoch: 003/005 | Batch 640/937 | Cost: 0.1259\n",
            "Epoch: 003/005 | Batch 680/937 | Cost: 0.3730\n",
            "Epoch: 003/005 | Batch 720/937 | Cost: 0.0860\n",
            "Epoch: 003/005 | Batch 760/937 | Cost: 0.2398\n",
            "Epoch: 003/005 | Batch 800/937 | Cost: 0.1201\n",
            "Epoch: 003/005 | Batch 840/937 | Cost: 0.3931\n",
            "Epoch: 003/005 | Batch 880/937 | Cost: 0.1188\n",
            "Epoch: 003/005 | Batch 920/937 | Cost: 0.1674\n",
            "Epoch: 003/005 Train Acc.: 96.33% | Test Acc.: 95.94%\n",
            "Time elapsed: 1.24 min\n",
            "Epoch: 004/005 | Batch 000/937 | Cost: 0.1120\n",
            "Epoch: 004/005 | Batch 040/937 | Cost: 0.1436\n",
            "Epoch: 004/005 | Batch 080/937 | Cost: 0.2680\n",
            "Epoch: 004/005 | Batch 120/937 | Cost: 0.0702\n",
            "Epoch: 004/005 | Batch 160/937 | Cost: 0.2267\n",
            "Epoch: 004/005 | Batch 200/937 | Cost: 0.2731\n",
            "Epoch: 004/005 | Batch 240/937 | Cost: 0.0933\n",
            "Epoch: 004/005 | Batch 280/937 | Cost: 0.0682\n",
            "Epoch: 004/005 | Batch 320/937 | Cost: 0.1285\n",
            "Epoch: 004/005 | Batch 360/937 | Cost: 0.1682\n",
            "Epoch: 004/005 | Batch 400/937 | Cost: 0.2223\n",
            "Epoch: 004/005 | Batch 440/937 | Cost: 0.0413\n",
            "Epoch: 004/005 | Batch 480/937 | Cost: 0.0911\n",
            "Epoch: 004/005 | Batch 520/937 | Cost: 0.0169\n",
            "Epoch: 004/005 | Batch 560/937 | Cost: 0.2510\n",
            "Epoch: 004/005 | Batch 600/937 | Cost: 0.0856\n",
            "Epoch: 004/005 | Batch 640/937 | Cost: 0.0706\n",
            "Epoch: 004/005 | Batch 680/937 | Cost: 0.1067\n",
            "Epoch: 004/005 | Batch 720/937 | Cost: 0.1464\n",
            "Epoch: 004/005 | Batch 760/937 | Cost: 0.2804\n",
            "Epoch: 004/005 | Batch 800/937 | Cost: 0.0298\n",
            "Epoch: 004/005 | Batch 840/937 | Cost: 0.1674\n",
            "Epoch: 004/005 | Batch 880/937 | Cost: 0.1124\n",
            "Epoch: 004/005 | Batch 920/937 | Cost: 0.2335\n",
            "Epoch: 004/005 Train Acc.: 97.09% | Test Acc.: 96.58%\n",
            "Time elapsed: 1.66 min\n",
            "Epoch: 005/005 | Batch 000/937 | Cost: 0.1059\n",
            "Epoch: 005/005 | Batch 040/937 | Cost: 0.0163\n",
            "Epoch: 005/005 | Batch 080/937 | Cost: 0.0987\n",
            "Epoch: 005/005 | Batch 120/937 | Cost: 0.1055\n",
            "Epoch: 005/005 | Batch 160/937 | Cost: 0.1014\n",
            "Epoch: 005/005 | Batch 200/937 | Cost: 0.0736\n",
            "Epoch: 005/005 | Batch 240/937 | Cost: 0.1394\n",
            "Epoch: 005/005 | Batch 280/937 | Cost: 0.1070\n",
            "Epoch: 005/005 | Batch 320/937 | Cost: 0.1879\n",
            "Epoch: 005/005 | Batch 360/937 | Cost: 0.0848\n",
            "Epoch: 005/005 | Batch 400/937 | Cost: 0.0318\n",
            "Epoch: 005/005 | Batch 440/937 | Cost: 0.0724\n",
            "Epoch: 005/005 | Batch 480/937 | Cost: 0.0593\n",
            "Epoch: 005/005 | Batch 520/937 | Cost: 0.1051\n",
            "Epoch: 005/005 | Batch 560/937 | Cost: 0.0548\n",
            "Epoch: 005/005 | Batch 600/937 | Cost: 0.1083\n",
            "Epoch: 005/005 | Batch 640/937 | Cost: 0.0434\n",
            "Epoch: 005/005 | Batch 680/937 | Cost: 0.1236\n",
            "Epoch: 005/005 | Batch 720/937 | Cost: 0.1237\n",
            "Epoch: 005/005 | Batch 760/937 | Cost: 0.0204\n",
            "Epoch: 005/005 | Batch 800/937 | Cost: 0.1242\n",
            "Epoch: 005/005 | Batch 840/937 | Cost: 0.0848\n",
            "Epoch: 005/005 | Batch 880/937 | Cost: 0.0860\n",
            "Epoch: 005/005 | Batch 920/937 | Cost: 0.1750\n",
            "Epoch: 005/005 Train Acc.: 97.34% | Test Acc.: 96.72%\n",
            "Time elapsed: 2.08 min\n",
            "Total Training Time: 2.08 min\n"
          ],
          "name": "stdout"
        }
      ]
    },
    {
      "cell_type": "markdown",
      "metadata": {
        "id": "02201bb2"
      },
      "source": [
        "## 2-3. Evaluation\n",
        "테스트 데이터와 학습 데이터의 Loss 변화를 확인 합니다."
      ],
      "id": "02201bb2"
    },
    {
      "cell_type": "code",
      "metadata": {
        "colab": {
          "base_uri": "https://localhost:8080/",
          "height": 279
        },
        "id": "88d756c7",
        "outputId": "77428d70-32de-4af3-bf1c-f436736e2d90"
      },
      "source": [
        "plt.plot(range(1, NUM_EPOCHS+1), train_loss_lst, label='Training loss')\n",
        "plt.plot(range(1, NUM_EPOCHS+1), test_loss_lst, label='Test loss')\n",
        "plt.legend(loc='upper right')\n",
        "plt.ylabel('Cross entropy')\n",
        "plt.xlabel('Epoch')\n",
        "plt.show()"
      ],
      "id": "88d756c7",
      "execution_count": 23,
      "outputs": [
        {
          "output_type": "display_data",
          "data": {
            "image/png": "[encoded data removed]",
            "text/plain": [
              "<Figure size 432x288 with 1 Axes>"
            ]
          },
          "metadata": {
            "tags": [],
            "needs_background": "light"
          }
        }
      ]
    },
    {
      "cell_type": "code",
      "metadata": {
        "colab": {
          "base_uri": "https://localhost:8080/",
          "height": 282
        },
        "id": "3b3a090f",
        "outputId": "6dd7b0ec-ed1b-4be9-d7a9-d1c693546100"
      },
      "source": [
        "plt.plot(range(1, NUM_EPOCHS+1), train_acc_lst, label='Training accuracy')\n",
        "plt.plot(range(1, NUM_EPOCHS+1), test_acc_lst, label='Test accuracy')\n",
        "plt.legend(loc='upper left')\n",
        "plt.ylabel('Cross entropy')\n",
        "plt.xlabel('Epoch')\n",
        "plt.show()"
      ],
      "id": "3b3a090f",
      "execution_count": 24,
      "outputs": [
        {
          "output_type": "display_data",
          "data": {
            "image/png": "[encoded data removed]",
            "text/plain": [
              "<Figure size 432x288 with 1 Axes>"
            ]
          },
          "metadata": {
            "tags": [],
            "needs_background": "light"
          }
        }
      ]
    },
    {
      "cell_type": "code",
      "metadata": {
        "colab": {
          "base_uri": "https://localhost:8080/"
        },
        "id": "ccfebc8d",
        "outputId": "e30ea964-da03-42a7-c411-91054075e60c"
      },
      "source": [
        "model.eval()\n",
        "with torch.set_grad_enabled(False): # save memory during inference\n",
        "    test_acc, test_loss = compute_accuracy_and_loss(model, test_loader, DEVICE)\n",
        "    print(f'Test accuracy: {test_acc:.2f}%')"
      ],
      "id": "ccfebc8d",
      "execution_count": 25,
      "outputs": [
        {
          "output_type": "stream",
          "text": [
            "Test accuracy: 96.72%\n"
          ],
          "name": "stdout"
        }
      ]
    },
    {
      "cell_type": "code",
      "metadata": {
        "colab": {
          "base_uri": "https://localhost:8080/",
          "height": 122
        },
        "id": "0886fd6a",
        "outputId": "44d01fe5-1019-4386-d897-c80f9bf304ed"
      },
      "source": [
        "for batch_idx, (x, y) in enumerate(test_loader):\n",
        "    x = x.to(DEVICE)\n",
        "    y = y.to(DEVICE)\n",
        "\n",
        "    x_numpy = x.numpy()\n",
        "    \n",
        "    fig, axes = plt.subplots(1, 5)\n",
        "    \n",
        "    for ax in axes:\n",
        "        index = random.randint(0, 64)\n",
        "        logits, probas = model(x[index].view(-1, 28*28))\n",
        "        _, predicted_labels = torch.max(probas, 1)\n",
        "        ax.imshow(x_numpy[index].reshape(28, 28))\n",
        "        ax.set_title(f'Label {predicted_labels[0]}')\n",
        "        \n",
        "    plt.show()\n",
        "    break"
      ],
      "id": "0886fd6a",
      "execution_count": 26,
      "outputs": [
        {
          "output_type": "display_data",
          "data": {
            "image/png": "[encoded data removed]",
            "text/plain": [
              "<Figure size 432x288 with 5 Axes>"
            ]
          },
          "metadata": {
            "tags": [],
            "needs_background": "light"
          }
        }
      ]
    },
    {
      "cell_type": "markdown",
      "metadata": {
        "id": "9606aff2"
      },
      "source": [
        "## 2-4. Discussion\n",
        "1. Train Data에 대한 정확도와, Test Data에 대한 정확도가 왜 다를까요?\n",
        "- *학습된 모델이 Train Data에 overfitting 되어 unseen data에서 좋은 성능을 내지 못함.*\n",
        "\n",
        "2. 다른 사람들은 정확도가 99퍼가 넘는 모델도 만들던데, DNN의 한계가 있다면 어떤 점이 있을까요? (Hint: 우리는 28x28의 이미지를 768x1로 쫙 펴서 넣어 줬습니다.)\n",
        "- *28x28 이미지를 1차원으로 펴주었기 때문에 28x28속 의미있는 데이터를 추출해내지 못함.*"
      ],
      "id": "9606aff2"
    },
    {
      "cell_type": "code",
      "metadata": {
        "id": "e72bd14c"
      },
      "source": [
        ""
      ],
      "id": "e72bd14c",
      "execution_count": 18,
      "outputs": []
    }
  ]
}