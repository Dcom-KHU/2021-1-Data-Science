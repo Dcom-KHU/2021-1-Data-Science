{
  "nbformat": 4,
  "nbformat_minor": 5,
  "metadata": {
    "kernelspec": {
      "name": "python3",
      "display_name": "Python 3.8.8 64-bit ('base': conda)"
    },
    "language_info": {
      "codemirror_mode": {
        "name": "ipython",
        "version": 3
      },
      "file_extension": ".py",
      "mimetype": "text/x-python",
      "name": "python",
      "nbconvert_exporter": "python",
      "pygments_lexer": "ipython3",
      "version": "3.8.8"
    },
    "interpreter": {
      "hash": "9335205e8ad8ed562baed80b9c891e71ad822cb3d940a6baaf9eca34007f6ee8"
    },
    "colab": {
      "name": "04~09-전현준.ipynb",
      "provenance": [],
      "collapsed_sections": []
    },
    "widgets": {
      "application/vnd.jupyter.widget-state+json": {
        "82c2a62983a34f5890d585093bcccfb1": {
          "model_module": "@jupyter-widgets/controls",
          "model_name": "HBoxModel",
          "state": {
            "_view_name": "HBoxView",
            "_dom_classes": [],
            "_model_name": "HBoxModel",
            "_view_module": "@jupyter-widgets/controls",
            "_model_module_version": "1.5.0",
            "_view_count": null,
            "_view_module_version": "1.5.0",
            "box_style": "",
            "layout": "IPY_MODEL_27aa52c2a5014a3fa948a11439ee2cf5",
            "_model_module": "@jupyter-widgets/controls",
            "children": [
              "IPY_MODEL_3561086e62724c81a1d186b75db3e2c7",
              "IPY_MODEL_6d1d7b2fa3284771b9468d8e037227e9"
            ]
          }
        },
        "27aa52c2a5014a3fa948a11439ee2cf5": {
          "model_module": "@jupyter-widgets/base",
          "model_name": "LayoutModel",
          "state": {
            "_view_name": "LayoutView",
            "grid_template_rows": null,
            "right": null,
            "justify_content": null,
            "_view_module": "@jupyter-widgets/base",
            "overflow": null,
            "_model_module_version": "1.2.0",
            "_view_count": null,
            "flex_flow": null,
            "width": null,
            "min_width": null,
            "border": null,
            "align_items": null,
            "bottom": null,
            "_model_module": "@jupyter-widgets/base",
            "top": null,
            "grid_column": null,
            "overflow_y": null,
            "overflow_x": null,
            "grid_auto_flow": null,
            "grid_area": null,
            "grid_template_columns": null,
            "flex": null,
            "_model_name": "LayoutModel",
            "justify_items": null,
            "grid_row": null,
            "max_height": null,
            "align_content": null,
            "visibility": null,
            "align_self": null,
            "height": null,
            "min_height": null,
            "padding": null,
            "grid_auto_rows": null,
            "grid_gap": null,
            "max_width": null,
            "order": null,
            "_view_module_version": "1.2.0",
            "grid_template_areas": null,
            "object_position": null,
            "object_fit": null,
            "grid_auto_columns": null,
            "margin": null,
            "display": null,
            "left": null
          }
        },
        "3561086e62724c81a1d186b75db3e2c7": {
          "model_module": "@jupyter-widgets/controls",
          "model_name": "FloatProgressModel",
          "state": {
            "_view_name": "ProgressView",
            "style": "IPY_MODEL_225d5577065444e4b76465125938f4fb",
            "_dom_classes": [],
            "description": "",
            "_model_name": "FloatProgressModel",
            "bar_style": "success",
            "max": 9912422,
            "_view_module": "@jupyter-widgets/controls",
            "_model_module_version": "1.5.0",
            "value": 9912422,
            "_view_count": null,
            "_view_module_version": "1.5.0",
            "orientation": "horizontal",
            "min": 0,
            "description_tooltip": null,
            "_model_module": "@jupyter-widgets/controls",
            "layout": "IPY_MODEL_c9d53194717c4c40a10f8d303b64beaa"
          }
        },
        "6d1d7b2fa3284771b9468d8e037227e9": {
          "model_module": "@jupyter-widgets/controls",
          "model_name": "HTMLModel",
          "state": {
            "_view_name": "HTMLView",
            "style": "IPY_MODEL_0771546331c649ea8bdd43d3573dd2de",
            "_dom_classes": [],
            "description": "",
            "_model_name": "HTMLModel",
            "placeholder": "​",
            "_view_module": "@jupyter-widgets/controls",
            "_model_module_version": "1.5.0",
            "value": " 9913344/? [00:02&lt;00:00, 3808747.84it/s]",
            "_view_count": null,
            "_view_module_version": "1.5.0",
            "description_tooltip": null,
            "_model_module": "@jupyter-widgets/controls",
            "layout": "IPY_MODEL_31173383ea4944f9a455654227408bef"
          }
        },
        "225d5577065444e4b76465125938f4fb": {
          "model_module": "@jupyter-widgets/controls",
          "model_name": "ProgressStyleModel",
          "state": {
            "_view_name": "StyleView",
            "_model_name": "ProgressStyleModel",
            "description_width": "initial",
            "_view_module": "@jupyter-widgets/base",
            "_model_module_version": "1.5.0",
            "_view_count": null,
            "_view_module_version": "1.2.0",
            "bar_color": null,
            "_model_module": "@jupyter-widgets/controls"
          }
        },
        "c9d53194717c4c40a10f8d303b64beaa": {
          "model_module": "@jupyter-widgets/base",
          "model_name": "LayoutModel",
          "state": {
            "_view_name": "LayoutView",
            "grid_template_rows": null,
            "right": null,
            "justify_content": null,
            "_view_module": "@jupyter-widgets/base",
            "overflow": null,
            "_model_module_version": "1.2.0",
            "_view_count": null,
            "flex_flow": null,
            "width": null,
            "min_width": null,
            "border": null,
            "align_items": null,
            "bottom": null,
            "_model_module": "@jupyter-widgets/base",
            "top": null,
            "grid_column": null,
            "overflow_y": null,
            "overflow_x": null,
            "grid_auto_flow": null,
            "grid_area": null,
            "grid_template_columns": null,
            "flex": null,
            "_model_name": "LayoutModel",
            "justify_items": null,
            "grid_row": null,
            "max_height": null,
            "align_content": null,
            "visibility": null,
            "align_self": null,
            "height": null,
            "min_height": null,
            "padding": null,
            "grid_auto_rows": null,
            "grid_gap": null,
            "max_width": null,
            "order": null,
            "_view_module_version": "1.2.0",
            "grid_template_areas": null,
            "object_position": null,
            "object_fit": null,
            "grid_auto_columns": null,
            "margin": null,
            "display": null,
            "left": null
          }
        },
        "0771546331c649ea8bdd43d3573dd2de": {
          "model_module": "@jupyter-widgets/controls",
          "model_name": "DescriptionStyleModel",
          "state": {
            "_view_name": "StyleView",
            "_model_name": "DescriptionStyleModel",
            "description_width": "",
            "_view_module": "@jupyter-widgets/base",
            "_model_module_version": "1.5.0",
            "_view_count": null,
            "_view_module_version": "1.2.0",
            "_model_module": "@jupyter-widgets/controls"
          }
        },
        "31173383ea4944f9a455654227408bef": {
          "model_module": "@jupyter-widgets/base",
          "model_name": "LayoutModel",
          "state": {
            "_view_name": "LayoutView",
            "grid_template_rows": null,
            "right": null,
            "justify_content": null,
            "_view_module": "@jupyter-widgets/base",
            "overflow": null,
            "_model_module_version": "1.2.0",
            "_view_count": null,
            "flex_flow": null,
            "width": null,
            "min_width": null,
            "border": null,
            "align_items": null,
            "bottom": null,
            "_model_module": "@jupyter-widgets/base",
            "top": null,
            "grid_column": null,
            "overflow_y": null,
            "overflow_x": null,
            "grid_auto_flow": null,
            "grid_area": null,
            "grid_template_columns": null,
            "flex": null,
            "_model_name": "LayoutModel",
            "justify_items": null,
            "grid_row": null,
            "max_height": null,
            "align_content": null,
            "visibility": null,
            "align_self": null,
            "height": null,
            "min_height": null,
            "padding": null,
            "grid_auto_rows": null,
            "grid_gap": null,
            "max_width": null,
            "order": null,
            "_view_module_version": "1.2.0",
            "grid_template_areas": null,
            "object_position": null,
            "object_fit": null,
            "grid_auto_columns": null,
            "margin": null,
            "display": null,
            "left": null
          }
        },
        "1b7e8fe4d54a4bf78bb133ea6f434512": {
          "model_module": "@jupyter-widgets/controls",
          "model_name": "HBoxModel",
          "state": {
            "_view_name": "HBoxView",
            "_dom_classes": [],
            "_model_name": "HBoxModel",
            "_view_module": "@jupyter-widgets/controls",
            "_model_module_version": "1.5.0",
            "_view_count": null,
            "_view_module_version": "1.5.0",
            "box_style": "",
            "layout": "IPY_MODEL_60786948ed4c48e582f3f6715fe25678",
            "_model_module": "@jupyter-widgets/controls",
            "children": [
              "IPY_MODEL_70f0677fb6264d50847c1fdf8e91954a",
              "IPY_MODEL_3e6a6a4b6bb34995b4098d7594bd091d"
            ]
          }
        },
        "60786948ed4c48e582f3f6715fe25678": {
          "model_module": "@jupyter-widgets/base",
          "model_name": "LayoutModel",
          "state": {
            "_view_name": "LayoutView",
            "grid_template_rows": null,
            "right": null,
            "justify_content": null,
            "_view_module": "@jupyter-widgets/base",
            "overflow": null,
            "_model_module_version": "1.2.0",
            "_view_count": null,
            "flex_flow": null,
            "width": null,
            "min_width": null,
            "border": null,
            "align_items": null,
            "bottom": null,
            "_model_module": "@jupyter-widgets/base",
            "top": null,
            "grid_column": null,
            "overflow_y": null,
            "overflow_x": null,
            "grid_auto_flow": null,
            "grid_area": null,
            "grid_template_columns": null,
            "flex": null,
            "_model_name": "LayoutModel",
            "justify_items": null,
            "grid_row": null,
            "max_height": null,
            "align_content": null,
            "visibility": null,
            "align_self": null,
            "height": null,
            "min_height": null,
            "padding": null,
            "grid_auto_rows": null,
            "grid_gap": null,
            "max_width": null,
            "order": null,
            "_view_module_version": "1.2.0",
            "grid_template_areas": null,
            "object_position": null,
            "object_fit": null,
            "grid_auto_columns": null,
            "margin": null,
            "display": null,
            "left": null
          }
        },
        "70f0677fb6264d50847c1fdf8e91954a": {
          "model_module": "@jupyter-widgets/controls",
          "model_name": "FloatProgressModel",
          "state": {
            "_view_name": "ProgressView",
            "style": "IPY_MODEL_193b9d22f4554f4bb8fb5ed4ada6ecd0",
            "_dom_classes": [],
            "description": "",
            "_model_name": "FloatProgressModel",
            "bar_style": "success",
            "max": 28881,
            "_view_module": "@jupyter-widgets/controls",
            "_model_module_version": "1.5.0",
            "value": 28881,
            "_view_count": null,
            "_view_module_version": "1.5.0",
            "orientation": "horizontal",
            "min": 0,
            "description_tooltip": null,
            "_model_module": "@jupyter-widgets/controls",
            "layout": "IPY_MODEL_0ad048739f7945af9db334d72920dd4f"
          }
        },
        "3e6a6a4b6bb34995b4098d7594bd091d": {
          "model_module": "@jupyter-widgets/controls",
          "model_name": "HTMLModel",
          "state": {
            "_view_name": "HTMLView",
            "style": "IPY_MODEL_3c21db84ce2e46d8ad14b74fd584f897",
            "_dom_classes": [],
            "description": "",
            "_model_name": "HTMLModel",
            "placeholder": "​",
            "_view_module": "@jupyter-widgets/controls",
            "_model_module_version": "1.5.0",
            "value": " 29696/? [00:01&lt;00:00, 26848.87it/s]",
            "_view_count": null,
            "_view_module_version": "1.5.0",
            "description_tooltip": null,
            "_model_module": "@jupyter-widgets/controls",
            "layout": "IPY_MODEL_2394078240ad423bb5ea29121c69b506"
          }
        },
        "193b9d22f4554f4bb8fb5ed4ada6ecd0": {
          "model_module": "@jupyter-widgets/controls",
          "model_name": "ProgressStyleModel",
          "state": {
            "_view_name": "StyleView",
            "_model_name": "ProgressStyleModel",
            "description_width": "initial",
            "_view_module": "@jupyter-widgets/base",
            "_model_module_version": "1.5.0",
            "_view_count": null,
            "_view_module_version": "1.2.0",
            "bar_color": null,
            "_model_module": "@jupyter-widgets/controls"
          }
        },
        "0ad048739f7945af9db334d72920dd4f": {
          "model_module": "@jupyter-widgets/base",
          "model_name": "LayoutModel",
          "state": {
            "_view_name": "LayoutView",
            "grid_template_rows": null,
            "right": null,
            "justify_content": null,
            "_view_module": "@jupyter-widgets/base",
            "overflow": null,
            "_model_module_version": "1.2.0",
            "_view_count": null,
            "flex_flow": null,
            "width": null,
            "min_width": null,
            "border": null,
            "align_items": null,
            "bottom": null,
            "_model_module": "@jupyter-widgets/base",
            "top": null,
            "grid_column": null,
            "overflow_y": null,
            "overflow_x": null,
            "grid_auto_flow": null,
            "grid_area": null,
            "grid_template_columns": null,
            "flex": null,
            "_model_name": "LayoutModel",
            "justify_items": null,
            "grid_row": null,
            "max_height": null,
            "align_content": null,
            "visibility": null,
            "align_self": null,
            "height": null,
            "min_height": null,
            "padding": null,
            "grid_auto_rows": null,
            "grid_gap": null,
            "max_width": null,
            "order": null,
            "_view_module_version": "1.2.0",
            "grid_template_areas": null,
            "object_position": null,
            "object_fit": null,
            "grid_auto_columns": null,
            "margin": null,
            "display": null,
            "left": null
          }
        },
        "3c21db84ce2e46d8ad14b74fd584f897": {
          "model_module": "@jupyter-widgets/controls",
          "model_name": "DescriptionStyleModel",
          "state": {
            "_view_name": "StyleView",
            "_model_name": "DescriptionStyleModel",
            "description_width": "",
            "_view_module": "@jupyter-widgets/base",
            "_model_module_version": "1.5.0",
            "_view_count": null,
            "_view_module_version": "1.2.0",
            "_model_module": "@jupyter-widgets/controls"
          }
        },
        "2394078240ad423bb5ea29121c69b506": {
          "model_module": "@jupyter-widgets/base",
          "model_name": "LayoutModel",
          "state": {
            "_view_name": "LayoutView",
            "grid_template_rows": null,
            "right": null,
            "justify_content": null,
            "_view_module": "@jupyter-widgets/base",
            "overflow": null,
            "_model_module_version": "1.2.0",
            "_view_count": null,
            "flex_flow": null,
            "width": null,
            "min_width": null,
            "border": null,
            "align_items": null,
            "bottom": null,
            "_model_module": "@jupyter-widgets/base",
            "top": null,
            "grid_column": null,
            "overflow_y": null,
            "overflow_x": null,
            "grid_auto_flow": null,
            "grid_area": null,
            "grid_template_columns": null,
            "flex": null,
            "_model_name": "LayoutModel",
            "justify_items": null,
            "grid_row": null,
            "max_height": null,
            "align_content": null,
            "visibility": null,
            "align_self": null,
            "height": null,
            "min_height": null,
            "padding": null,
            "grid_auto_rows": null,
            "grid_gap": null,
            "max_width": null,
            "order": null,
            "_view_module_version": "1.2.0",
            "grid_template_areas": null,
            "object_position": null,
            "object_fit": null,
            "grid_auto_columns": null,
            "margin": null,
            "display": null,
            "left": null
          }
        },
        "57726179f0d34867b470244bcfa0b21b": {
          "model_module": "@jupyter-widgets/controls",
          "model_name": "HBoxModel",
          "state": {
            "_view_name": "HBoxView",
            "_dom_classes": [],
            "_model_name": "HBoxModel",
            "_view_module": "@jupyter-widgets/controls",
            "_model_module_version": "1.5.0",
            "_view_count": null,
            "_view_module_version": "1.5.0",
            "box_style": "",
            "layout": "IPY_MODEL_576ffabedd234e8c893a08cf25e251b5",
            "_model_module": "@jupyter-widgets/controls",
            "children": [
              "IPY_MODEL_80efea76569f4b109f3cc0826a366987",
              "IPY_MODEL_ff6787bbb7b54bd6b964489e77af4e30"
            ]
          }
        },
        "576ffabedd234e8c893a08cf25e251b5": {
          "model_module": "@jupyter-widgets/base",
          "model_name": "LayoutModel",
          "state": {
            "_view_name": "LayoutView",
            "grid_template_rows": null,
            "right": null,
            "justify_content": null,
            "_view_module": "@jupyter-widgets/base",
            "overflow": null,
            "_model_module_version": "1.2.0",
            "_view_count": null,
            "flex_flow": null,
            "width": null,
            "min_width": null,
            "border": null,
            "align_items": null,
            "bottom": null,
            "_model_module": "@jupyter-widgets/base",
            "top": null,
            "grid_column": null,
            "overflow_y": null,
            "overflow_x": null,
            "grid_auto_flow": null,
            "grid_area": null,
            "grid_template_columns": null,
            "flex": null,
            "_model_name": "LayoutModel",
            "justify_items": null,
            "grid_row": null,
            "max_height": null,
            "align_content": null,
            "visibility": null,
            "align_self": null,
            "height": null,
            "min_height": null,
            "padding": null,
            "grid_auto_rows": null,
            "grid_gap": null,
            "max_width": null,
            "order": null,
            "_view_module_version": "1.2.0",
            "grid_template_areas": null,
            "object_position": null,
            "object_fit": null,
            "grid_auto_columns": null,
            "margin": null,
            "display": null,
            "left": null
          }
        },
        "80efea76569f4b109f3cc0826a366987": {
          "model_module": "@jupyter-widgets/controls",
          "model_name": "FloatProgressModel",
          "state": {
            "_view_name": "ProgressView",
            "style": "IPY_MODEL_c5f35d95fe7f4b6a8d6b9ed2d0fe0b45",
            "_dom_classes": [],
            "description": "",
            "_model_name": "FloatProgressModel",
            "bar_style": "success",
            "max": 1648877,
            "_view_module": "@jupyter-widgets/controls",
            "_model_module_version": "1.5.0",
            "value": 1648877,
            "_view_count": null,
            "_view_module_version": "1.5.0",
            "orientation": "horizontal",
            "min": 0,
            "description_tooltip": null,
            "_model_module": "@jupyter-widgets/controls",
            "layout": "IPY_MODEL_5bc2f3217e1948e4a6f87fbbbf186cce"
          }
        },
        "ff6787bbb7b54bd6b964489e77af4e30": {
          "model_module": "@jupyter-widgets/controls",
          "model_name": "HTMLModel",
          "state": {
            "_view_name": "HTMLView",
            "style": "IPY_MODEL_6ad5371922b744378b2ce54a9e8792b6",
            "_dom_classes": [],
            "description": "",
            "_model_name": "HTMLModel",
            "placeholder": "​",
            "_view_module": "@jupyter-widgets/controls",
            "_model_module_version": "1.5.0",
            "value": " 1649664/? [00:00&lt;00:00, 2953529.54it/s]",
            "_view_count": null,
            "_view_module_version": "1.5.0",
            "description_tooltip": null,
            "_model_module": "@jupyter-widgets/controls",
            "layout": "IPY_MODEL_f46239f2712b4f4e97215a60c1776d99"
          }
        },
        "c5f35d95fe7f4b6a8d6b9ed2d0fe0b45": {
          "model_module": "@jupyter-widgets/controls",
          "model_name": "ProgressStyleModel",
          "state": {
            "_view_name": "StyleView",
            "_model_name": "ProgressStyleModel",
            "description_width": "initial",
            "_view_module": "@jupyter-widgets/base",
            "_model_module_version": "1.5.0",
            "_view_count": null,
            "_view_module_version": "1.2.0",
            "bar_color": null,
            "_model_module": "@jupyter-widgets/controls"
          }
        },
        "5bc2f3217e1948e4a6f87fbbbf186cce": {
          "model_module": "@jupyter-widgets/base",
          "model_name": "LayoutModel",
          "state": {
            "_view_name": "LayoutView",
            "grid_template_rows": null,
            "right": null,
            "justify_content": null,
            "_view_module": "@jupyter-widgets/base",
            "overflow": null,
            "_model_module_version": "1.2.0",
            "_view_count": null,
            "flex_flow": null,
            "width": null,
            "min_width": null,
            "border": null,
            "align_items": null,
            "bottom": null,
            "_model_module": "@jupyter-widgets/base",
            "top": null,
            "grid_column": null,
            "overflow_y": null,
            "overflow_x": null,
            "grid_auto_flow": null,
            "grid_area": null,
            "grid_template_columns": null,
            "flex": null,
            "_model_name": "LayoutModel",
            "justify_items": null,
            "grid_row": null,
            "max_height": null,
            "align_content": null,
            "visibility": null,
            "align_self": null,
            "height": null,
            "min_height": null,
            "padding": null,
            "grid_auto_rows": null,
            "grid_gap": null,
            "max_width": null,
            "order": null,
            "_view_module_version": "1.2.0",
            "grid_template_areas": null,
            "object_position": null,
            "object_fit": null,
            "grid_auto_columns": null,
            "margin": null,
            "display": null,
            "left": null
          }
        },
        "6ad5371922b744378b2ce54a9e8792b6": {
          "model_module": "@jupyter-widgets/controls",
          "model_name": "DescriptionStyleModel",
          "state": {
            "_view_name": "StyleView",
            "_model_name": "DescriptionStyleModel",
            "description_width": "",
            "_view_module": "@jupyter-widgets/base",
            "_model_module_version": "1.5.0",
            "_view_count": null,
            "_view_module_version": "1.2.0",
            "_model_module": "@jupyter-widgets/controls"
          }
        },
        "f46239f2712b4f4e97215a60c1776d99": {
          "model_module": "@jupyter-widgets/base",
          "model_name": "LayoutModel",
          "state": {
            "_view_name": "LayoutView",
            "grid_template_rows": null,
            "right": null,
            "justify_content": null,
            "_view_module": "@jupyter-widgets/base",
            "overflow": null,
            "_model_module_version": "1.2.0",
            "_view_count": null,
            "flex_flow": null,
            "width": null,
            "min_width": null,
            "border": null,
            "align_items": null,
            "bottom": null,
            "_model_module": "@jupyter-widgets/base",
            "top": null,
            "grid_column": null,
            "overflow_y": null,
            "overflow_x": null,
            "grid_auto_flow": null,
            "grid_area": null,
            "grid_template_columns": null,
            "flex": null,
            "_model_name": "LayoutModel",
            "justify_items": null,
            "grid_row": null,
            "max_height": null,
            "align_content": null,
            "visibility": null,
            "align_self": null,
            "height": null,
            "min_height": null,
            "padding": null,
            "grid_auto_rows": null,
            "grid_gap": null,
            "max_width": null,
            "order": null,
            "_view_module_version": "1.2.0",
            "grid_template_areas": null,
            "object_position": null,
            "object_fit": null,
            "grid_auto_columns": null,
            "margin": null,
            "display": null,
            "left": null
          }
        },
        "600d5290e34b4ccd989083c0d4546b30": {
          "model_module": "@jupyter-widgets/controls",
          "model_name": "HBoxModel",
          "state": {
            "_view_name": "HBoxView",
            "_dom_classes": [],
            "_model_name": "HBoxModel",
            "_view_module": "@jupyter-widgets/controls",
            "_model_module_version": "1.5.0",
            "_view_count": null,
            "_view_module_version": "1.5.0",
            "box_style": "",
            "layout": "IPY_MODEL_fef4ff27999f411f881a1a6ac43c16b8",
            "_model_module": "@jupyter-widgets/controls",
            "children": [
              "IPY_MODEL_58fd5f18cd42486ab211af2497ff7466",
              "IPY_MODEL_d3bfacc5a0e9485c96a7eedae919b84f"
            ]
          }
        },
        "fef4ff27999f411f881a1a6ac43c16b8": {
          "model_module": "@jupyter-widgets/base",
          "model_name": "LayoutModel",
          "state": {
            "_view_name": "LayoutView",
            "grid_template_rows": null,
            "right": null,
            "justify_content": null,
            "_view_module": "@jupyter-widgets/base",
            "overflow": null,
            "_model_module_version": "1.2.0",
            "_view_count": null,
            "flex_flow": null,
            "width": null,
            "min_width": null,
            "border": null,
            "align_items": null,
            "bottom": null,
            "_model_module": "@jupyter-widgets/base",
            "top": null,
            "grid_column": null,
            "overflow_y": null,
            "overflow_x": null,
            "grid_auto_flow": null,
            "grid_area": null,
            "grid_template_columns": null,
            "flex": null,
            "_model_name": "LayoutModel",
            "justify_items": null,
            "grid_row": null,
            "max_height": null,
            "align_content": null,
            "visibility": null,
            "align_self": null,
            "height": null,
            "min_height": null,
            "padding": null,
            "grid_auto_rows": null,
            "grid_gap": null,
            "max_width": null,
            "order": null,
            "_view_module_version": "1.2.0",
            "grid_template_areas": null,
            "object_position": null,
            "object_fit": null,
            "grid_auto_columns": null,
            "margin": null,
            "display": null,
            "left": null
          }
        },
        "58fd5f18cd42486ab211af2497ff7466": {
          "model_module": "@jupyter-widgets/controls",
          "model_name": "FloatProgressModel",
          "state": {
            "_view_name": "ProgressView",
            "style": "IPY_MODEL_8cf4d85041614aa686ba2add2839887e",
            "_dom_classes": [],
            "description": "",
            "_model_name": "FloatProgressModel",
            "bar_style": "success",
            "max": 4542,
            "_view_module": "@jupyter-widgets/controls",
            "_model_module_version": "1.5.0",
            "value": 4542,
            "_view_count": null,
            "_view_module_version": "1.5.0",
            "orientation": "horizontal",
            "min": 0,
            "description_tooltip": null,
            "_model_module": "@jupyter-widgets/controls",
            "layout": "IPY_MODEL_f7122e56569c4468a31caeef65f67d6e"
          }
        },
        "d3bfacc5a0e9485c96a7eedae919b84f": {
          "model_module": "@jupyter-widgets/controls",
          "model_name": "HTMLModel",
          "state": {
            "_view_name": "HTMLView",
            "style": "IPY_MODEL_4b9e91023bc342578cb8a93cf92cd0b4",
            "_dom_classes": [],
            "description": "",
            "_model_name": "HTMLModel",
            "placeholder": "​",
            "_view_module": "@jupyter-widgets/controls",
            "_model_module_version": "1.5.0",
            "value": " 5120/? [00:00&lt;00:00, 15504.10it/s]",
            "_view_count": null,
            "_view_module_version": "1.5.0",
            "description_tooltip": null,
            "_model_module": "@jupyter-widgets/controls",
            "layout": "IPY_MODEL_75d6b660c7bb447eb750191355198875"
          }
        },
        "8cf4d85041614aa686ba2add2839887e": {
          "model_module": "@jupyter-widgets/controls",
          "model_name": "ProgressStyleModel",
          "state": {
            "_view_name": "StyleView",
            "_model_name": "ProgressStyleModel",
            "description_width": "initial",
            "_view_module": "@jupyter-widgets/base",
            "_model_module_version": "1.5.0",
            "_view_count": null,
            "_view_module_version": "1.2.0",
            "bar_color": null,
            "_model_module": "@jupyter-widgets/controls"
          }
        },
        "f7122e56569c4468a31caeef65f67d6e": {
          "model_module": "@jupyter-widgets/base",
          "model_name": "LayoutModel",
          "state": {
            "_view_name": "LayoutView",
            "grid_template_rows": null,
            "right": null,
            "justify_content": null,
            "_view_module": "@jupyter-widgets/base",
            "overflow": null,
            "_model_module_version": "1.2.0",
            "_view_count": null,
            "flex_flow": null,
            "width": null,
            "min_width": null,
            "border": null,
            "align_items": null,
            "bottom": null,
            "_model_module": "@jupyter-widgets/base",
            "top": null,
            "grid_column": null,
            "overflow_y": null,
            "overflow_x": null,
            "grid_auto_flow": null,
            "grid_area": null,
            "grid_template_columns": null,
            "flex": null,
            "_model_name": "LayoutModel",
            "justify_items": null,
            "grid_row": null,
            "max_height": null,
            "align_content": null,
            "visibility": null,
            "align_self": null,
            "height": null,
            "min_height": null,
            "padding": null,
            "grid_auto_rows": null,
            "grid_gap": null,
            "max_width": null,
            "order": null,
            "_view_module_version": "1.2.0",
            "grid_template_areas": null,
            "object_position": null,
            "object_fit": null,
            "grid_auto_columns": null,
            "margin": null,
            "display": null,
            "left": null
          }
        },
        "4b9e91023bc342578cb8a93cf92cd0b4": {
          "model_module": "@jupyter-widgets/controls",
          "model_name": "DescriptionStyleModel",
          "state": {
            "_view_name": "StyleView",
            "_model_name": "DescriptionStyleModel",
            "description_width": "",
            "_view_module": "@jupyter-widgets/base",
            "_model_module_version": "1.5.0",
            "_view_count": null,
            "_view_module_version": "1.2.0",
            "_model_module": "@jupyter-widgets/controls"
          }
        },
        "75d6b660c7bb447eb750191355198875": {
          "model_module": "@jupyter-widgets/base",
          "model_name": "LayoutModel",
          "state": {
            "_view_name": "LayoutView",
            "grid_template_rows": null,
            "right": null,
            "justify_content": null,
            "_view_module": "@jupyter-widgets/base",
            "overflow": null,
            "_model_module_version": "1.2.0",
            "_view_count": null,
            "flex_flow": null,
            "width": null,
            "min_width": null,
            "border": null,
            "align_items": null,
            "bottom": null,
            "_model_module": "@jupyter-widgets/base",
            "top": null,
            "grid_column": null,
            "overflow_y": null,
            "overflow_x": null,
            "grid_auto_flow": null,
            "grid_area": null,
            "grid_template_columns": null,
            "flex": null,
            "_model_name": "LayoutModel",
            "justify_items": null,
            "grid_row": null,
            "max_height": null,
            "align_content": null,
            "visibility": null,
            "align_self": null,
            "height": null,
            "min_height": null,
            "padding": null,
            "grid_auto_rows": null,
            "grid_gap": null,
            "max_width": null,
            "order": null,
            "_view_module_version": "1.2.0",
            "grid_template_areas": null,
            "object_position": null,
            "object_fit": null,
            "grid_auto_columns": null,
            "margin": null,
            "display": null,
            "left": null
          }
        }
      }
    }
  },
  "cells": [
    {
      "cell_type": "markdown",
      "metadata": {
        "id": "S2ILrY9Rp-lR"
      },
      "source": [
        "## Module Import"
      ],
      "id": "S2ILrY9Rp-lR"
    },
    {
      "cell_type": "code",
      "metadata": {
        "id": "ngpKnV_1p-lW"
      },
      "source": [
        "import numpy as np\n",
        "import pandas as pd\n",
        "import matplotlib.pyplot as plt\n",
        "import sklearn"
      ],
      "id": "ngpKnV_1p-lW",
      "execution_count": 1,
      "outputs": []
    },
    {
      "cell_type": "markdown",
      "metadata": {
        "id": "OfASLMlTp-lX"
      },
      "source": [
        "## Assignment 1.\n",
        "우리는 붓꽃의 **꽃받침의 길이, 꽃받침의 너비, 꽃잎의 길이, 꽃잎의 너비**를 통해서, **꽃의 종류**를 구분 해 볼 것입니다. **Input**으로 주어 지는 데이터는 다음과 같습니다.\n",
        "\n",
        "- Sepal Length: 꽃받침의 길이 정보이다.\n",
        "- Sepal Width: 꽃받침의 너비 정보이다.\n",
        "- Petal Length: 꽃잎의 길이 정보이다.\n",
        "- Petal Width: 꽃잎의 너비 정보이다.\n",
        "- Species: 꽃의 종류 정보이다. **setosa / versicolor / virginica** 의 3종류로 구분된다."
      ],
      "id": "OfASLMlTp-lX"
    },
    {
      "cell_type": "code",
      "metadata": {
        "colab": {
          "base_uri": "https://localhost:8080/"
        },
        "id": "gXkmroFKp-lY",
        "outputId": "d2d155ce-6d8e-4d74-ed89-e8bdddc74161"
      },
      "source": [
        "from sklearn.datasets import load_iris\n",
        "from sklearn.model_selection import train_test_split\n",
        "\n",
        "data = load_iris()\n",
        "X_train, X_test, y_train, y_test = train_test_split(data.data, data.target, test_size=0.33, random_state=42, shuffle=True)\n",
        "\n",
        "print(\"X_train의 shape:\", X_train.shape)\n",
        "print(\"X_test의 shape:\", X_test.shape)\n",
        "print(\"y_train의 shape:\", y_train.shape)\n",
        "print(\"y_test의 shape:\", y_test.shape)"
      ],
      "id": "gXkmroFKp-lY",
      "execution_count": 2,
      "outputs": [
        {
          "output_type": "stream",
          "text": [
            "X_train의 shape: (100, 4)\n",
            "X_test의 shape: (50, 4)\n",
            "y_train의 shape: (100,)\n",
            "y_test의 shape: (50,)\n"
          ],
          "name": "stdout"
        }
      ]
    },
    {
      "cell_type": "markdown",
      "metadata": {
        "id": "6MBAHI4np-lZ"
      },
      "source": [
        "### 1-1. Data Normalization\n",
        "첫 번째로, 데이터를 정규화 하는 것이 중요 할 것 같습니다. 데이터를 정규화 해 보세요.\n",
        "\n",
        "(Min - Max 정규화를 이용하면 될 것 같죠? hint: ndarray.min(), ndarray.max())"
      ],
      "id": "6MBAHI4np-lZ"
    },
    {
      "cell_type": "code",
      "metadata": {
        "colab": {
          "base_uri": "https://localhost:8080/"
        },
        "id": "TO9jJoskp-la",
        "outputId": "0feaf218-d9ca-4ee4-f7dd-e3e9b087aefe"
      },
      "source": [
        "X_train = (X_train - X_train.min()) / (X_train.max() - X_train.min())\n",
        "X_test = (X_test - X_test.min()) / (X_test.max() - X_test.min())\n",
        "print(X_train[:10])"
      ],
      "id": "TO9jJoskp-la",
      "execution_count": 3,
      "outputs": [
        {
          "output_type": "stream",
          "text": [
            "[[0.73684211 0.36842105 0.53947368 0.15789474]\n",
            " [0.98684211 0.38157895 0.85526316 0.26315789]\n",
            " [0.72368421 0.38157895 0.57894737 0.18421053]\n",
            " [0.65789474 0.44736842 0.17105263 0.01315789]\n",
            " [1.         0.35526316 0.86842105 0.25      ]\n",
            " [0.75       0.34210526 0.52631579 0.11842105]\n",
            " [0.67105263 0.43421053 0.17105263 0.01315789]\n",
            " [0.64473684 0.44736842 0.15789474 0.02631579]\n",
            " [0.65789474 0.48684211 0.23684211 0.03947368]\n",
            " [0.64473684 0.25       0.44736842 0.11842105]]\n"
          ],
          "name": "stdout"
        }
      ]
    },
    {
      "cell_type": "markdown",
      "metadata": {
        "id": "VKTNEbGzp-la"
      },
      "source": [
        "## 1-2. Data Training\n",
        "그 다음으로는 이제 데이터를 학습 시킬 시간입니다! SVM 모듈을 import 한 후, 학습을 시켜 보도록 하겠습니다."
      ],
      "id": "VKTNEbGzp-la"
    },
    {
      "cell_type": "code",
      "metadata": {
        "colab": {
          "base_uri": "https://localhost:8080/"
        },
        "id": "EZilGBN9p-lb",
        "outputId": "99412cd8-1051-476c-a3ad-a9efee581eba"
      },
      "source": [
        "from sklearn.svm import SVC\n",
        "\n",
        "svm = SVC(C=2)\n",
        "svm.fit(X_train,y_train)\n",
        "\n",
        "accuracy = (sum(svm.predict(X_test) == y_test) / 50) * 100\n",
        "print(f'정확도 (accuracy): {accuracy}%')"
      ],
      "id": "EZilGBN9p-lb",
      "execution_count": 4,
      "outputs": [
        {
          "output_type": "stream",
          "text": [
            "정확도 (accuracy): 100.0%\n"
          ],
          "name": "stdout"
        }
      ]
    },
    {
      "cell_type": "markdown",
      "metadata": {
        "id": "hg9Hdouip-lb"
      },
      "source": [
        "## Assignment 2.\n",
        "다음은 **MNIST 데이터**에 대해 분류를 해보는 연습을 해 보겠습니다. **MNIST**는 손글씨 데이터로, **Input Data**는 [28 x 28]의 데이터로 이루어져 있습니다. 일단, 우리가 이를 학습 시키기 전에 한번 데이터를 확인 해 볼까요?\n",
        "\n",
        "이 예제는 DNN을 이용하기 때문에, **Pytorch**로 진행 하겠습니다. 실습은 **Hyperparameter**만 고치면 됩니다.\n",
        "\n",
        "**학습률 95%에 도전 해 보세요!**"
      ],
      "id": "hg9Hdouip-lb"
    },
    {
      "cell_type": "code",
      "metadata": {
        "id": "krPyAtgyp-lc"
      },
      "source": [
        "import time\n",
        "import random\n",
        "import torch\n",
        "import torch.nn as nn\n",
        "from torchvision.datasets import MNIST\n",
        "from torchvision import transforms\n",
        "from torch.utils.data import DataLoader\n",
        "import torch.nn.functional as F"
      ],
      "id": "krPyAtgyp-lc",
      "execution_count": 5,
      "outputs": []
    },
    {
      "cell_type": "code",
      "metadata": {
        "colab": {
          "base_uri": "https://localhost:8080/"
        },
        "id": "CDKMst1tp-ld",
        "outputId": "05a6025b-d33c-4908-c384-78d6f100c1ba"
      },
      "source": [
        "# 이 부분은 절대 변경하지 마세요.\n",
        "\n",
        "RANDOM_SEED = 123\n",
        "DEVICE = torch.device('cuda:0' if torch.cuda.is_available() else 'cpu')\n",
        "\n",
        "random.seed(RANDOM_SEED)\n",
        "torch.manual_seed(RANDOM_SEED)"
      ],
      "id": "CDKMst1tp-ld",
      "execution_count": 6,
      "outputs": [
        {
          "output_type": "execute_result",
          "data": {
            "text/plain": [
              "<torch._C.Generator at 0x7f5df3f262b0>"
            ]
          },
          "metadata": {
            "tags": []
          },
          "execution_count": 6
        }
      ]
    },
    {
      "cell_type": "markdown",
      "metadata": {
        "id": "mRzPfZxJp-ld"
      },
      "source": [
        "## 2-0. Data Load\n",
        "데이터를 불러와 보겠습니다. `transforms.Compose`를 이용하여, 데이터를 pytorch에서 사용하는 **Tensor**형으로 바꾸고, 이를 **Gaussian Distribution**으로 정규화합니다."
      ],
      "id": "mRzPfZxJp-ld"
    },
    {
      "cell_type": "code",
      "metadata": {
        "id": "L_4obvg5p-ld"
      },
      "source": [
        "# 수정 가능한 셀입니다.\n",
        "BATCH_SIZE = 64  # 60000을 사용하면, Full-Batch 학습을 진행 합니다."
      ],
      "id": "L_4obvg5p-ld",
      "execution_count": 7,
      "outputs": []
    },
    {
      "cell_type": "code",
      "metadata": {
        "id": "dm50u7NBp-le"
      },
      "source": [
        "# Don't Touch!\n",
        "custom_train_transform = transforms.Compose([  \n",
        "                                             transforms.ToTensor(),\n",
        "                                             transforms.Normalize(mean=(0.5,), std=(0.5,))\n",
        "])\n",
        "\n",
        "custom_test_transform = transforms.Compose([\n",
        "                                             transforms.ToTensor(),\n",
        "                                             transforms.Normalize(mean=(0.5,), std=(0.5,))\n",
        "])"
      ],
      "id": "dm50u7NBp-le",
      "execution_count": 8,
      "outputs": []
    },
    {
      "cell_type": "markdown",
      "metadata": {
        "id": "hQgF-D2lp-le"
      },
      "source": [
        "`MNIST`를 이용하여 **MNIST** 데이터를 불러 오고, 이를 transform 해 줍니다. 또한, `DataLoader`를 이용하여, 셔플을 해준 후, 미니 배치를 생성 합니다."
      ],
      "id": "hQgF-D2lp-le"
    },
    {
      "cell_type": "code",
      "metadata": {
        "id": "1yG-2V8Up-lf",
        "colab": {
          "base_uri": "https://localhost:8080/",
          "height": 813,
          "referenced_widgets": [
            "82c2a62983a34f5890d585093bcccfb1",
            "27aa52c2a5014a3fa948a11439ee2cf5",
            "3561086e62724c81a1d186b75db3e2c7",
            "6d1d7b2fa3284771b9468d8e037227e9",
            "225d5577065444e4b76465125938f4fb",
            "c9d53194717c4c40a10f8d303b64beaa",
            "0771546331c649ea8bdd43d3573dd2de",
            "31173383ea4944f9a455654227408bef",
            "1b7e8fe4d54a4bf78bb133ea6f434512",
            "60786948ed4c48e582f3f6715fe25678",
            "70f0677fb6264d50847c1fdf8e91954a",
            "3e6a6a4b6bb34995b4098d7594bd091d",
            "193b9d22f4554f4bb8fb5ed4ada6ecd0",
            "0ad048739f7945af9db334d72920dd4f",
            "3c21db84ce2e46d8ad14b74fd584f897",
            "2394078240ad423bb5ea29121c69b506",
            "57726179f0d34867b470244bcfa0b21b",
            "576ffabedd234e8c893a08cf25e251b5",
            "80efea76569f4b109f3cc0826a366987",
            "ff6787bbb7b54bd6b964489e77af4e30",
            "c5f35d95fe7f4b6a8d6b9ed2d0fe0b45",
            "5bc2f3217e1948e4a6f87fbbbf186cce",
            "6ad5371922b744378b2ce54a9e8792b6",
            "f46239f2712b4f4e97215a60c1776d99",
            "600d5290e34b4ccd989083c0d4546b30",
            "fef4ff27999f411f881a1a6ac43c16b8",
            "58fd5f18cd42486ab211af2497ff7466",
            "d3bfacc5a0e9485c96a7eedae919b84f",
            "8cf4d85041614aa686ba2add2839887e",
            "f7122e56569c4468a31caeef65f67d6e",
            "4b9e91023bc342578cb8a93cf92cd0b4",
            "75d6b660c7bb447eb750191355198875"
          ]
        },
        "outputId": "8b774ca3-661f-4f73-cc0d-2be402d0fae9"
      },
      "source": [
        "train_dataset = MNIST(\".\", train=True, download=True, transform=custom_train_transform)\n",
        "\n",
        "train_loader = DataLoader(dataset=train_dataset,\n",
        "                          batch_size=BATCH_SIZE,\n",
        "                          shuffle=True,\n",
        "                          drop_last=True,\n",
        "                          num_workers=2)\n",
        "\n",
        "\n",
        "test_dataset = MNIST(\".\", train=False, download=True, transform=custom_test_transform)\n",
        "\n",
        "test_loader = DataLoader(dataset=test_dataset,\n",
        "                         batch_size=BATCH_SIZE,\n",
        "                         shuffle=False,\n",
        "                         num_workers=2)"
      ],
      "id": "1yG-2V8Up-lf",
      "execution_count": 9,
      "outputs": [
        {
          "output_type": "stream",
          "text": [
            "Downloading http://yann.lecun.com/exdb/mnist/train-images-idx3-ubyte.gz\n",
            "Downloading http://yann.lecun.com/exdb/mnist/train-images-idx3-ubyte.gz to ./MNIST/raw/train-images-idx3-ubyte.gz\n",
            "Failed to download (trying next):\n",
            "HTTP Error 503: Service Unavailable\n",
            "\n",
            "Downloading https://ossci-datasets.s3.amazonaws.com/mnist/train-images-idx3-ubyte.gz\n",
            "Downloading https://ossci-datasets.s3.amazonaws.com/mnist/train-images-idx3-ubyte.gz to ./MNIST/raw/train-images-idx3-ubyte.gz\n"
          ],
          "name": "stdout"
        },
        {
          "output_type": "display_data",
          "data": {
            "application/vnd.jupyter.widget-view+json": {
              "model_id": "82c2a62983a34f5890d585093bcccfb1",
              "version_minor": 0,
              "version_major": 2
            },
            "text/plain": [
              "HBox(children=(FloatProgress(value=0.0, max=9912422.0), HTML(value='')))"
            ]
          },
          "metadata": {
            "tags": []
          }
        },
        {
          "output_type": "stream",
          "text": [
            "\n",
            "Extracting ./MNIST/raw/train-images-idx3-ubyte.gz to ./MNIST/raw\n",
            "\n",
            "Downloading http://yann.lecun.com/exdb/mnist/train-labels-idx1-ubyte.gz\n",
            "Downloading http://yann.lecun.com/exdb/mnist/train-labels-idx1-ubyte.gz to ./MNIST/raw/train-labels-idx1-ubyte.gz\n"
          ],
          "name": "stdout"
        },
        {
          "output_type": "display_data",
          "data": {
            "application/vnd.jupyter.widget-view+json": {
              "model_id": "1b7e8fe4d54a4bf78bb133ea6f434512",
              "version_minor": 0,
              "version_major": 2
            },
            "text/plain": [
              "HBox(children=(FloatProgress(value=0.0, max=28881.0), HTML(value='')))"
            ]
          },
          "metadata": {
            "tags": []
          }
        },
        {
          "output_type": "stream",
          "text": [
            "\n",
            "Extracting ./MNIST/raw/train-labels-idx1-ubyte.gz to ./MNIST/raw\n",
            "\n",
            "Downloading http://yann.lecun.com/exdb/mnist/t10k-images-idx3-ubyte.gz\n",
            "Downloading http://yann.lecun.com/exdb/mnist/t10k-images-idx3-ubyte.gz to ./MNIST/raw/t10k-images-idx3-ubyte.gz\n",
            "Failed to download (trying next):\n",
            "HTTP Error 503: Service Unavailable\n",
            "\n",
            "Downloading https://ossci-datasets.s3.amazonaws.com/mnist/t10k-images-idx3-ubyte.gz\n",
            "Downloading https://ossci-datasets.s3.amazonaws.com/mnist/t10k-images-idx3-ubyte.gz to ./MNIST/raw/t10k-images-idx3-ubyte.gz\n"
          ],
          "name": "stdout"
        },
        {
          "output_type": "display_data",
          "data": {
            "application/vnd.jupyter.widget-view+json": {
              "model_id": "57726179f0d34867b470244bcfa0b21b",
              "version_minor": 0,
              "version_major": 2
            },
            "text/plain": [
              "HBox(children=(FloatProgress(value=0.0, max=1648877.0), HTML(value='')))"
            ]
          },
          "metadata": {
            "tags": []
          }
        },
        {
          "output_type": "stream",
          "text": [
            "\n",
            "Extracting ./MNIST/raw/t10k-images-idx3-ubyte.gz to ./MNIST/raw\n",
            "\n",
            "Downloading http://yann.lecun.com/exdb/mnist/t10k-labels-idx1-ubyte.gz\n",
            "Failed to download (trying next):\n",
            "HTTP Error 503: Service Unavailable\n",
            "\n",
            "Downloading https://ossci-datasets.s3.amazonaws.com/mnist/t10k-labels-idx1-ubyte.gz\n",
            "Downloading https://ossci-datasets.s3.amazonaws.com/mnist/t10k-labels-idx1-ubyte.gz to ./MNIST/raw/t10k-labels-idx1-ubyte.gz\n"
          ],
          "name": "stdout"
        },
        {
          "output_type": "display_data",
          "data": {
            "application/vnd.jupyter.widget-view+json": {
              "model_id": "600d5290e34b4ccd989083c0d4546b30",
              "version_minor": 0,
              "version_major": 2
            },
            "text/plain": [
              "HBox(children=(FloatProgress(value=0.0, max=4542.0), HTML(value='')))"
            ]
          },
          "metadata": {
            "tags": []
          }
        },
        {
          "output_type": "stream",
          "text": [
            "\n",
            "Extracting ./MNIST/raw/t10k-labels-idx1-ubyte.gz to ./MNIST/raw\n",
            "\n"
          ],
          "name": "stdout"
        },
        {
          "output_type": "stream",
          "text": [
            "/usr/local/lib/python3.7/dist-packages/torchvision/datasets/mnist.py:498: UserWarning: The given NumPy array is not writeable, and PyTorch does not support non-writeable tensors. This means you can write to the underlying (supposedly non-writeable) NumPy array using the tensor. You may want to copy the array to protect its data or make it writeable before converting it to a tensor. This type of warning will be suppressed for the rest of this program. (Triggered internally at  /pytorch/torch/csrc/utils/tensor_numpy.cpp:180.)\n",
            "  return torch.from_numpy(parsed.astype(m[2], copy=False)).view(*s)\n"
          ],
          "name": "stderr"
        }
      ]
    },
    {
      "cell_type": "markdown",
      "metadata": {
        "id": "Bn2MS_V4p-lf"
      },
      "source": [
        "데이터가 잘 들어 왔는지 확인 합니다."
      ],
      "id": "Bn2MS_V4p-lf"
    },
    {
      "cell_type": "code",
      "metadata": {
        "colab": {
          "base_uri": "https://localhost:8080/",
          "height": 335
        },
        "id": "7lUZidi5p-lf",
        "outputId": "fdc26d2c-0875-45e9-d435-48d722383b3a"
      },
      "source": [
        "for batch_idx, (x, y) in enumerate(train_loader):\n",
        "    print(' | Batch index:', batch_idx, end='')\n",
        "    print(' | Batch size:', y.size()[0])\n",
        "\n",
        "    x = x.to(DEVICE)\n",
        "    y = y.to(DEVICE)\n",
        "\n",
        "    x_numpy = x.numpy()\n",
        "    y_numpy = y.numpy()\n",
        "    print('input batch의 모양:', x_numpy.shape)\n",
        "    plt.imshow(x_numpy[0].reshape(28, 28))\n",
        "    plt.title(f'Label {y_numpy[0]}')\n",
        "    plt.show()\n",
        "\n",
        "    print('break minibatch for-loop')\n",
        "    break"
      ],
      "id": "7lUZidi5p-lf",
      "execution_count": 10,
      "outputs": [
        {
          "output_type": "stream",
          "text": [
            " | Batch index: 0 | Batch size: 64\n",
            "input batch의 모양: (64, 1, 28, 28)\n"
          ],
          "name": "stdout"
        },
        {
          "output_type": "display_data",
          "data": {
            "image/png": "[encoded data removed]",
            "text/plain": [
              "<Figure size 432x288 with 1 Axes>"
            ]
          },
          "metadata": {
            "tags": [],
            "needs_background": "light"
          }
        },
        {
          "output_type": "stream",
          "text": [
            "break minibatch for-loop\n"
          ],
          "name": "stdout"
        }
      ]
    },
    {
      "cell_type": "markdown",
      "metadata": {
        "id": "wGMKGsvnp-lg"
      },
      "source": [
        "## 2-1. Deep Neural Network\n",
        "아래 셀은 Deep Neural Network를 정의 합니다."
      ],
      "id": "wGMKGsvnp-lg"
    },
    {
      "cell_type": "code",
      "metadata": {
        "id": "IImGpGLdp-lg"
      },
      "source": [
        "# 변경 가능 합니다.\n",
        "class DNN(nn.Module):\n",
        "    def __init__(self, num_features, num_hidden_1, num_hidden_2, num_hidden_3, num_classes):\n",
        "        \"\"\"\n",
        "        num_features: input feature 갯수\n",
        "        num_hidden_1: 첫 번째 레이어의 노드 갯수\n",
        "        num_hidden_2: 두 번째 레이어의 노드 갯수\n",
        "        num_hidden_3: 세 번째 레이어의 노드 갯수\n",
        "        num_classes: 분류하고자 하는 class 갯수\n",
        "        \"\"\"\n",
        "        super(DNN, self).__init__()\n",
        "        \n",
        "        self.num_classes = num_classes\n",
        "        \n",
        "        # 수정 가능!: 레이어를 쌓는 법을 아신다면, 여기서 레이어를 쌓으셔도, 혹은 지우셔도 무방 합니다. (단, nn.Linear만)\n",
        "        self.linear_1 = nn.Linear(num_features, num_hidden_1)\n",
        "        self.linear_2 = nn.Linear(num_hidden_1, num_hidden_2)\n",
        "        self.linear_3 = nn.Linear(num_hidden_2, num_hidden_3)\n",
        "        self.linear_out = nn.Linear(num_hidden_3, num_classes)\n",
        "    \n",
        "    def forward(self, x):\n",
        "        out = self.linear_1(x)\n",
        "        out = torch.relu(out)\n",
        "        out = self.linear_2(out)\n",
        "        out = torch.relu(out)\n",
        "        out = self.linear_3(out)\n",
        "        out = torch.relu(out)\n",
        "        logits = self.linear_out(out)\n",
        "        probas = torch.sigmoid(logits)\n",
        "        return logits, probas\n",
        "\n",
        "# 수정 가능!\n",
        "model = DNN(num_features=28*28,\n",
        "        num_hidden_1=100,\n",
        "        num_hidden_2=50,\n",
        "        num_hidden_3=20,\n",
        "        num_classes=10)\n",
        "\n",
        "model = model.to(DEVICE)"
      ],
      "id": "IImGpGLdp-lg",
      "execution_count": 11,
      "outputs": []
    },
    {
      "cell_type": "markdown",
      "metadata": {
        "id": "f4gY5pvJp-lh"
      },
      "source": [
        "## 2-2. Training\n",
        "여기서는 **Optimizer**와, **Epoch**를 설정 합니다. "
      ],
      "id": "f4gY5pvJp-lh"
    },
    {
      "cell_type": "code",
      "metadata": {
        "id": "KSrjPFEGp-lh"
      },
      "source": [
        "# 수정 가능!\n",
        "LEARNING_LATE = 0.065\n",
        "NUM_EPOCHS = 20"
      ],
      "id": "KSrjPFEGp-lh",
      "execution_count": 12,
      "outputs": []
    },
    {
      "cell_type": "code",
      "metadata": {
        "id": "US-EDI7mp-li"
      },
      "source": [
        "optimizer = torch.optim.SGD(model.parameters(), lr=LEARNING_LATE)"
      ],
      "id": "US-EDI7mp-li",
      "execution_count": 13,
      "outputs": []
    },
    {
      "cell_type": "code",
      "metadata": {
        "colab": {
          "base_uri": "https://localhost:8080/"
        },
        "id": "4f2YYSeBp-li",
        "outputId": "06eaa130-51b6-4ada-8908-6efe705e30f6"
      },
      "source": [
        "def compute_accuracy_and_loss(model, data_loader, device):\n",
        "    correct_pred, num_examples = 0, 0\n",
        "    cross_entropy = 0.\n",
        "    for i, (features, targets) in enumerate(data_loader):\n",
        "            \n",
        "        features = features.view(-1, 28*28).to(device)\n",
        "        targets = targets.to(device)\n",
        "\n",
        "        logits, probas = model(features)\n",
        "        cross_entropy += F.cross_entropy(logits, targets).item()\n",
        "        _, predicted_labels = torch.max(probas, 1)\n",
        "        num_examples += targets.size(0)\n",
        "        correct_pred += (predicted_labels == targets).sum()\n",
        "    return correct_pred.float()/num_examples * 100, cross_entropy/num_examples\n",
        "    \n",
        "\n",
        "start_time = time.time()\n",
        "train_acc_lst, test_acc_lst = [], []\n",
        "train_loss_lst, test_loss_lst = [], []\n",
        "\n",
        "for epoch in range(NUM_EPOCHS):\n",
        "    \n",
        "    model.train()\n",
        "    \n",
        "    for batch_idx, (features, targets) in enumerate(train_loader):\n",
        "    \n",
        "        ### PREPARE MINIBATCH\n",
        "        features = features.view(-1, 28*28).to(DEVICE)\n",
        "        targets = targets.to(DEVICE)\n",
        "            \n",
        "        ### FORWARD AND BACK PROP\n",
        "        logits, probas = model(features)  # 모델 계산\n",
        "        cost = F.cross_entropy(logits, targets)  # 크로스 엔트로피 계산\n",
        "        optimizer.zero_grad()  # 기울기 초기화\n",
        "        \n",
        "        cost.backward()  # 역전파\n",
        "        \n",
        "        ### UPDATE MODEL PARAMETERS\n",
        "        optimizer.step()  # step 적용\n",
        "        \n",
        "        ### LOGGING\n",
        "        if not batch_idx % 40:\n",
        "            print (f'Epoch: {epoch+1:03d}/{NUM_EPOCHS:03d} | '\n",
        "                   f'Batch {batch_idx:03d}/{len(train_loader):03d} |' \n",
        "                   f' Cost: {cost:.4f}')\n",
        "\n",
        "    # 매 Epoch마다 evaluation을 진행합니다. \n",
        "    # Epoch마다 Loss를 기록하여 학습과정을 살펴보고 Underfitting, Overfitting 여부를 확인합니다.\n",
        "    model.eval()\n",
        "    with torch.set_grad_enabled(False): # Gradient 계산이 안되도록\n",
        "        train_acc, train_loss = compute_accuracy_and_loss(model, train_loader, device=DEVICE) # train acc, loss 계산\n",
        "        test_acc, test_loss = compute_accuracy_and_loss(model, test_loader, device=DEVICE)    # test acc, loss 계산\n",
        "        \n",
        "        # list에 train, test의  acc, loss 추가\n",
        "        train_acc_lst.append(train_acc)\n",
        "        test_acc_lst.append(test_acc)\n",
        "        train_loss_lst.append(train_loss)\n",
        "        test_loss_lst.append(test_loss)\n",
        "        \n",
        "        # 로깅\n",
        "        print(f'Epoch: {epoch+1:03d}/{NUM_EPOCHS:03d} Train Acc.: {train_acc:.2f}%'\n",
        "              f' | Test Acc.: {test_acc:.2f}%')\n",
        "    \n",
        "    # 1 epoch 학습 소요시간\n",
        "    elapsed = (time.time() - start_time)/60\n",
        "    print(f'Time elapsed: {elapsed:.2f} min')\n",
        "\n",
        "# 총 학습 소요시간\n",
        "elapsed = (time.time() - start_time)/60\n",
        "print(f'Total Training Time: {elapsed:.2f} min')"
      ],
      "id": "4f2YYSeBp-li",
      "execution_count": 14,
      "outputs": [
        {
          "output_type": "stream",
          "text": [
            "Epoch: 001/020 | Batch 000/937 | Cost: 2.2828\n",
            "Epoch: 001/020 | Batch 040/937 | Cost: 2.0539\n",
            "Epoch: 001/020 | Batch 080/937 | Cost: 1.3756\n",
            "Epoch: 001/020 | Batch 120/937 | Cost: 1.1131\n",
            "Epoch: 001/020 | Batch 160/937 | Cost: 0.9344\n",
            "Epoch: 001/020 | Batch 200/937 | Cost: 0.7961\n",
            "Epoch: 001/020 | Batch 240/937 | Cost: 0.6156\n",
            "Epoch: 001/020 | Batch 280/937 | Cost: 0.5147\n",
            "Epoch: 001/020 | Batch 320/937 | Cost: 0.5702\n",
            "Epoch: 001/020 | Batch 360/937 | Cost: 0.3087\n",
            "Epoch: 001/020 | Batch 400/937 | Cost: 0.2383\n",
            "Epoch: 001/020 | Batch 440/937 | Cost: 0.5061\n",
            "Epoch: 001/020 | Batch 480/937 | Cost: 0.3288\n",
            "Epoch: 001/020 | Batch 520/937 | Cost: 0.3442\n",
            "Epoch: 001/020 | Batch 560/937 | Cost: 0.4368\n",
            "Epoch: 001/020 | Batch 600/937 | Cost: 0.3477\n",
            "Epoch: 001/020 | Batch 640/937 | Cost: 0.3224\n",
            "Epoch: 001/020 | Batch 680/937 | Cost: 0.2561\n",
            "Epoch: 001/020 | Batch 720/937 | Cost: 0.4069\n",
            "Epoch: 001/020 | Batch 760/937 | Cost: 0.2755\n",
            "Epoch: 001/020 | Batch 800/937 | Cost: 0.0814\n",
            "Epoch: 001/020 | Batch 840/937 | Cost: 0.2119\n",
            "Epoch: 001/020 | Batch 880/937 | Cost: 0.2781\n",
            "Epoch: 001/020 | Batch 920/937 | Cost: 0.3444\n",
            "Epoch: 001/020 Train Acc.: 92.59% | Test Acc.: 92.68%\n",
            "Time elapsed: 0.43 min\n",
            "Epoch: 002/020 | Batch 000/937 | Cost: 0.2831\n",
            "Epoch: 002/020 | Batch 040/937 | Cost: 0.1821\n",
            "Epoch: 002/020 | Batch 080/937 | Cost: 0.3078\n",
            "Epoch: 002/020 | Batch 120/937 | Cost: 0.1967\n",
            "Epoch: 002/020 | Batch 160/937 | Cost: 0.3915\n",
            "Epoch: 002/020 | Batch 200/937 | Cost: 0.2059\n",
            "Epoch: 002/020 | Batch 240/937 | Cost: 0.2498\n",
            "Epoch: 002/020 | Batch 280/937 | Cost: 0.2319\n",
            "Epoch: 002/020 | Batch 320/937 | Cost: 0.1452\n",
            "Epoch: 002/020 | Batch 360/937 | Cost: 0.1679\n",
            "Epoch: 002/020 | Batch 400/937 | Cost: 0.1852\n",
            "Epoch: 002/020 | Batch 440/937 | Cost: 0.2278\n",
            "Epoch: 002/020 | Batch 480/937 | Cost: 0.2408\n",
            "Epoch: 002/020 | Batch 520/937 | Cost: 0.1225\n",
            "Epoch: 002/020 | Batch 560/937 | Cost: 0.3228\n",
            "Epoch: 002/020 | Batch 600/937 | Cost: 0.3511\n",
            "Epoch: 002/020 | Batch 640/937 | Cost: 0.2601\n",
            "Epoch: 002/020 | Batch 680/937 | Cost: 0.3265\n",
            "Epoch: 002/020 | Batch 720/937 | Cost: 0.0971\n",
            "Epoch: 002/020 | Batch 760/937 | Cost: 0.1791\n",
            "Epoch: 002/020 | Batch 800/937 | Cost: 0.0927\n",
            "Epoch: 002/020 | Batch 840/937 | Cost: 0.1133\n",
            "Epoch: 002/020 | Batch 880/937 | Cost: 0.2259\n",
            "Epoch: 002/020 | Batch 920/937 | Cost: 0.2652\n",
            "Epoch: 002/020 Train Acc.: 94.65% | Test Acc.: 94.39%\n",
            "Time elapsed: 0.86 min\n",
            "Epoch: 003/020 | Batch 000/937 | Cost: 0.1862\n",
            "Epoch: 003/020 | Batch 040/937 | Cost: 0.3247\n",
            "Epoch: 003/020 | Batch 080/937 | Cost: 0.0822\n",
            "Epoch: 003/020 | Batch 120/937 | Cost: 0.1481\n",
            "Epoch: 003/020 | Batch 160/937 | Cost: 0.0541\n",
            "Epoch: 003/020 | Batch 200/937 | Cost: 0.1627\n",
            "Epoch: 003/020 | Batch 240/937 | Cost: 0.1681\n",
            "Epoch: 003/020 | Batch 280/937 | Cost: 0.1668\n",
            "Epoch: 003/020 | Batch 320/937 | Cost: 0.1449\n",
            "Epoch: 003/020 | Batch 360/937 | Cost: 0.0914\n",
            "Epoch: 003/020 | Batch 400/937 | Cost: 0.0900\n",
            "Epoch: 003/020 | Batch 440/937 | Cost: 0.1771\n",
            "Epoch: 003/020 | Batch 480/937 | Cost: 0.1710\n",
            "Epoch: 003/020 | Batch 520/937 | Cost: 0.1484\n",
            "Epoch: 003/020 | Batch 560/937 | Cost: 0.2362\n",
            "Epoch: 003/020 | Batch 600/937 | Cost: 0.2143\n",
            "Epoch: 003/020 | Batch 640/937 | Cost: 0.1112\n",
            "Epoch: 003/020 | Batch 680/937 | Cost: 0.1385\n",
            "Epoch: 003/020 | Batch 720/937 | Cost: 0.0554\n",
            "Epoch: 003/020 | Batch 760/937 | Cost: 0.1882\n",
            "Epoch: 003/020 | Batch 800/937 | Cost: 0.1665\n",
            "Epoch: 003/020 | Batch 840/937 | Cost: 0.2032\n",
            "Epoch: 003/020 | Batch 880/937 | Cost: 0.1674\n",
            "Epoch: 003/020 | Batch 920/937 | Cost: 0.1155\n",
            "Epoch: 003/020 Train Acc.: 92.71% | Test Acc.: 92.50%\n",
            "Time elapsed: 1.29 min\n",
            "Epoch: 004/020 | Batch 000/937 | Cost: 0.2263\n",
            "Epoch: 004/020 | Batch 040/937 | Cost: 0.0739\n",
            "Epoch: 004/020 | Batch 080/937 | Cost: 0.0581\n",
            "Epoch: 004/020 | Batch 120/937 | Cost: 0.0357\n",
            "Epoch: 004/020 | Batch 160/937 | Cost: 0.1028\n",
            "Epoch: 004/020 | Batch 200/937 | Cost: 0.1846\n",
            "Epoch: 004/020 | Batch 240/937 | Cost: 0.1010\n",
            "Epoch: 004/020 | Batch 280/937 | Cost: 0.2741\n",
            "Epoch: 004/020 | Batch 320/937 | Cost: 0.0576\n",
            "Epoch: 004/020 | Batch 360/937 | Cost: 0.2315\n",
            "Epoch: 004/020 | Batch 400/937 | Cost: 0.0321\n",
            "Epoch: 004/020 | Batch 440/937 | Cost: 0.0157\n",
            "Epoch: 004/020 | Batch 480/937 | Cost: 0.1436\n",
            "Epoch: 004/020 | Batch 520/937 | Cost: 0.2095\n",
            "Epoch: 004/020 | Batch 560/937 | Cost: 0.0320\n",
            "Epoch: 004/020 | Batch 600/937 | Cost: 0.0738\n",
            "Epoch: 004/020 | Batch 640/937 | Cost: 0.1181\n",
            "Epoch: 004/020 | Batch 680/937 | Cost: 0.1402\n",
            "Epoch: 004/020 | Batch 720/937 | Cost: 0.1005\n",
            "Epoch: 004/020 | Batch 760/937 | Cost: 0.1058\n",
            "Epoch: 004/020 | Batch 800/937 | Cost: 0.0576\n",
            "Epoch: 004/020 | Batch 840/937 | Cost: 0.0279\n",
            "Epoch: 004/020 | Batch 880/937 | Cost: 0.0803\n",
            "Epoch: 004/020 | Batch 920/937 | Cost: 0.0795\n",
            "Epoch: 004/020 Train Acc.: 95.97% | Test Acc.: 95.59%\n",
            "Time elapsed: 1.70 min\n",
            "Epoch: 005/020 | Batch 000/937 | Cost: 0.2020\n",
            "Epoch: 005/020 | Batch 040/937 | Cost: 0.1251\n",
            "Epoch: 005/020 | Batch 080/937 | Cost: 0.0618\n",
            "Epoch: 005/020 | Batch 120/937 | Cost: 0.0466\n",
            "Epoch: 005/020 | Batch 160/937 | Cost: 0.2012\n",
            "Epoch: 005/020 | Batch 200/937 | Cost: 0.1599\n",
            "Epoch: 005/020 | Batch 240/937 | Cost: 0.0452\n",
            "Epoch: 005/020 | Batch 280/937 | Cost: 0.0736\n",
            "Epoch: 005/020 | Batch 320/937 | Cost: 0.0345\n",
            "Epoch: 005/020 | Batch 360/937 | Cost: 0.1739\n",
            "Epoch: 005/020 | Batch 400/937 | Cost: 0.0440\n",
            "Epoch: 005/020 | Batch 440/937 | Cost: 0.0883\n",
            "Epoch: 005/020 | Batch 480/937 | Cost: 0.1208\n",
            "Epoch: 005/020 | Batch 520/937 | Cost: 0.1272\n",
            "Epoch: 005/020 | Batch 560/937 | Cost: 0.1527\n",
            "Epoch: 005/020 | Batch 600/937 | Cost: 0.1100\n",
            "Epoch: 005/020 | Batch 640/937 | Cost: 0.0388\n",
            "Epoch: 005/020 | Batch 680/937 | Cost: 0.0126\n",
            "Epoch: 005/020 | Batch 720/937 | Cost: 0.1102\n",
            "Epoch: 005/020 | Batch 760/937 | Cost: 0.1069\n",
            "Epoch: 005/020 | Batch 800/937 | Cost: 0.1330\n",
            "Epoch: 005/020 | Batch 840/937 | Cost: 0.0856\n",
            "Epoch: 005/020 | Batch 880/937 | Cost: 0.1339\n",
            "Epoch: 005/020 | Batch 920/937 | Cost: 0.0852\n",
            "Epoch: 005/020 Train Acc.: 97.22% | Test Acc.: 96.68%\n",
            "Time elapsed: 2.12 min\n",
            "Epoch: 006/020 | Batch 000/937 | Cost: 0.1917\n",
            "Epoch: 006/020 | Batch 040/937 | Cost: 0.1505\n",
            "Epoch: 006/020 | Batch 080/937 | Cost: 0.1299\n",
            "Epoch: 006/020 | Batch 120/937 | Cost: 0.0470\n",
            "Epoch: 006/020 | Batch 160/937 | Cost: 0.0766\n",
            "Epoch: 006/020 | Batch 200/937 | Cost: 0.0967\n",
            "Epoch: 006/020 | Batch 240/937 | Cost: 0.1065\n",
            "Epoch: 006/020 | Batch 280/937 | Cost: 0.0666\n",
            "Epoch: 006/020 | Batch 320/937 | Cost: 0.0657\n",
            "Epoch: 006/020 | Batch 360/937 | Cost: 0.1493\n",
            "Epoch: 006/020 | Batch 400/937 | Cost: 0.0715\n",
            "Epoch: 006/020 | Batch 440/937 | Cost: 0.0803\n",
            "Epoch: 006/020 | Batch 480/937 | Cost: 0.0352\n",
            "Epoch: 006/020 | Batch 520/937 | Cost: 0.0925\n",
            "Epoch: 006/020 | Batch 560/937 | Cost: 0.0881\n",
            "Epoch: 006/020 | Batch 600/937 | Cost: 0.1306\n",
            "Epoch: 006/020 | Batch 640/937 | Cost: 0.1278\n",
            "Epoch: 006/020 | Batch 680/937 | Cost: 0.0492\n",
            "Epoch: 006/020 | Batch 720/937 | Cost: 0.0257\n",
            "Epoch: 006/020 | Batch 760/937 | Cost: 0.0168\n",
            "Epoch: 006/020 | Batch 800/937 | Cost: 0.1357\n",
            "Epoch: 006/020 | Batch 840/937 | Cost: 0.2923\n",
            "Epoch: 006/020 | Batch 880/937 | Cost: 0.0333\n",
            "Epoch: 006/020 | Batch 920/937 | Cost: 0.1328\n",
            "Epoch: 006/020 Train Acc.: 97.83% | Test Acc.: 97.00%\n",
            "Time elapsed: 2.55 min\n",
            "Epoch: 007/020 | Batch 000/937 | Cost: 0.0956\n",
            "Epoch: 007/020 | Batch 040/937 | Cost: 0.1117\n",
            "Epoch: 007/020 | Batch 080/937 | Cost: 0.0688\n",
            "Epoch: 007/020 | Batch 120/937 | Cost: 0.0571\n",
            "Epoch: 007/020 | Batch 160/937 | Cost: 0.0429\n",
            "Epoch: 007/020 | Batch 200/937 | Cost: 0.0402\n",
            "Epoch: 007/020 | Batch 240/937 | Cost: 0.0111\n",
            "Epoch: 007/020 | Batch 280/937 | Cost: 0.1191\n",
            "Epoch: 007/020 | Batch 320/937 | Cost: 0.0083\n",
            "Epoch: 007/020 | Batch 360/937 | Cost: 0.0718\n",
            "Epoch: 007/020 | Batch 400/937 | Cost: 0.0579\n",
            "Epoch: 007/020 | Batch 440/937 | Cost: 0.1512\n",
            "Epoch: 007/020 | Batch 480/937 | Cost: 0.0379\n",
            "Epoch: 007/020 | Batch 520/937 | Cost: 0.0567\n",
            "Epoch: 007/020 | Batch 560/937 | Cost: 0.0290\n",
            "Epoch: 007/020 | Batch 600/937 | Cost: 0.0086\n",
            "Epoch: 007/020 | Batch 640/937 | Cost: 0.0304\n",
            "Epoch: 007/020 | Batch 680/937 | Cost: 0.0567\n",
            "Epoch: 007/020 | Batch 720/937 | Cost: 0.0554\n",
            "Epoch: 007/020 | Batch 760/937 | Cost: 0.0255\n",
            "Epoch: 007/020 | Batch 800/937 | Cost: 0.0854\n",
            "Epoch: 007/020 | Batch 840/937 | Cost: 0.0694\n",
            "Epoch: 007/020 | Batch 880/937 | Cost: 0.0936\n",
            "Epoch: 007/020 | Batch 920/937 | Cost: 0.0690\n",
            "Epoch: 007/020 Train Acc.: 98.08% | Test Acc.: 97.37%\n",
            "Time elapsed: 2.98 min\n",
            "Epoch: 008/020 | Batch 000/937 | Cost: 0.0385\n",
            "Epoch: 008/020 | Batch 040/937 | Cost: 0.2053\n",
            "Epoch: 008/020 | Batch 080/937 | Cost: 0.0655\n",
            "Epoch: 008/020 | Batch 120/937 | Cost: 0.1519\n",
            "Epoch: 008/020 | Batch 160/937 | Cost: 0.0564\n",
            "Epoch: 008/020 | Batch 200/937 | Cost: 0.0049\n",
            "Epoch: 008/020 | Batch 240/937 | Cost: 0.0267\n",
            "Epoch: 008/020 | Batch 280/937 | Cost: 0.0387\n",
            "Epoch: 008/020 | Batch 320/937 | Cost: 0.0211\n",
            "Epoch: 008/020 | Batch 360/937 | Cost: 0.0912\n",
            "Epoch: 008/020 | Batch 400/937 | Cost: 0.0117\n",
            "Epoch: 008/020 | Batch 440/937 | Cost: 0.1562\n",
            "Epoch: 008/020 | Batch 480/937 | Cost: 0.0228\n",
            "Epoch: 008/020 | Batch 520/937 | Cost: 0.1191\n",
            "Epoch: 008/020 | Batch 560/937 | Cost: 0.0165\n",
            "Epoch: 008/020 | Batch 600/937 | Cost: 0.1030\n",
            "Epoch: 008/020 | Batch 640/937 | Cost: 0.0923\n",
            "Epoch: 008/020 | Batch 680/937 | Cost: 0.0328\n",
            "Epoch: 008/020 | Batch 720/937 | Cost: 0.0104\n",
            "Epoch: 008/020 | Batch 760/937 | Cost: 0.0397\n",
            "Epoch: 008/020 | Batch 800/937 | Cost: 0.1171\n",
            "Epoch: 008/020 | Batch 840/937 | Cost: 0.2187\n",
            "Epoch: 008/020 | Batch 880/937 | Cost: 0.1398\n",
            "Epoch: 008/020 | Batch 920/937 | Cost: 0.0288\n",
            "Epoch: 008/020 Train Acc.: 98.26% | Test Acc.: 97.31%\n",
            "Time elapsed: 3.41 min\n",
            "Epoch: 009/020 | Batch 000/937 | Cost: 0.0123\n",
            "Epoch: 009/020 | Batch 040/937 | Cost: 0.0706\n",
            "Epoch: 009/020 | Batch 080/937 | Cost: 0.0831\n",
            "Epoch: 009/020 | Batch 120/937 | Cost: 0.0695\n",
            "Epoch: 009/020 | Batch 160/937 | Cost: 0.1283\n",
            "Epoch: 009/020 | Batch 200/937 | Cost: 0.0105\n",
            "Epoch: 009/020 | Batch 240/937 | Cost: 0.0944\n",
            "Epoch: 009/020 | Batch 280/937 | Cost: 0.0716\n",
            "Epoch: 009/020 | Batch 320/937 | Cost: 0.0125\n",
            "Epoch: 009/020 | Batch 360/937 | Cost: 0.0043\n",
            "Epoch: 009/020 | Batch 400/937 | Cost: 0.1814\n",
            "Epoch: 009/020 | Batch 440/937 | Cost: 0.0365\n",
            "Epoch: 009/020 | Batch 480/937 | Cost: 0.1022\n",
            "Epoch: 009/020 | Batch 520/937 | Cost: 0.1343\n",
            "Epoch: 009/020 | Batch 560/937 | Cost: 0.0334\n",
            "Epoch: 009/020 | Batch 600/937 | Cost: 0.0165\n",
            "Epoch: 009/020 | Batch 640/937 | Cost: 0.1117\n",
            "Epoch: 009/020 | Batch 680/937 | Cost: 0.0489\n",
            "Epoch: 009/020 | Batch 720/937 | Cost: 0.0738\n",
            "Epoch: 009/020 | Batch 760/937 | Cost: 0.0790\n",
            "Epoch: 009/020 | Batch 800/937 | Cost: 0.0329\n",
            "Epoch: 009/020 | Batch 840/937 | Cost: 0.0319\n",
            "Epoch: 009/020 | Batch 880/937 | Cost: 0.0289\n",
            "Epoch: 009/020 | Batch 920/937 | Cost: 0.0844\n",
            "Epoch: 009/020 Train Acc.: 98.33% | Test Acc.: 97.36%\n",
            "Time elapsed: 3.83 min\n",
            "Epoch: 010/020 | Batch 000/937 | Cost: 0.0150\n",
            "Epoch: 010/020 | Batch 040/937 | Cost: 0.3134\n",
            "Epoch: 010/020 | Batch 080/937 | Cost: 0.0623\n",
            "Epoch: 010/020 | Batch 120/937 | Cost: 0.0261\n",
            "Epoch: 010/020 | Batch 160/937 | Cost: 0.0254\n",
            "Epoch: 010/020 | Batch 200/937 | Cost: 0.0585\n",
            "Epoch: 010/020 | Batch 240/937 | Cost: 0.0095\n",
            "Epoch: 010/020 | Batch 280/937 | Cost: 0.0980\n",
            "Epoch: 010/020 | Batch 320/937 | Cost: 0.0195\n",
            "Epoch: 010/020 | Batch 360/937 | Cost: 0.0177\n",
            "Epoch: 010/020 | Batch 400/937 | Cost: 0.0641\n",
            "Epoch: 010/020 | Batch 440/937 | Cost: 0.0282\n",
            "Epoch: 010/020 | Batch 480/937 | Cost: 0.0521\n",
            "Epoch: 010/020 | Batch 520/937 | Cost: 0.2554\n",
            "Epoch: 010/020 | Batch 560/937 | Cost: 0.0538\n",
            "Epoch: 010/020 | Batch 600/937 | Cost: 0.0256\n",
            "Epoch: 010/020 | Batch 640/937 | Cost: 0.0106\n",
            "Epoch: 010/020 | Batch 680/937 | Cost: 0.0074\n",
            "Epoch: 010/020 | Batch 720/937 | Cost: 0.0603\n",
            "Epoch: 010/020 | Batch 760/937 | Cost: 0.0670\n",
            "Epoch: 010/020 | Batch 800/937 | Cost: 0.0497\n",
            "Epoch: 010/020 | Batch 840/937 | Cost: 0.0072\n",
            "Epoch: 010/020 | Batch 880/937 | Cost: 0.0941\n",
            "Epoch: 010/020 | Batch 920/937 | Cost: 0.0547\n",
            "Epoch: 010/020 Train Acc.: 98.35% | Test Acc.: 97.17%\n",
            "Time elapsed: 4.26 min\n",
            "Epoch: 011/020 | Batch 000/937 | Cost: 0.0554\n",
            "Epoch: 011/020 | Batch 040/937 | Cost: 0.0166\n",
            "Epoch: 011/020 | Batch 080/937 | Cost: 0.0254\n",
            "Epoch: 011/020 | Batch 120/937 | Cost: 0.0088\n",
            "Epoch: 011/020 | Batch 160/937 | Cost: 0.0206\n",
            "Epoch: 011/020 | Batch 200/937 | Cost: 0.0102\n",
            "Epoch: 011/020 | Batch 240/937 | Cost: 0.0352\n",
            "Epoch: 011/020 | Batch 280/937 | Cost: 0.0460\n",
            "Epoch: 011/020 | Batch 320/937 | Cost: 0.1013\n",
            "Epoch: 011/020 | Batch 360/937 | Cost: 0.0159\n",
            "Epoch: 011/020 | Batch 400/937 | Cost: 0.0612\n",
            "Epoch: 011/020 | Batch 440/937 | Cost: 0.0256\n",
            "Epoch: 011/020 | Batch 480/937 | Cost: 0.0135\n",
            "Epoch: 011/020 | Batch 520/937 | Cost: 0.0359\n",
            "Epoch: 011/020 | Batch 560/937 | Cost: 0.0082\n",
            "Epoch: 011/020 | Batch 600/937 | Cost: 0.0026\n",
            "Epoch: 011/020 | Batch 640/937 | Cost: 0.0154\n",
            "Epoch: 011/020 | Batch 680/937 | Cost: 0.0198\n",
            "Epoch: 011/020 | Batch 720/937 | Cost: 0.0591\n",
            "Epoch: 011/020 | Batch 760/937 | Cost: 0.0811\n",
            "Epoch: 011/020 | Batch 800/937 | Cost: 0.1465\n",
            "Epoch: 011/020 | Batch 840/937 | Cost: 0.0319\n",
            "Epoch: 011/020 | Batch 880/937 | Cost: 0.0258\n",
            "Epoch: 011/020 | Batch 920/937 | Cost: 0.0633\n",
            "Epoch: 011/020 Train Acc.: 98.65% | Test Acc.: 97.43%\n",
            "Time elapsed: 4.69 min\n",
            "Epoch: 012/020 | Batch 000/937 | Cost: 0.0080\n",
            "Epoch: 012/020 | Batch 040/937 | Cost: 0.0135\n",
            "Epoch: 012/020 | Batch 080/937 | Cost: 0.0249\n",
            "Epoch: 012/020 | Batch 120/937 | Cost: 0.0143\n",
            "Epoch: 012/020 | Batch 160/937 | Cost: 0.0128\n",
            "Epoch: 012/020 | Batch 200/937 | Cost: 0.1125\n",
            "Epoch: 012/020 | Batch 240/937 | Cost: 0.0502\n",
            "Epoch: 012/020 | Batch 280/937 | Cost: 0.0158\n",
            "Epoch: 012/020 | Batch 320/937 | Cost: 0.0177\n",
            "Epoch: 012/020 | Batch 360/937 | Cost: 0.0827\n",
            "Epoch: 012/020 | Batch 400/937 | Cost: 0.0080\n",
            "Epoch: 012/020 | Batch 440/937 | Cost: 0.0057\n",
            "Epoch: 012/020 | Batch 480/937 | Cost: 0.0447\n",
            "Epoch: 012/020 | Batch 520/937 | Cost: 0.1996\n",
            "Epoch: 012/020 | Batch 560/937 | Cost: 0.0172\n",
            "Epoch: 012/020 | Batch 600/937 | Cost: 0.0079\n",
            "Epoch: 012/020 | Batch 640/937 | Cost: 0.0686\n",
            "Epoch: 012/020 | Batch 680/937 | Cost: 0.0462\n",
            "Epoch: 012/020 | Batch 720/937 | Cost: 0.0352\n",
            "Epoch: 012/020 | Batch 760/937 | Cost: 0.0261\n",
            "Epoch: 012/020 | Batch 800/937 | Cost: 0.1725\n",
            "Epoch: 012/020 | Batch 840/937 | Cost: 0.0092\n",
            "Epoch: 012/020 | Batch 880/937 | Cost: 0.0133\n",
            "Epoch: 012/020 | Batch 920/937 | Cost: 0.0237\n",
            "Epoch: 012/020 Train Acc.: 98.24% | Test Acc.: 97.10%\n",
            "Time elapsed: 5.12 min\n",
            "Epoch: 013/020 | Batch 000/937 | Cost: 0.0771\n",
            "Epoch: 013/020 | Batch 040/937 | Cost: 0.0177\n",
            "Epoch: 013/020 | Batch 080/937 | Cost: 0.0208\n",
            "Epoch: 013/020 | Batch 120/937 | Cost: 0.0104\n",
            "Epoch: 013/020 | Batch 160/937 | Cost: 0.0337\n",
            "Epoch: 013/020 | Batch 200/937 | Cost: 0.0187\n",
            "Epoch: 013/020 | Batch 240/937 | Cost: 0.0261\n",
            "Epoch: 013/020 | Batch 280/937 | Cost: 0.0193\n",
            "Epoch: 013/020 | Batch 320/937 | Cost: 0.0052\n",
            "Epoch: 013/020 | Batch 360/937 | Cost: 0.0169\n",
            "Epoch: 013/020 | Batch 400/937 | Cost: 0.0093\n",
            "Epoch: 013/020 | Batch 440/937 | Cost: 0.0287\n",
            "Epoch: 013/020 | Batch 480/937 | Cost: 0.0875\n",
            "Epoch: 013/020 | Batch 520/937 | Cost: 0.0403\n",
            "Epoch: 013/020 | Batch 560/937 | Cost: 0.0764\n",
            "Epoch: 013/020 | Batch 600/937 | Cost: 0.0329\n",
            "Epoch: 013/020 | Batch 640/937 | Cost: 0.0939\n",
            "Epoch: 013/020 | Batch 680/937 | Cost: 0.0410\n",
            "Epoch: 013/020 | Batch 720/937 | Cost: 0.0405\n",
            "Epoch: 013/020 | Batch 760/937 | Cost: 0.0135\n",
            "Epoch: 013/020 | Batch 800/937 | Cost: 0.0216\n",
            "Epoch: 013/020 | Batch 840/937 | Cost: 0.0161\n",
            "Epoch: 013/020 | Batch 880/937 | Cost: 0.0129\n",
            "Epoch: 013/020 | Batch 920/937 | Cost: 0.0979\n",
            "Epoch: 013/020 Train Acc.: 98.41% | Test Acc.: 97.12%\n",
            "Time elapsed: 5.55 min\n",
            "Epoch: 014/020 | Batch 000/937 | Cost: 0.0852\n",
            "Epoch: 014/020 | Batch 040/937 | Cost: 0.0072\n",
            "Epoch: 014/020 | Batch 080/937 | Cost: 0.0139\n",
            "Epoch: 014/020 | Batch 120/937 | Cost: 0.0694\n",
            "Epoch: 014/020 | Batch 160/937 | Cost: 0.0399\n",
            "Epoch: 014/020 | Batch 200/937 | Cost: 0.0033\n",
            "Epoch: 014/020 | Batch 240/937 | Cost: 0.0067\n",
            "Epoch: 014/020 | Batch 280/937 | Cost: 0.0056\n",
            "Epoch: 014/020 | Batch 320/937 | Cost: 0.0555\n",
            "Epoch: 014/020 | Batch 360/937 | Cost: 0.0690\n",
            "Epoch: 014/020 | Batch 400/937 | Cost: 0.0454\n",
            "Epoch: 014/020 | Batch 440/937 | Cost: 0.0621\n",
            "Epoch: 014/020 | Batch 480/937 | Cost: 0.0175\n",
            "Epoch: 014/020 | Batch 520/937 | Cost: 0.1041\n",
            "Epoch: 014/020 | Batch 560/937 | Cost: 0.0500\n",
            "Epoch: 014/020 | Batch 600/937 | Cost: 0.0179\n",
            "Epoch: 014/020 | Batch 640/937 | Cost: 0.0598\n",
            "Epoch: 014/020 | Batch 680/937 | Cost: 0.0505\n",
            "Epoch: 014/020 | Batch 720/937 | Cost: 0.0387\n",
            "Epoch: 014/020 | Batch 760/937 | Cost: 0.0510\n",
            "Epoch: 014/020 | Batch 800/937 | Cost: 0.0197\n",
            "Epoch: 014/020 | Batch 840/937 | Cost: 0.0337\n",
            "Epoch: 014/020 | Batch 880/937 | Cost: 0.0238\n",
            "Epoch: 014/020 | Batch 920/937 | Cost: 0.0194\n",
            "Epoch: 014/020 Train Acc.: 98.79% | Test Acc.: 97.61%\n",
            "Time elapsed: 5.98 min\n",
            "Epoch: 015/020 | Batch 000/937 | Cost: 0.0057\n",
            "Epoch: 015/020 | Batch 040/937 | Cost: 0.0176\n",
            "Epoch: 015/020 | Batch 080/937 | Cost: 0.0053\n",
            "Epoch: 015/020 | Batch 120/937 | Cost: 0.0708\n",
            "Epoch: 015/020 | Batch 160/937 | Cost: 0.0288\n",
            "Epoch: 015/020 | Batch 200/937 | Cost: 0.0185\n",
            "Epoch: 015/020 | Batch 240/937 | Cost: 0.0618\n",
            "Epoch: 015/020 | Batch 280/937 | Cost: 0.0230\n",
            "Epoch: 015/020 | Batch 320/937 | Cost: 0.1888\n",
            "Epoch: 015/020 | Batch 360/937 | Cost: 0.0099\n",
            "Epoch: 015/020 | Batch 400/937 | Cost: 0.0070\n",
            "Epoch: 015/020 | Batch 440/937 | Cost: 0.0360\n",
            "Epoch: 015/020 | Batch 480/937 | Cost: 0.0056\n",
            "Epoch: 015/020 | Batch 520/937 | Cost: 0.1384\n",
            "Epoch: 015/020 | Batch 560/937 | Cost: 0.0063\n",
            "Epoch: 015/020 | Batch 600/937 | Cost: 0.0876\n",
            "Epoch: 015/020 | Batch 640/937 | Cost: 0.0206\n",
            "Epoch: 015/020 | Batch 680/937 | Cost: 0.0192\n",
            "Epoch: 015/020 | Batch 720/937 | Cost: 0.0189\n",
            "Epoch: 015/020 | Batch 760/937 | Cost: 0.0086\n",
            "Epoch: 015/020 | Batch 800/937 | Cost: 0.0349\n",
            "Epoch: 015/020 | Batch 840/937 | Cost: 0.0571\n",
            "Epoch: 015/020 | Batch 880/937 | Cost: 0.1305\n",
            "Epoch: 015/020 | Batch 920/937 | Cost: 0.0825\n",
            "Epoch: 015/020 Train Acc.: 98.99% | Test Acc.: 97.49%\n",
            "Time elapsed: 6.41 min\n",
            "Epoch: 016/020 | Batch 000/937 | Cost: 0.0173\n",
            "Epoch: 016/020 | Batch 040/937 | Cost: 0.0313\n",
            "Epoch: 016/020 | Batch 080/937 | Cost: 0.0294\n",
            "Epoch: 016/020 | Batch 120/937 | Cost: 0.0048\n",
            "Epoch: 016/020 | Batch 160/937 | Cost: 0.0151\n",
            "Epoch: 016/020 | Batch 200/937 | Cost: 0.0254\n",
            "Epoch: 016/020 | Batch 240/937 | Cost: 0.0367\n",
            "Epoch: 016/020 | Batch 280/937 | Cost: 0.0049\n",
            "Epoch: 016/020 | Batch 320/937 | Cost: 0.0407\n",
            "Epoch: 016/020 | Batch 360/937 | Cost: 0.0055\n",
            "Epoch: 016/020 | Batch 400/937 | Cost: 0.0756\n",
            "Epoch: 016/020 | Batch 440/937 | Cost: 0.0942\n",
            "Epoch: 016/020 | Batch 480/937 | Cost: 0.0349\n",
            "Epoch: 016/020 | Batch 520/937 | Cost: 0.1675\n",
            "Epoch: 016/020 | Batch 560/937 | Cost: 0.0131\n",
            "Epoch: 016/020 | Batch 600/937 | Cost: 0.0014\n",
            "Epoch: 016/020 | Batch 640/937 | Cost: 0.0722\n",
            "Epoch: 016/020 | Batch 680/937 | Cost: 0.0080\n",
            "Epoch: 016/020 | Batch 720/937 | Cost: 0.0409\n",
            "Epoch: 016/020 | Batch 760/937 | Cost: 0.0187\n",
            "Epoch: 016/020 | Batch 800/937 | Cost: 0.0464\n",
            "Epoch: 016/020 | Batch 840/937 | Cost: 0.0017\n",
            "Epoch: 016/020 | Batch 880/937 | Cost: 0.0556\n",
            "Epoch: 016/020 | Batch 920/937 | Cost: 0.0103\n",
            "Epoch: 016/020 Train Acc.: 98.56% | Test Acc.: 97.30%\n",
            "Time elapsed: 6.85 min\n",
            "Epoch: 017/020 | Batch 000/937 | Cost: 0.0522\n",
            "Epoch: 017/020 | Batch 040/937 | Cost: 0.0032\n",
            "Epoch: 017/020 | Batch 080/937 | Cost: 0.0113\n",
            "Epoch: 017/020 | Batch 120/937 | Cost: 0.0022\n",
            "Epoch: 017/020 | Batch 160/937 | Cost: 0.0056\n",
            "Epoch: 017/020 | Batch 200/937 | Cost: 0.0260\n",
            "Epoch: 017/020 | Batch 240/937 | Cost: 0.0039\n",
            "Epoch: 017/020 | Batch 280/937 | Cost: 0.0039\n",
            "Epoch: 017/020 | Batch 320/937 | Cost: 0.0074\n",
            "Epoch: 017/020 | Batch 360/937 | Cost: 0.0066\n",
            "Epoch: 017/020 | Batch 400/937 | Cost: 0.0085\n",
            "Epoch: 017/020 | Batch 440/937 | Cost: 0.0994\n",
            "Epoch: 017/020 | Batch 480/937 | Cost: 0.0145\n",
            "Epoch: 017/020 | Batch 520/937 | Cost: 0.0550\n",
            "Epoch: 017/020 | Batch 560/937 | Cost: 0.0242\n",
            "Epoch: 017/020 | Batch 600/937 | Cost: 0.0007\n",
            "Epoch: 017/020 | Batch 640/937 | Cost: 0.0028\n",
            "Epoch: 017/020 | Batch 680/937 | Cost: 0.0159\n",
            "Epoch: 017/020 | Batch 720/937 | Cost: 0.0160\n",
            "Epoch: 017/020 | Batch 760/937 | Cost: 0.0047\n",
            "Epoch: 017/020 | Batch 800/937 | Cost: 0.0157\n",
            "Epoch: 017/020 | Batch 840/937 | Cost: 0.0446\n",
            "Epoch: 017/020 | Batch 880/937 | Cost: 0.0077\n",
            "Epoch: 017/020 | Batch 920/937 | Cost: 0.0076\n",
            "Epoch: 017/020 Train Acc.: 98.89% | Test Acc.: 97.43%\n",
            "Time elapsed: 7.28 min\n",
            "Epoch: 018/020 | Batch 000/937 | Cost: 0.0124\n",
            "Epoch: 018/020 | Batch 040/937 | Cost: 0.0237\n",
            "Epoch: 018/020 | Batch 080/937 | Cost: 0.0046\n",
            "Epoch: 018/020 | Batch 120/937 | Cost: 0.0431\n",
            "Epoch: 018/020 | Batch 160/937 | Cost: 0.0009\n",
            "Epoch: 018/020 | Batch 200/937 | Cost: 0.0372\n",
            "Epoch: 018/020 | Batch 240/937 | Cost: 0.0032\n",
            "Epoch: 018/020 | Batch 280/937 | Cost: 0.0076\n",
            "Epoch: 018/020 | Batch 320/937 | Cost: 0.0056\n",
            "Epoch: 018/020 | Batch 360/937 | Cost: 0.0626\n",
            "Epoch: 018/020 | Batch 400/937 | Cost: 0.0400\n",
            "Epoch: 018/020 | Batch 440/937 | Cost: 0.0282\n",
            "Epoch: 018/020 | Batch 480/937 | Cost: 0.0018\n",
            "Epoch: 018/020 | Batch 520/937 | Cost: 0.0359\n",
            "Epoch: 018/020 | Batch 560/937 | Cost: 0.1188\n",
            "Epoch: 018/020 | Batch 600/937 | Cost: 0.0356\n",
            "Epoch: 018/020 | Batch 640/937 | Cost: 0.0163\n",
            "Epoch: 018/020 | Batch 680/937 | Cost: 0.0652\n",
            "Epoch: 018/020 | Batch 720/937 | Cost: 0.0016\n",
            "Epoch: 018/020 | Batch 760/937 | Cost: 0.0131\n",
            "Epoch: 018/020 | Batch 800/937 | Cost: 0.0572\n",
            "Epoch: 018/020 | Batch 840/937 | Cost: 0.0342\n",
            "Epoch: 018/020 | Batch 880/937 | Cost: 0.0029\n",
            "Epoch: 018/020 | Batch 920/937 | Cost: 0.0205\n",
            "Epoch: 018/020 Train Acc.: 98.73% | Test Acc.: 97.44%\n",
            "Time elapsed: 7.71 min\n",
            "Epoch: 019/020 | Batch 000/937 | Cost: 0.0116\n",
            "Epoch: 019/020 | Batch 040/937 | Cost: 0.0113\n",
            "Epoch: 019/020 | Batch 080/937 | Cost: 0.0710\n",
            "Epoch: 019/020 | Batch 120/937 | Cost: 0.0154\n",
            "Epoch: 019/020 | Batch 160/937 | Cost: 0.0225\n",
            "Epoch: 019/020 | Batch 200/937 | Cost: 0.0155\n",
            "Epoch: 019/020 | Batch 240/937 | Cost: 0.0145\n",
            "Epoch: 019/020 | Batch 280/937 | Cost: 0.1072\n",
            "Epoch: 019/020 | Batch 320/937 | Cost: 0.0058\n",
            "Epoch: 019/020 | Batch 360/937 | Cost: 0.0058\n",
            "Epoch: 019/020 | Batch 400/937 | Cost: 0.0042\n",
            "Epoch: 019/020 | Batch 440/937 | Cost: 0.0202\n",
            "Epoch: 019/020 | Batch 480/937 | Cost: 0.0043\n",
            "Epoch: 019/020 | Batch 520/937 | Cost: 0.1195\n",
            "Epoch: 019/020 | Batch 560/937 | Cost: 0.0243\n",
            "Epoch: 019/020 | Batch 600/937 | Cost: 0.0224\n",
            "Epoch: 019/020 | Batch 640/937 | Cost: 0.0062\n",
            "Epoch: 019/020 | Batch 680/937 | Cost: 0.0232\n",
            "Epoch: 019/020 | Batch 720/937 | Cost: 0.0018\n",
            "Epoch: 019/020 | Batch 760/937 | Cost: 0.0017\n",
            "Epoch: 019/020 | Batch 800/937 | Cost: 0.0224\n",
            "Epoch: 019/020 | Batch 840/937 | Cost: 0.0746\n",
            "Epoch: 019/020 | Batch 880/937 | Cost: 0.0042\n",
            "Epoch: 019/020 | Batch 920/937 | Cost: 0.0050\n",
            "Epoch: 019/020 Train Acc.: 98.95% | Test Acc.: 97.36%\n",
            "Time elapsed: 8.14 min\n",
            "Epoch: 020/020 | Batch 000/937 | Cost: 0.0255\n",
            "Epoch: 020/020 | Batch 040/937 | Cost: 0.0020\n",
            "Epoch: 020/020 | Batch 080/937 | Cost: 0.0137\n",
            "Epoch: 020/020 | Batch 120/937 | Cost: 0.0067\n",
            "Epoch: 020/020 | Batch 160/937 | Cost: 0.0059\n",
            "Epoch: 020/020 | Batch 200/937 | Cost: 0.0827\n",
            "Epoch: 020/020 | Batch 240/937 | Cost: 0.0244\n",
            "Epoch: 020/020 | Batch 280/937 | Cost: 0.0172\n",
            "Epoch: 020/020 | Batch 320/937 | Cost: 0.0081\n",
            "Epoch: 020/020 | Batch 360/937 | Cost: 0.0329\n",
            "Epoch: 020/020 | Batch 400/937 | Cost: 0.0056\n",
            "Epoch: 020/020 | Batch 440/937 | Cost: 0.0054\n",
            "Epoch: 020/020 | Batch 480/937 | Cost: 0.0058\n",
            "Epoch: 020/020 | Batch 520/937 | Cost: 0.0433\n",
            "Epoch: 020/020 | Batch 560/937 | Cost: 0.0054\n",
            "Epoch: 020/020 | Batch 600/937 | Cost: 0.0051\n",
            "Epoch: 020/020 | Batch 640/937 | Cost: 0.1247\n",
            "Epoch: 020/020 | Batch 680/937 | Cost: 0.0127\n",
            "Epoch: 020/020 | Batch 720/937 | Cost: 0.0088\n",
            "Epoch: 020/020 | Batch 760/937 | Cost: 0.0028\n",
            "Epoch: 020/020 | Batch 800/937 | Cost: 0.0067\n",
            "Epoch: 020/020 | Batch 840/937 | Cost: 0.0394\n",
            "Epoch: 020/020 | Batch 880/937 | Cost: 0.0028\n",
            "Epoch: 020/020 | Batch 920/937 | Cost: 0.0124\n",
            "Epoch: 020/020 Train Acc.: 99.19% | Test Acc.: 97.68%\n",
            "Time elapsed: 8.57 min\n",
            "Total Training Time: 8.57 min\n"
          ],
          "name": "stdout"
        }
      ]
    },
    {
      "cell_type": "markdown",
      "metadata": {
        "id": "J8BpUxU6p-lj"
      },
      "source": [
        "## 2-3. Evaluation\n",
        "테스트 데이터와 학습 데이터의 Loss 변화를 확인 합니다."
      ],
      "id": "J8BpUxU6p-lj"
    },
    {
      "cell_type": "code",
      "metadata": {
        "colab": {
          "base_uri": "https://localhost:8080/",
          "height": 279
        },
        "id": "9W2INQzzp-lj",
        "outputId": "a14d8949-9901-4bec-c3ea-43511bf19635"
      },
      "source": [
        "plt.plot(range(1, NUM_EPOCHS+1), train_loss_lst, label='Training loss')\n",
        "plt.plot(range(1, NUM_EPOCHS+1), test_loss_lst, label='Test loss')\n",
        "plt.legend(loc='upper right')\n",
        "plt.ylabel('Cross entropy')\n",
        "plt.xlabel('Epoch')\n",
        "plt.show()"
      ],
      "id": "9W2INQzzp-lj",
      "execution_count": 15,
      "outputs": [
        {
          "output_type": "display_data",
          "data": {
            "image/png": "[encoded data removed]",
            "text/plain": [
              "<Figure size 432x288 with 1 Axes>"
            ]
          },
          "metadata": {
            "tags": [],
            "needs_background": "light"
          }
        }
      ]
    },
    {
      "cell_type": "code",
      "metadata": {
        "colab": {
          "base_uri": "https://localhost:8080/",
          "height": 279
        },
        "id": "cb5Rx6oep-lk",
        "outputId": "19cbe638-240b-4dcb-98c5-40308caa015d"
      },
      "source": [
        "plt.plot(range(1, NUM_EPOCHS+1), train_acc_lst, label='Training accuracy')\n",
        "plt.plot(range(1, NUM_EPOCHS+1), test_acc_lst, label='Test accuracy')\n",
        "plt.legend(loc='upper left')\n",
        "plt.ylabel('Cross entropy')\n",
        "plt.xlabel('Epoch')\n",
        "plt.show()"
      ],
      "id": "cb5Rx6oep-lk",
      "execution_count": 16,
      "outputs": [
        {
          "output_type": "display_data",
          "data": {
            "image/png": "[encoded data removed]",
            "text/plain": [
              "<Figure size 432x288 with 1 Axes>"
            ]
          },
          "metadata": {
            "tags": [],
            "needs_background": "light"
          }
        }
      ]
    },
    {
      "cell_type": "code",
      "metadata": {
        "colab": {
          "base_uri": "https://localhost:8080/"
        },
        "id": "IIvXhvIRp-lk",
        "outputId": "cb811174-d44c-4254-a6f2-6c2584bc07d1"
      },
      "source": [
        "model.eval()\n",
        "with torch.set_grad_enabled(False): # save memory during inference\n",
        "    test_acc, test_loss = compute_accuracy_and_loss(model, test_loader, DEVICE)\n",
        "    print(f'Test accuracy: {test_acc:.2f}%')"
      ],
      "id": "IIvXhvIRp-lk",
      "execution_count": 17,
      "outputs": [
        {
          "output_type": "stream",
          "text": [
            "Test accuracy: 97.68%\n"
          ],
          "name": "stdout"
        }
      ]
    },
    {
      "cell_type": "code",
      "metadata": {
        "colab": {
          "base_uri": "https://localhost:8080/",
          "height": 122
        },
        "id": "2yq-qsdap-ll",
        "outputId": "f0743cb8-216d-40a9-9057-57b01737fbec"
      },
      "source": [
        "for batch_idx, (x, y) in enumerate(test_loader):\n",
        "    x = x.to(DEVICE)\n",
        "    y = y.to(DEVICE)\n",
        "\n",
        "    x_numpy = x.numpy()\n",
        "    \n",
        "    fig, axes = plt.subplots(1, 5)\n",
        "    \n",
        "    for ax in axes:\n",
        "        index = random.randint(0, 64)\n",
        "        logits, probas = model(x[index].view(-1, 28*28))\n",
        "        _, predicted_labels = torch.max(probas, 1)\n",
        "        ax.imshow(x_numpy[index].reshape(28, 28))\n",
        "        ax.set_title(f'Label {predicted_labels[0]}')\n",
        "        \n",
        "    plt.show()\n",
        "    break"
      ],
      "id": "2yq-qsdap-ll",
      "execution_count": 18,
      "outputs": [
        {
          "output_type": "display_data",
          "data": {
            "image/png": "[encoded data removed]",
            "text/plain": [
              "<Figure size 432x288 with 5 Axes>"
            ]
          },
          "metadata": {
            "tags": [],
            "needs_background": "light"
          }
        }
      ]
    },
    {
      "cell_type": "markdown",
      "metadata": {
        "id": "-amyuiWkp-ll"
      },
      "source": [
        "## 2-4. Discussion\n",
        "1. Train Data에 대한 정확도와, Test Data에 대한 정확도가 왜 다를까요?\n",
        "- Train Data는 Test Data와 달리 일반적이지 않으므로, 일반화 성능에 따라 정확도가 달라질 수 있다.\n",
        "\n",
        "2. 다른 사람들은 정확도가 99퍼가 넘는 모델도 만들던데, DNN의 한계가 있다면 어떤 점이 있을까요? (Hint: 우리는 28x28의 이미지를 768x1로 쫙 펴서 넣어 줬습니다.)\n",
        "- 각 픽셀의 2차원 좌표값이 상실되므로 인접 관계, 국소적 형태 등을 고려할 수 없다. "
      ],
      "id": "-amyuiWkp-ll"
    },
    {
      "cell_type": "code",
      "metadata": {
        "id": "0bzJ_d1s0JSj"
      },
      "source": [
        ""
      ],
      "id": "0bzJ_d1s0JSj",
      "execution_count": 18,
      "outputs": []
    }
  ]
}