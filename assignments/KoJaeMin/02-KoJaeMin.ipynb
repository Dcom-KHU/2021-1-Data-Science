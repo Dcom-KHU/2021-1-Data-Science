{
 "cells": [
  {
   "cell_type": "code",
   "execution_count": null,
   "metadata": {},
   "outputs": [],
   "source": [
    "import pandas as pd\n",
    "import numpy as np\n",
    "\n",
    "df = pd.read_csv('./Football teams.csv')\n",
    "df"
   ]
  },
  {
   "cell_type": "markdown",
   "metadata": {},
   "source": [
    "각 Column의 정보는 다음 링크에 있는 것과 같습니다.\n",
    "\n",
    "https://www.kaggle.com/varpit94/football-teams-rankings-stats\n",
    "\n",
    "## Assignments 1\n",
    "패스 성공률이 높은 상위 5개의 팀을 추출 해 보세요\n",
    "(hint: sort_values, head)"
   ]
  },
  {
   "cell_type": "code",
   "execution_count": null,
   "metadata": {},
   "outputs": [],
   "source": [
    "pass_sort = df.sort_values(by=['Pass%'],ascending=False)\n",
    "pass_sort.head()"
   ]
  },
  {
   "cell_type": "markdown",
   "metadata": {},
   "source": [
    "## Assignments 2\n",
    "모든 팀 중에서 점유율이 60% 이상인 팀을 추출 하세요"
   ]
  },
  {
   "cell_type": "code",
   "execution_count": null,
   "metadata": {},
   "outputs": [],
   "source": [
    "possession_sort = df[df['Possession%']>=60]\n",
    "possession_sort"
   ]
  },
  {
   "cell_type": "markdown",
   "metadata": {},
   "source": [
    "## Assignments 3\n",
    "5대 리그 중, 제일 과격 한 리그는 무엇일까요? 일단 Yellow Card 갯수 순서로 리그를 정렬 해 주고, 거기서 yellow_cards와 red_cards 수로 정렬 해 주세요!\n",
    "(hint: groupby, sum, loc)"
   ]
  },
  {
   "cell_type": "code",
   "execution_count": null,
   "metadata": {},
   "outputs": [],
   "source": [
    "yellowcard_sort = df.groupby('Tournament').sum().sort_values(by=['yellow_cards'],ascending=False)\n",
    "card_sort = yellowcard_sort.sort_values(by=['yellow_cards','red_cards'],ascending=False).loc[:,['yellow_cards','red_cards']]\n",
    "card_sort"
   ]
  },
  {
   "cell_type": "markdown",
   "metadata": {},
   "source": [
    "## Assignments 4\n",
    "\n",
    "생각해 보니 레드 카드도 감안을 해야 할 것 같습니다. 레드 카드 5점, 옐로우 카드 2점으로 점수를 산정 하여, 해당 점수를 바탕으로 정렬해서, 진짜 과격한 리그가 어느 리그인지 알아 보도록 해봐요!\n",
    "\n",
    "아 맞다, df['A'] = df['B'] * 5 + df['C'] * 2\n",
    "\n",
    "이런 식으로 새로운 Column을 만들면 되지 않을까요?"
   ]
  },
  {
   "cell_type": "code",
   "execution_count": null,
   "metadata": {},
   "outputs": [],
   "source": [
    "card_sort['score'] = card_sort['red_cards']*5 + card_sort['yellow_cards']*2\n",
    "card_sort"
   ]
  },
  {
   "cell_type": "markdown",
   "metadata": {},
   "source": [
    "## Assignments 5\n",
    "흠.. 근데 패스 성공률과 점유율의 상관관계에 대해서 알아보고 싶은데.. 선형 적인 면에서 이를 알 수 있을까요? numpy를 이용해서 covariance matrix를 통해서 알아 보면 될 것 같은데...\n",
    "\n",
    "hint: to_numpy, T, cov"
   ]
  },
  {
   "cell_type": "code",
   "execution_count": null,
   "metadata": {},
   "outputs": [],
   "source": [
    "np.cov(df['Possession%'],df['Pass%'])"
   ]
  },
  {
   "cell_type": "code",
   "execution_count": null,
   "metadata": {},
   "outputs": [],
   "source": []
  }
 ],
 "metadata": {
  "kernelspec": {
   "display_name": "Python 3",
   "language": "python",
   "name": "python3"
  },
  "language_info": {
   "codemirror_mode": {
    "name": "ipython",
    "version": 3
   },
   "file_extension": ".py",
   "mimetype": "text/x-python",
   "name": "python",
   "nbconvert_exporter": "python",
   "pygments_lexer": "ipython3",
   "version": "3.8.5"
  }
 },
 "nbformat": 4,
 "nbformat_minor": 4
}
