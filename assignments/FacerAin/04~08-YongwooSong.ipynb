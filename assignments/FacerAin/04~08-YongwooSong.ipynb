{
  "nbformat": 4,
  "nbformat_minor": 5,
  "metadata": {
    "kernelspec": {
      "display_name": "Python 3",
      "language": "python",
      "name": "python3"
    },
    "language_info": {
      "codemirror_mode": {
        "name": "ipython",
        "version": 3
      },
      "file_extension": ".py",
      "mimetype": "text/x-python",
      "name": "python",
      "nbconvert_exporter": "python",
      "pygments_lexer": "ipython3",
      "version": "3.7.4"
    },
    "colab": {
      "name": "04~08-YongwooSong.ipynb",
      "provenance": []
    },
    "widgets": {
      "application/vnd.jupyter.widget-state+json": {
        "c168bec50700447ab758649eda41eb47": {
          "model_module": "@jupyter-widgets/controls",
          "model_name": "HBoxModel",
          "state": {
            "_view_name": "HBoxView",
            "_dom_classes": [],
            "_model_name": "HBoxModel",
            "_view_module": "@jupyter-widgets/controls",
            "_model_module_version": "1.5.0",
            "_view_count": null,
            "_view_module_version": "1.5.0",
            "box_style": "",
            "layout": "IPY_MODEL_2985f09ed30446a8b121bbef91a6c566",
            "_model_module": "@jupyter-widgets/controls",
            "children": [
              "IPY_MODEL_2d91463ffabb40ca96089f8a6c4bb353",
              "IPY_MODEL_7c8dc9f111624de89c2fabd2745c9a7f"
            ]
          }
        },
        "2985f09ed30446a8b121bbef91a6c566": {
          "model_module": "@jupyter-widgets/base",
          "model_name": "LayoutModel",
          "state": {
            "_view_name": "LayoutView",
            "grid_template_rows": null,
            "right": null,
            "justify_content": null,
            "_view_module": "@jupyter-widgets/base",
            "overflow": null,
            "_model_module_version": "1.2.0",
            "_view_count": null,
            "flex_flow": null,
            "width": null,
            "min_width": null,
            "border": null,
            "align_items": null,
            "bottom": null,
            "_model_module": "@jupyter-widgets/base",
            "top": null,
            "grid_column": null,
            "overflow_y": null,
            "overflow_x": null,
            "grid_auto_flow": null,
            "grid_area": null,
            "grid_template_columns": null,
            "flex": null,
            "_model_name": "LayoutModel",
            "justify_items": null,
            "grid_row": null,
            "max_height": null,
            "align_content": null,
            "visibility": null,
            "align_self": null,
            "height": null,
            "min_height": null,
            "padding": null,
            "grid_auto_rows": null,
            "grid_gap": null,
            "max_width": null,
            "order": null,
            "_view_module_version": "1.2.0",
            "grid_template_areas": null,
            "object_position": null,
            "object_fit": null,
            "grid_auto_columns": null,
            "margin": null,
            "display": null,
            "left": null
          }
        },
        "2d91463ffabb40ca96089f8a6c4bb353": {
          "model_module": "@jupyter-widgets/controls",
          "model_name": "FloatProgressModel",
          "state": {
            "_view_name": "ProgressView",
            "style": "IPY_MODEL_8138a4118f2c460e811b46f72bf8b930",
            "_dom_classes": [],
            "description": "",
            "_model_name": "FloatProgressModel",
            "bar_style": "success",
            "max": 9912422,
            "_view_module": "@jupyter-widgets/controls",
            "_model_module_version": "1.5.0",
            "value": 9912422,
            "_view_count": null,
            "_view_module_version": "1.5.0",
            "orientation": "horizontal",
            "min": 0,
            "description_tooltip": null,
            "_model_module": "@jupyter-widgets/controls",
            "layout": "IPY_MODEL_279a363c23264fb7a8df52835d693fe2"
          }
        },
        "7c8dc9f111624de89c2fabd2745c9a7f": {
          "model_module": "@jupyter-widgets/controls",
          "model_name": "HTMLModel",
          "state": {
            "_view_name": "HTMLView",
            "style": "IPY_MODEL_09f61366c873484c8337e9dc9fb960a4",
            "_dom_classes": [],
            "description": "",
            "_model_name": "HTMLModel",
            "placeholder": "​",
            "_view_module": "@jupyter-widgets/controls",
            "_model_module_version": "1.5.0",
            "value": " 9913344/? [04:51&lt;00:00, 33970.58it/s]",
            "_view_count": null,
            "_view_module_version": "1.5.0",
            "description_tooltip": null,
            "_model_module": "@jupyter-widgets/controls",
            "layout": "IPY_MODEL_a18541c149d5428d9035e0569d3fd02f"
          }
        },
        "8138a4118f2c460e811b46f72bf8b930": {
          "model_module": "@jupyter-widgets/controls",
          "model_name": "ProgressStyleModel",
          "state": {
            "_view_name": "StyleView",
            "_model_name": "ProgressStyleModel",
            "description_width": "initial",
            "_view_module": "@jupyter-widgets/base",
            "_model_module_version": "1.5.0",
            "_view_count": null,
            "_view_module_version": "1.2.0",
            "bar_color": null,
            "_model_module": "@jupyter-widgets/controls"
          }
        },
        "279a363c23264fb7a8df52835d693fe2": {
          "model_module": "@jupyter-widgets/base",
          "model_name": "LayoutModel",
          "state": {
            "_view_name": "LayoutView",
            "grid_template_rows": null,
            "right": null,
            "justify_content": null,
            "_view_module": "@jupyter-widgets/base",
            "overflow": null,
            "_model_module_version": "1.2.0",
            "_view_count": null,
            "flex_flow": null,
            "width": null,
            "min_width": null,
            "border": null,
            "align_items": null,
            "bottom": null,
            "_model_module": "@jupyter-widgets/base",
            "top": null,
            "grid_column": null,
            "overflow_y": null,
            "overflow_x": null,
            "grid_auto_flow": null,
            "grid_area": null,
            "grid_template_columns": null,
            "flex": null,
            "_model_name": "LayoutModel",
            "justify_items": null,
            "grid_row": null,
            "max_height": null,
            "align_content": null,
            "visibility": null,
            "align_self": null,
            "height": null,
            "min_height": null,
            "padding": null,
            "grid_auto_rows": null,
            "grid_gap": null,
            "max_width": null,
            "order": null,
            "_view_module_version": "1.2.0",
            "grid_template_areas": null,
            "object_position": null,
            "object_fit": null,
            "grid_auto_columns": null,
            "margin": null,
            "display": null,
            "left": null
          }
        },
        "09f61366c873484c8337e9dc9fb960a4": {
          "model_module": "@jupyter-widgets/controls",
          "model_name": "DescriptionStyleModel",
          "state": {
            "_view_name": "StyleView",
            "_model_name": "DescriptionStyleModel",
            "description_width": "",
            "_view_module": "@jupyter-widgets/base",
            "_model_module_version": "1.5.0",
            "_view_count": null,
            "_view_module_version": "1.2.0",
            "_model_module": "@jupyter-widgets/controls"
          }
        },
        "a18541c149d5428d9035e0569d3fd02f": {
          "model_module": "@jupyter-widgets/base",
          "model_name": "LayoutModel",
          "state": {
            "_view_name": "LayoutView",
            "grid_template_rows": null,
            "right": null,
            "justify_content": null,
            "_view_module": "@jupyter-widgets/base",
            "overflow": null,
            "_model_module_version": "1.2.0",
            "_view_count": null,
            "flex_flow": null,
            "width": null,
            "min_width": null,
            "border": null,
            "align_items": null,
            "bottom": null,
            "_model_module": "@jupyter-widgets/base",
            "top": null,
            "grid_column": null,
            "overflow_y": null,
            "overflow_x": null,
            "grid_auto_flow": null,
            "grid_area": null,
            "grid_template_columns": null,
            "flex": null,
            "_model_name": "LayoutModel",
            "justify_items": null,
            "grid_row": null,
            "max_height": null,
            "align_content": null,
            "visibility": null,
            "align_self": null,
            "height": null,
            "min_height": null,
            "padding": null,
            "grid_auto_rows": null,
            "grid_gap": null,
            "max_width": null,
            "order": null,
            "_view_module_version": "1.2.0",
            "grid_template_areas": null,
            "object_position": null,
            "object_fit": null,
            "grid_auto_columns": null,
            "margin": null,
            "display": null,
            "left": null
          }
        },
        "702466bce95b46fd9a1cb5fa5330bb13": {
          "model_module": "@jupyter-widgets/controls",
          "model_name": "HBoxModel",
          "state": {
            "_view_name": "HBoxView",
            "_dom_classes": [],
            "_model_name": "HBoxModel",
            "_view_module": "@jupyter-widgets/controls",
            "_model_module_version": "1.5.0",
            "_view_count": null,
            "_view_module_version": "1.5.0",
            "box_style": "",
            "layout": "IPY_MODEL_9073a844d2d94500ac5eabb2e9826674",
            "_model_module": "@jupyter-widgets/controls",
            "children": [
              "IPY_MODEL_fc4568bf7d6f4c66a907120684e63edb",
              "IPY_MODEL_4764704700bc432b9b3871eda054e0e1"
            ]
          }
        },
        "9073a844d2d94500ac5eabb2e9826674": {
          "model_module": "@jupyter-widgets/base",
          "model_name": "LayoutModel",
          "state": {
            "_view_name": "LayoutView",
            "grid_template_rows": null,
            "right": null,
            "justify_content": null,
            "_view_module": "@jupyter-widgets/base",
            "overflow": null,
            "_model_module_version": "1.2.0",
            "_view_count": null,
            "flex_flow": null,
            "width": null,
            "min_width": null,
            "border": null,
            "align_items": null,
            "bottom": null,
            "_model_module": "@jupyter-widgets/base",
            "top": null,
            "grid_column": null,
            "overflow_y": null,
            "overflow_x": null,
            "grid_auto_flow": null,
            "grid_area": null,
            "grid_template_columns": null,
            "flex": null,
            "_model_name": "LayoutModel",
            "justify_items": null,
            "grid_row": null,
            "max_height": null,
            "align_content": null,
            "visibility": null,
            "align_self": null,
            "height": null,
            "min_height": null,
            "padding": null,
            "grid_auto_rows": null,
            "grid_gap": null,
            "max_width": null,
            "order": null,
            "_view_module_version": "1.2.0",
            "grid_template_areas": null,
            "object_position": null,
            "object_fit": null,
            "grid_auto_columns": null,
            "margin": null,
            "display": null,
            "left": null
          }
        },
        "fc4568bf7d6f4c66a907120684e63edb": {
          "model_module": "@jupyter-widgets/controls",
          "model_name": "FloatProgressModel",
          "state": {
            "_view_name": "ProgressView",
            "style": "IPY_MODEL_f4d119df79cd40839c042c04afa12af4",
            "_dom_classes": [],
            "description": "",
            "_model_name": "FloatProgressModel",
            "bar_style": "success",
            "max": 28881,
            "_view_module": "@jupyter-widgets/controls",
            "_model_module_version": "1.5.0",
            "value": 28881,
            "_view_count": null,
            "_view_module_version": "1.5.0",
            "orientation": "horizontal",
            "min": 0,
            "description_tooltip": null,
            "_model_module": "@jupyter-widgets/controls",
            "layout": "IPY_MODEL_3fbb8a56be2841b585263f25cb4b2636"
          }
        },
        "4764704700bc432b9b3871eda054e0e1": {
          "model_module": "@jupyter-widgets/controls",
          "model_name": "HTMLModel",
          "state": {
            "_view_name": "HTMLView",
            "style": "IPY_MODEL_832095d16a124cff9fa69f29d61b75db",
            "_dom_classes": [],
            "description": "",
            "_model_name": "HTMLModel",
            "placeholder": "​",
            "_view_module": "@jupyter-widgets/controls",
            "_model_module_version": "1.5.0",
            "value": " 29696/? [00:00&lt;00:00, 31719.68it/s]",
            "_view_count": null,
            "_view_module_version": "1.5.0",
            "description_tooltip": null,
            "_model_module": "@jupyter-widgets/controls",
            "layout": "IPY_MODEL_c456a00f31fd459b87cd1e2d0a118e70"
          }
        },
        "f4d119df79cd40839c042c04afa12af4": {
          "model_module": "@jupyter-widgets/controls",
          "model_name": "ProgressStyleModel",
          "state": {
            "_view_name": "StyleView",
            "_model_name": "ProgressStyleModel",
            "description_width": "initial",
            "_view_module": "@jupyter-widgets/base",
            "_model_module_version": "1.5.0",
            "_view_count": null,
            "_view_module_version": "1.2.0",
            "bar_color": null,
            "_model_module": "@jupyter-widgets/controls"
          }
        },
        "3fbb8a56be2841b585263f25cb4b2636": {
          "model_module": "@jupyter-widgets/base",
          "model_name": "LayoutModel",
          "state": {
            "_view_name": "LayoutView",
            "grid_template_rows": null,
            "right": null,
            "justify_content": null,
            "_view_module": "@jupyter-widgets/base",
            "overflow": null,
            "_model_module_version": "1.2.0",
            "_view_count": null,
            "flex_flow": null,
            "width": null,
            "min_width": null,
            "border": null,
            "align_items": null,
            "bottom": null,
            "_model_module": "@jupyter-widgets/base",
            "top": null,
            "grid_column": null,
            "overflow_y": null,
            "overflow_x": null,
            "grid_auto_flow": null,
            "grid_area": null,
            "grid_template_columns": null,
            "flex": null,
            "_model_name": "LayoutModel",
            "justify_items": null,
            "grid_row": null,
            "max_height": null,
            "align_content": null,
            "visibility": null,
            "align_self": null,
            "height": null,
            "min_height": null,
            "padding": null,
            "grid_auto_rows": null,
            "grid_gap": null,
            "max_width": null,
            "order": null,
            "_view_module_version": "1.2.0",
            "grid_template_areas": null,
            "object_position": null,
            "object_fit": null,
            "grid_auto_columns": null,
            "margin": null,
            "display": null,
            "left": null
          }
        },
        "832095d16a124cff9fa69f29d61b75db": {
          "model_module": "@jupyter-widgets/controls",
          "model_name": "DescriptionStyleModel",
          "state": {
            "_view_name": "StyleView",
            "_model_name": "DescriptionStyleModel",
            "description_width": "",
            "_view_module": "@jupyter-widgets/base",
            "_model_module_version": "1.5.0",
            "_view_count": null,
            "_view_module_version": "1.2.0",
            "_model_module": "@jupyter-widgets/controls"
          }
        },
        "c456a00f31fd459b87cd1e2d0a118e70": {
          "model_module": "@jupyter-widgets/base",
          "model_name": "LayoutModel",
          "state": {
            "_view_name": "LayoutView",
            "grid_template_rows": null,
            "right": null,
            "justify_content": null,
            "_view_module": "@jupyter-widgets/base",
            "overflow": null,
            "_model_module_version": "1.2.0",
            "_view_count": null,
            "flex_flow": null,
            "width": null,
            "min_width": null,
            "border": null,
            "align_items": null,
            "bottom": null,
            "_model_module": "@jupyter-widgets/base",
            "top": null,
            "grid_column": null,
            "overflow_y": null,
            "overflow_x": null,
            "grid_auto_flow": null,
            "grid_area": null,
            "grid_template_columns": null,
            "flex": null,
            "_model_name": "LayoutModel",
            "justify_items": null,
            "grid_row": null,
            "max_height": null,
            "align_content": null,
            "visibility": null,
            "align_self": null,
            "height": null,
            "min_height": null,
            "padding": null,
            "grid_auto_rows": null,
            "grid_gap": null,
            "max_width": null,
            "order": null,
            "_view_module_version": "1.2.0",
            "grid_template_areas": null,
            "object_position": null,
            "object_fit": null,
            "grid_auto_columns": null,
            "margin": null,
            "display": null,
            "left": null
          }
        },
        "799f49ff11484ffd81992dbfea2768ed": {
          "model_module": "@jupyter-widgets/controls",
          "model_name": "HBoxModel",
          "state": {
            "_view_name": "HBoxView",
            "_dom_classes": [],
            "_model_name": "HBoxModel",
            "_view_module": "@jupyter-widgets/controls",
            "_model_module_version": "1.5.0",
            "_view_count": null,
            "_view_module_version": "1.5.0",
            "box_style": "",
            "layout": "IPY_MODEL_f98ee9b3e136444aac798cafe859b695",
            "_model_module": "@jupyter-widgets/controls",
            "children": [
              "IPY_MODEL_2bf6b77f7b334e008fa55796c61f6595",
              "IPY_MODEL_40b72d8002464fa6b7de202a5719d7f6"
            ]
          }
        },
        "f98ee9b3e136444aac798cafe859b695": {
          "model_module": "@jupyter-widgets/base",
          "model_name": "LayoutModel",
          "state": {
            "_view_name": "LayoutView",
            "grid_template_rows": null,
            "right": null,
            "justify_content": null,
            "_view_module": "@jupyter-widgets/base",
            "overflow": null,
            "_model_module_version": "1.2.0",
            "_view_count": null,
            "flex_flow": null,
            "width": null,
            "min_width": null,
            "border": null,
            "align_items": null,
            "bottom": null,
            "_model_module": "@jupyter-widgets/base",
            "top": null,
            "grid_column": null,
            "overflow_y": null,
            "overflow_x": null,
            "grid_auto_flow": null,
            "grid_area": null,
            "grid_template_columns": null,
            "flex": null,
            "_model_name": "LayoutModel",
            "justify_items": null,
            "grid_row": null,
            "max_height": null,
            "align_content": null,
            "visibility": null,
            "align_self": null,
            "height": null,
            "min_height": null,
            "padding": null,
            "grid_auto_rows": null,
            "grid_gap": null,
            "max_width": null,
            "order": null,
            "_view_module_version": "1.2.0",
            "grid_template_areas": null,
            "object_position": null,
            "object_fit": null,
            "grid_auto_columns": null,
            "margin": null,
            "display": null,
            "left": null
          }
        },
        "2bf6b77f7b334e008fa55796c61f6595": {
          "model_module": "@jupyter-widgets/controls",
          "model_name": "FloatProgressModel",
          "state": {
            "_view_name": "ProgressView",
            "style": "IPY_MODEL_c8ea1cec54454c67b348a227e1cd6b49",
            "_dom_classes": [],
            "description": "",
            "_model_name": "FloatProgressModel",
            "bar_style": "success",
            "max": 1648877,
            "_view_module": "@jupyter-widgets/controls",
            "_model_module_version": "1.5.0",
            "value": 1648877,
            "_view_count": null,
            "_view_module_version": "1.5.0",
            "orientation": "horizontal",
            "min": 0,
            "description_tooltip": null,
            "_model_module": "@jupyter-widgets/controls",
            "layout": "IPY_MODEL_e1282709133944beb77a4dc85f459470"
          }
        },
        "40b72d8002464fa6b7de202a5719d7f6": {
          "model_module": "@jupyter-widgets/controls",
          "model_name": "HTMLModel",
          "state": {
            "_view_name": "HTMLView",
            "style": "IPY_MODEL_04d285c630f34976abbf22ff4d11bd9a",
            "_dom_classes": [],
            "description": "",
            "_model_name": "HTMLModel",
            "placeholder": "​",
            "_view_module": "@jupyter-widgets/controls",
            "_model_module_version": "1.5.0",
            "value": " 1649664/? [00:45&lt;00:00, 36533.77it/s]",
            "_view_count": null,
            "_view_module_version": "1.5.0",
            "description_tooltip": null,
            "_model_module": "@jupyter-widgets/controls",
            "layout": "IPY_MODEL_246127474bfe4fe19e007ccae766f565"
          }
        },
        "c8ea1cec54454c67b348a227e1cd6b49": {
          "model_module": "@jupyter-widgets/controls",
          "model_name": "ProgressStyleModel",
          "state": {
            "_view_name": "StyleView",
            "_model_name": "ProgressStyleModel",
            "description_width": "initial",
            "_view_module": "@jupyter-widgets/base",
            "_model_module_version": "1.5.0",
            "_view_count": null,
            "_view_module_version": "1.2.0",
            "bar_color": null,
            "_model_module": "@jupyter-widgets/controls"
          }
        },
        "e1282709133944beb77a4dc85f459470": {
          "model_module": "@jupyter-widgets/base",
          "model_name": "LayoutModel",
          "state": {
            "_view_name": "LayoutView",
            "grid_template_rows": null,
            "right": null,
            "justify_content": null,
            "_view_module": "@jupyter-widgets/base",
            "overflow": null,
            "_model_module_version": "1.2.0",
            "_view_count": null,
            "flex_flow": null,
            "width": null,
            "min_width": null,
            "border": null,
            "align_items": null,
            "bottom": null,
            "_model_module": "@jupyter-widgets/base",
            "top": null,
            "grid_column": null,
            "overflow_y": null,
            "overflow_x": null,
            "grid_auto_flow": null,
            "grid_area": null,
            "grid_template_columns": null,
            "flex": null,
            "_model_name": "LayoutModel",
            "justify_items": null,
            "grid_row": null,
            "max_height": null,
            "align_content": null,
            "visibility": null,
            "align_self": null,
            "height": null,
            "min_height": null,
            "padding": null,
            "grid_auto_rows": null,
            "grid_gap": null,
            "max_width": null,
            "order": null,
            "_view_module_version": "1.2.0",
            "grid_template_areas": null,
            "object_position": null,
            "object_fit": null,
            "grid_auto_columns": null,
            "margin": null,
            "display": null,
            "left": null
          }
        },
        "04d285c630f34976abbf22ff4d11bd9a": {
          "model_module": "@jupyter-widgets/controls",
          "model_name": "DescriptionStyleModel",
          "state": {
            "_view_name": "StyleView",
            "_model_name": "DescriptionStyleModel",
            "description_width": "",
            "_view_module": "@jupyter-widgets/base",
            "_model_module_version": "1.5.0",
            "_view_count": null,
            "_view_module_version": "1.2.0",
            "_model_module": "@jupyter-widgets/controls"
          }
        },
        "246127474bfe4fe19e007ccae766f565": {
          "model_module": "@jupyter-widgets/base",
          "model_name": "LayoutModel",
          "state": {
            "_view_name": "LayoutView",
            "grid_template_rows": null,
            "right": null,
            "justify_content": null,
            "_view_module": "@jupyter-widgets/base",
            "overflow": null,
            "_model_module_version": "1.2.0",
            "_view_count": null,
            "flex_flow": null,
            "width": null,
            "min_width": null,
            "border": null,
            "align_items": null,
            "bottom": null,
            "_model_module": "@jupyter-widgets/base",
            "top": null,
            "grid_column": null,
            "overflow_y": null,
            "overflow_x": null,
            "grid_auto_flow": null,
            "grid_area": null,
            "grid_template_columns": null,
            "flex": null,
            "_model_name": "LayoutModel",
            "justify_items": null,
            "grid_row": null,
            "max_height": null,
            "align_content": null,
            "visibility": null,
            "align_self": null,
            "height": null,
            "min_height": null,
            "padding": null,
            "grid_auto_rows": null,
            "grid_gap": null,
            "max_width": null,
            "order": null,
            "_view_module_version": "1.2.0",
            "grid_template_areas": null,
            "object_position": null,
            "object_fit": null,
            "grid_auto_columns": null,
            "margin": null,
            "display": null,
            "left": null
          }
        },
        "31bddc55240b4f0a9ab089b426d3bb08": {
          "model_module": "@jupyter-widgets/controls",
          "model_name": "HBoxModel",
          "state": {
            "_view_name": "HBoxView",
            "_dom_classes": [],
            "_model_name": "HBoxModel",
            "_view_module": "@jupyter-widgets/controls",
            "_model_module_version": "1.5.0",
            "_view_count": null,
            "_view_module_version": "1.5.0",
            "box_style": "",
            "layout": "IPY_MODEL_5f87cd7c7cc94057b0c0652b3d515adc",
            "_model_module": "@jupyter-widgets/controls",
            "children": [
              "IPY_MODEL_18b813519d6e4c6ab50cdb5468e3da83",
              "IPY_MODEL_6ff82ecf319c42e9b2b65ef0afa389a8"
            ]
          }
        },
        "5f87cd7c7cc94057b0c0652b3d515adc": {
          "model_module": "@jupyter-widgets/base",
          "model_name": "LayoutModel",
          "state": {
            "_view_name": "LayoutView",
            "grid_template_rows": null,
            "right": null,
            "justify_content": null,
            "_view_module": "@jupyter-widgets/base",
            "overflow": null,
            "_model_module_version": "1.2.0",
            "_view_count": null,
            "flex_flow": null,
            "width": null,
            "min_width": null,
            "border": null,
            "align_items": null,
            "bottom": null,
            "_model_module": "@jupyter-widgets/base",
            "top": null,
            "grid_column": null,
            "overflow_y": null,
            "overflow_x": null,
            "grid_auto_flow": null,
            "grid_area": null,
            "grid_template_columns": null,
            "flex": null,
            "_model_name": "LayoutModel",
            "justify_items": null,
            "grid_row": null,
            "max_height": null,
            "align_content": null,
            "visibility": null,
            "align_self": null,
            "height": null,
            "min_height": null,
            "padding": null,
            "grid_auto_rows": null,
            "grid_gap": null,
            "max_width": null,
            "order": null,
            "_view_module_version": "1.2.0",
            "grid_template_areas": null,
            "object_position": null,
            "object_fit": null,
            "grid_auto_columns": null,
            "margin": null,
            "display": null,
            "left": null
          }
        },
        "18b813519d6e4c6ab50cdb5468e3da83": {
          "model_module": "@jupyter-widgets/controls",
          "model_name": "FloatProgressModel",
          "state": {
            "_view_name": "ProgressView",
            "style": "IPY_MODEL_7aa41b41c4d0481ba16a2f27158468b8",
            "_dom_classes": [],
            "description": "",
            "_model_name": "FloatProgressModel",
            "bar_style": "success",
            "max": 4542,
            "_view_module": "@jupyter-widgets/controls",
            "_model_module_version": "1.5.0",
            "value": 4542,
            "_view_count": null,
            "_view_module_version": "1.5.0",
            "orientation": "horizontal",
            "min": 0,
            "description_tooltip": null,
            "_model_module": "@jupyter-widgets/controls",
            "layout": "IPY_MODEL_eca20e7da2c54281a9a6bc5a0803b35c"
          }
        },
        "6ff82ecf319c42e9b2b65ef0afa389a8": {
          "model_module": "@jupyter-widgets/controls",
          "model_name": "HTMLModel",
          "state": {
            "_view_name": "HTMLView",
            "style": "IPY_MODEL_299d7f284c6f4dc6a5f9702c89a782e7",
            "_dom_classes": [],
            "description": "",
            "_model_name": "HTMLModel",
            "placeholder": "​",
            "_view_module": "@jupyter-widgets/controls",
            "_model_module_version": "1.5.0",
            "value": " 5120/? [00:00&lt;00:00, 15788.82it/s]",
            "_view_count": null,
            "_view_module_version": "1.5.0",
            "description_tooltip": null,
            "_model_module": "@jupyter-widgets/controls",
            "layout": "IPY_MODEL_4210447dc0ed4b6a8eae01652336a557"
          }
        },
        "7aa41b41c4d0481ba16a2f27158468b8": {
          "model_module": "@jupyter-widgets/controls",
          "model_name": "ProgressStyleModel",
          "state": {
            "_view_name": "StyleView",
            "_model_name": "ProgressStyleModel",
            "description_width": "initial",
            "_view_module": "@jupyter-widgets/base",
            "_model_module_version": "1.5.0",
            "_view_count": null,
            "_view_module_version": "1.2.0",
            "bar_color": null,
            "_model_module": "@jupyter-widgets/controls"
          }
        },
        "eca20e7da2c54281a9a6bc5a0803b35c": {
          "model_module": "@jupyter-widgets/base",
          "model_name": "LayoutModel",
          "state": {
            "_view_name": "LayoutView",
            "grid_template_rows": null,
            "right": null,
            "justify_content": null,
            "_view_module": "@jupyter-widgets/base",
            "overflow": null,
            "_model_module_version": "1.2.0",
            "_view_count": null,
            "flex_flow": null,
            "width": null,
            "min_width": null,
            "border": null,
            "align_items": null,
            "bottom": null,
            "_model_module": "@jupyter-widgets/base",
            "top": null,
            "grid_column": null,
            "overflow_y": null,
            "overflow_x": null,
            "grid_auto_flow": null,
            "grid_area": null,
            "grid_template_columns": null,
            "flex": null,
            "_model_name": "LayoutModel",
            "justify_items": null,
            "grid_row": null,
            "max_height": null,
            "align_content": null,
            "visibility": null,
            "align_self": null,
            "height": null,
            "min_height": null,
            "padding": null,
            "grid_auto_rows": null,
            "grid_gap": null,
            "max_width": null,
            "order": null,
            "_view_module_version": "1.2.0",
            "grid_template_areas": null,
            "object_position": null,
            "object_fit": null,
            "grid_auto_columns": null,
            "margin": null,
            "display": null,
            "left": null
          }
        },
        "299d7f284c6f4dc6a5f9702c89a782e7": {
          "model_module": "@jupyter-widgets/controls",
          "model_name": "DescriptionStyleModel",
          "state": {
            "_view_name": "StyleView",
            "_model_name": "DescriptionStyleModel",
            "description_width": "",
            "_view_module": "@jupyter-widgets/base",
            "_model_module_version": "1.5.0",
            "_view_count": null,
            "_view_module_version": "1.2.0",
            "_model_module": "@jupyter-widgets/controls"
          }
        },
        "4210447dc0ed4b6a8eae01652336a557": {
          "model_module": "@jupyter-widgets/base",
          "model_name": "LayoutModel",
          "state": {
            "_view_name": "LayoutView",
            "grid_template_rows": null,
            "right": null,
            "justify_content": null,
            "_view_module": "@jupyter-widgets/base",
            "overflow": null,
            "_model_module_version": "1.2.0",
            "_view_count": null,
            "flex_flow": null,
            "width": null,
            "min_width": null,
            "border": null,
            "align_items": null,
            "bottom": null,
            "_model_module": "@jupyter-widgets/base",
            "top": null,
            "grid_column": null,
            "overflow_y": null,
            "overflow_x": null,
            "grid_auto_flow": null,
            "grid_area": null,
            "grid_template_columns": null,
            "flex": null,
            "_model_name": "LayoutModel",
            "justify_items": null,
            "grid_row": null,
            "max_height": null,
            "align_content": null,
            "visibility": null,
            "align_self": null,
            "height": null,
            "min_height": null,
            "padding": null,
            "grid_auto_rows": null,
            "grid_gap": null,
            "max_width": null,
            "order": null,
            "_view_module_version": "1.2.0",
            "grid_template_areas": null,
            "object_position": null,
            "object_fit": null,
            "grid_auto_columns": null,
            "margin": null,
            "display": null,
            "left": null
          }
        }
      }
    }
  },
  "cells": [
    {
      "cell_type": "markdown",
      "metadata": {
        "id": "Mg2AQMlk0RyQ"
      },
      "source": [
        "## Module Import"
      ],
      "id": "Mg2AQMlk0RyQ"
    },
    {
      "cell_type": "code",
      "metadata": {
        "id": "DmFWjQsI0RyS"
      },
      "source": [
        "import numpy as np\n",
        "import pandas as pd\n",
        "import matplotlib.pyplot as plt\n",
        "import sklearn"
      ],
      "id": "DmFWjQsI0RyS",
      "execution_count": 1,
      "outputs": []
    },
    {
      "cell_type": "markdown",
      "metadata": {
        "id": "RDJeKskh0RyS"
      },
      "source": [
        "## Assignment 1.\n",
        "우리는 붓꽃의 **꽃받침의 길이, 꽃받침의 너비, 꽃잎의 길이, 꽃잎의 너비**를 통해서, **꽃의 종류**를 구분 해 볼 것입니다. **Input**으로 주어 지는 데이터는 다음과 같습니다.\n",
        "\n",
        "- Sepal Length: 꽃받침의 길이 정보이다.\n",
        "- Sepal Width: 꽃받침의 너비 정보이다.\n",
        "- Petal Length: 꽃잎의 길이 정보이다.\n",
        "- Petal Width: 꽃잎의 너비 정보이다.\n",
        "- Species: 꽃의 종류 정보이다. **setosa / versicolor / virginica** 의 3종류로 구분된다."
      ],
      "id": "RDJeKskh0RyS"
    },
    {
      "cell_type": "code",
      "metadata": {
        "id": "HpOh_MJn0RyT",
        "outputId": "0aafe712-7bf5-4536-e91d-bd06fb05f732",
        "colab": {
          "base_uri": "https://localhost:8080/"
        }
      },
      "source": [
        "from sklearn.datasets import load_iris\n",
        "from sklearn.model_selection import train_test_split\n",
        "\n",
        "data = load_iris()\n",
        "X_train, X_test, y_train, y_test = train_test_split(data.data, data.target, test_size=0.33, random_state=42, shuffle=True)\n",
        "\n",
        "print(\"X_train의 shape:\", X_train.shape)\n",
        "print(\"X_test의 shape:\", X_test.shape)\n",
        "print(\"y_train의 shape:\", y_train.shape)\n",
        "print(\"y_test의 shape:\", y_test.shape)"
      ],
      "id": "HpOh_MJn0RyT",
      "execution_count": 2,
      "outputs": [
        {
          "output_type": "stream",
          "text": [
            "X_train의 shape: (100, 4)\n",
            "X_test의 shape: (50, 4)\n",
            "y_train의 shape: (100,)\n",
            "y_test의 shape: (50,)\n"
          ],
          "name": "stdout"
        }
      ]
    },
    {
      "cell_type": "markdown",
      "metadata": {
        "id": "B2QttgPH0RyU"
      },
      "source": [
        "### 1-1. Data Normalization\n",
        "첫 번째로, 데이터를 정규화 하는 것이 중요 할 것 같습니다. 데이터를 정규화 해 보세요.\n",
        "\n",
        "(Min - Max 정규화를 이용하면 될 것 같죠? hint: ndarray.min(), ndarray.max())"
      ],
      "id": "B2QttgPH0RyU"
    },
    {
      "cell_type": "code",
      "metadata": {
        "id": "7hBZ4dZa0RyU",
        "outputId": "e1200cfa-792c-4cd7-b233-80b286b3211a",
        "colab": {
          "base_uri": "https://localhost:8080/"
        }
      },
      "source": [
        "X_train = (X_train - X_train.min()) / (X_train.max() - X_train.min())\n",
        "X_test = (X_test - X_test.min()) / (X_test.max() - X_test.min())\n",
        "print(X_train[:10])"
      ],
      "id": "7hBZ4dZa0RyU",
      "execution_count": 3,
      "outputs": [
        {
          "output_type": "stream",
          "text": [
            "[[0.73684211 0.36842105 0.53947368 0.15789474]\n",
            " [0.98684211 0.38157895 0.85526316 0.26315789]\n",
            " [0.72368421 0.38157895 0.57894737 0.18421053]\n",
            " [0.65789474 0.44736842 0.17105263 0.01315789]\n",
            " [1.         0.35526316 0.86842105 0.25      ]\n",
            " [0.75       0.34210526 0.52631579 0.11842105]\n",
            " [0.67105263 0.43421053 0.17105263 0.01315789]\n",
            " [0.64473684 0.44736842 0.15789474 0.02631579]\n",
            " [0.65789474 0.48684211 0.23684211 0.03947368]\n",
            " [0.64473684 0.25       0.44736842 0.11842105]]\n"
          ],
          "name": "stdout"
        }
      ]
    },
    {
      "cell_type": "markdown",
      "metadata": {
        "id": "452C6uGm0RyU"
      },
      "source": [
        "## 1-2. Data Training\n",
        "그 다음으로는 이제 데이터를 학습 시킬 시간입니다! SVM 모듈을 import 한 후, 학습을 시켜 보도록 하겠습니다."
      ],
      "id": "452C6uGm0RyU"
    },
    {
      "cell_type": "code",
      "metadata": {
        "id": "GBn3Lvqp0RyU",
        "outputId": "55f47750-94d5-4604-8f63-36e2b2220bb3",
        "colab": {
          "base_uri": "https://localhost:8080/"
        }
      },
      "source": [
        "from sklearn.svm import SVC\n",
        "\n",
        "svm = SVC(C=2)\n",
        "svm.fit(X_train, y_train)\n",
        "\n",
        "accuracy = (sum(svm.predict(X_test) == y_test) / 50) * 100\n",
        "print(f'정확도 (accuracy): {accuracy}%')"
      ],
      "id": "GBn3Lvqp0RyU",
      "execution_count": 4,
      "outputs": [
        {
          "output_type": "stream",
          "text": [
            "정확도 (accuracy): 100.0%\n"
          ],
          "name": "stdout"
        }
      ]
    },
    {
      "cell_type": "markdown",
      "metadata": {
        "id": "-EYN4w6a0RyV"
      },
      "source": [
        "## Assignment 2.\n",
        "다음은 **MNIST 데이터**에 대해 분류를 해보는 연습을 해 보겠습니다. **MNIST**는 손글씨 데이터로, **Input Data**는 [28 x 28]의 데이터로 이루어져 있습니다. 일단, 우리가 이를 학습 시키기 전에 한번 데이터를 확인 해 볼까요?\n",
        "\n",
        "이 예제는 DNN을 이용하기 때문에, **Pytorch**로 진행 하겠습니다. 실습은 **Hyperparameter**만 고치면 됩니다.\n",
        "\n",
        "**학습률 95%에 도전 해 보세요!**"
      ],
      "id": "-EYN4w6a0RyV"
    },
    {
      "cell_type": "code",
      "metadata": {
        "id": "pUJEbVRP0RyV"
      },
      "source": [
        "import time\n",
        "import random\n",
        "import torch\n",
        "import torch.nn as nn\n",
        "from torchvision.datasets import MNIST\n",
        "from torchvision import transforms\n",
        "from torch.utils.data import DataLoader\n",
        "import torch.nn.functional as F"
      ],
      "id": "pUJEbVRP0RyV",
      "execution_count": 5,
      "outputs": []
    },
    {
      "cell_type": "code",
      "metadata": {
        "id": "tmskaYg20RyV",
        "outputId": "e9912cd6-4abe-4ede-9ee2-4c1285b869bb",
        "colab": {
          "base_uri": "https://localhost:8080/"
        }
      },
      "source": [
        "# 이 부분은 절대 변경하지 마세요.\n",
        "\n",
        "RANDOM_SEED = 123\n",
        "DEVICE = torch.device('cuda:0' if torch.cuda.is_available() else 'cpu')\n",
        "\n",
        "random.seed(RANDOM_SEED)\n",
        "torch.manual_seed(RANDOM_SEED)"
      ],
      "id": "tmskaYg20RyV",
      "execution_count": 6,
      "outputs": [
        {
          "output_type": "execute_result",
          "data": {
            "text/plain": [
              "<torch._C.Generator at 0x7f9e77771490>"
            ]
          },
          "metadata": {
            "tags": []
          },
          "execution_count": 6
        }
      ]
    },
    {
      "cell_type": "markdown",
      "metadata": {
        "id": "vgRaa6Uv0RyV"
      },
      "source": [
        "## 2-0. Data Load\n",
        "데이터를 불러와 보겠습니다. `transforms.Compose`를 이용하여, 데이터를 pytorch에서 사용하는 **Tensor**형으로 바꾸고, 이를 **Gaussian Distribution**으로 정규화합니다."
      ],
      "id": "vgRaa6Uv0RyV"
    },
    {
      "cell_type": "code",
      "metadata": {
        "id": "qqCu1xMm0RyW"
      },
      "source": [
        "# 수정 가능한 셀입니다.\n",
        "BATCH_SIZE = 64  # 60000을 사용하면, Full-Batch 학습을 진행 합니다."
      ],
      "id": "qqCu1xMm0RyW",
      "execution_count": 7,
      "outputs": []
    },
    {
      "cell_type": "code",
      "metadata": {
        "id": "8Ke2IZBp0RyW"
      },
      "source": [
        "# Don't Touch!\n",
        "custom_train_transform = transforms.Compose([  \n",
        "                                             transforms.ToTensor(),\n",
        "                                             transforms.Normalize(mean=(0.5,), std=(0.5,))\n",
        "])\n",
        "\n",
        "custom_test_transform = transforms.Compose([\n",
        "                                             transforms.ToTensor(),\n",
        "                                             transforms.Normalize(mean=(0.5,), std=(0.5,))\n",
        "])"
      ],
      "id": "8Ke2IZBp0RyW",
      "execution_count": 8,
      "outputs": []
    },
    {
      "cell_type": "markdown",
      "metadata": {
        "id": "e4-oRbf50RyW"
      },
      "source": [
        "`MNIST`를 이용하여 **MNIST** 데이터를 불러 오고, 이를 transform 해 줍니다. 또한, `DataLoader`를 이용하여, 셔플을 해준 후, 미니 배치를 생성 합니다."
      ],
      "id": "e4-oRbf50RyW"
    },
    {
      "cell_type": "code",
      "metadata": {
        "id": "A8nqOI1g0RyW",
        "outputId": "d9e5a41d-411d-4064-d0cc-55e6ed0a3858",
        "colab": {
          "base_uri": "https://localhost:8080/",
          "height": 583,
          "referenced_widgets": [
            "c168bec50700447ab758649eda41eb47",
            "2985f09ed30446a8b121bbef91a6c566",
            "2d91463ffabb40ca96089f8a6c4bb353",
            "7c8dc9f111624de89c2fabd2745c9a7f",
            "8138a4118f2c460e811b46f72bf8b930",
            "279a363c23264fb7a8df52835d693fe2",
            "09f61366c873484c8337e9dc9fb960a4",
            "a18541c149d5428d9035e0569d3fd02f",
            "702466bce95b46fd9a1cb5fa5330bb13",
            "9073a844d2d94500ac5eabb2e9826674",
            "fc4568bf7d6f4c66a907120684e63edb",
            "4764704700bc432b9b3871eda054e0e1",
            "f4d119df79cd40839c042c04afa12af4",
            "3fbb8a56be2841b585263f25cb4b2636",
            "832095d16a124cff9fa69f29d61b75db",
            "c456a00f31fd459b87cd1e2d0a118e70",
            "799f49ff11484ffd81992dbfea2768ed",
            "f98ee9b3e136444aac798cafe859b695",
            "2bf6b77f7b334e008fa55796c61f6595",
            "40b72d8002464fa6b7de202a5719d7f6",
            "c8ea1cec54454c67b348a227e1cd6b49",
            "e1282709133944beb77a4dc85f459470",
            "04d285c630f34976abbf22ff4d11bd9a",
            "246127474bfe4fe19e007ccae766f565",
            "31bddc55240b4f0a9ab089b426d3bb08",
            "5f87cd7c7cc94057b0c0652b3d515adc",
            "18b813519d6e4c6ab50cdb5468e3da83",
            "6ff82ecf319c42e9b2b65ef0afa389a8",
            "7aa41b41c4d0481ba16a2f27158468b8",
            "eca20e7da2c54281a9a6bc5a0803b35c",
            "299d7f284c6f4dc6a5f9702c89a782e7",
            "4210447dc0ed4b6a8eae01652336a557"
          ]
        }
      },
      "source": [
        "train_dataset = MNIST(\".\", train=True, download=True, transform=custom_train_transform)\n",
        "\n",
        "train_loader = DataLoader(dataset=train_dataset,\n",
        "                          batch_size=BATCH_SIZE,\n",
        "                          shuffle=True,\n",
        "                          drop_last=True,\n",
        "                          num_workers=2)\n",
        "\n",
        "\n",
        "test_dataset = MNIST(\".\", train=False, download=True, transform=custom_test_transform)\n",
        "\n",
        "test_loader = DataLoader(dataset=test_dataset,\n",
        "                         batch_size=BATCH_SIZE,\n",
        "                         shuffle=False,\n",
        "                         num_workers=2)"
      ],
      "id": "A8nqOI1g0RyW",
      "execution_count": 9,
      "outputs": [
        {
          "output_type": "stream",
          "text": [
            "Downloading http://yann.lecun.com/exdb/mnist/train-images-idx3-ubyte.gz\n",
            "Downloading http://yann.lecun.com/exdb/mnist/train-images-idx3-ubyte.gz to ./MNIST/raw/train-images-idx3-ubyte.gz\n"
          ],
          "name": "stdout"
        },
        {
          "output_type": "display_data",
          "data": {
            "application/vnd.jupyter.widget-view+json": {
              "model_id": "c168bec50700447ab758649eda41eb47",
              "version_minor": 0,
              "version_major": 2
            },
            "text/plain": [
              "HBox(children=(FloatProgress(value=0.0, max=9912422.0), HTML(value='')))"
            ]
          },
          "metadata": {
            "tags": []
          }
        },
        {
          "output_type": "stream",
          "text": [
            "\n",
            "Extracting ./MNIST/raw/train-images-idx3-ubyte.gz to ./MNIST/raw\n",
            "\n",
            "Downloading http://yann.lecun.com/exdb/mnist/train-labels-idx1-ubyte.gz\n",
            "Downloading http://yann.lecun.com/exdb/mnist/train-labels-idx1-ubyte.gz to ./MNIST/raw/train-labels-idx1-ubyte.gz\n"
          ],
          "name": "stdout"
        },
        {
          "output_type": "display_data",
          "data": {
            "application/vnd.jupyter.widget-view+json": {
              "model_id": "702466bce95b46fd9a1cb5fa5330bb13",
              "version_minor": 0,
              "version_major": 2
            },
            "text/plain": [
              "HBox(children=(FloatProgress(value=0.0, max=28881.0), HTML(value='')))"
            ]
          },
          "metadata": {
            "tags": []
          }
        },
        {
          "output_type": "stream",
          "text": [
            "\n",
            "Extracting ./MNIST/raw/train-labels-idx1-ubyte.gz to ./MNIST/raw\n",
            "\n",
            "Downloading http://yann.lecun.com/exdb/mnist/t10k-images-idx3-ubyte.gz\n",
            "Downloading http://yann.lecun.com/exdb/mnist/t10k-images-idx3-ubyte.gz to ./MNIST/raw/t10k-images-idx3-ubyte.gz\n"
          ],
          "name": "stdout"
        },
        {
          "output_type": "display_data",
          "data": {
            "application/vnd.jupyter.widget-view+json": {
              "model_id": "799f49ff11484ffd81992dbfea2768ed",
              "version_minor": 0,
              "version_major": 2
            },
            "text/plain": [
              "HBox(children=(FloatProgress(value=0.0, max=1648877.0), HTML(value='')))"
            ]
          },
          "metadata": {
            "tags": []
          }
        },
        {
          "output_type": "stream",
          "text": [
            "\n",
            "Extracting ./MNIST/raw/t10k-images-idx3-ubyte.gz to ./MNIST/raw\n",
            "\n",
            "Downloading http://yann.lecun.com/exdb/mnist/t10k-labels-idx1-ubyte.gz\n",
            "Downloading http://yann.lecun.com/exdb/mnist/t10k-labels-idx1-ubyte.gz to ./MNIST/raw/t10k-labels-idx1-ubyte.gz\n"
          ],
          "name": "stdout"
        },
        {
          "output_type": "display_data",
          "data": {
            "application/vnd.jupyter.widget-view+json": {
              "model_id": "31bddc55240b4f0a9ab089b426d3bb08",
              "version_minor": 0,
              "version_major": 2
            },
            "text/plain": [
              "HBox(children=(FloatProgress(value=0.0, max=4542.0), HTML(value='')))"
            ]
          },
          "metadata": {
            "tags": []
          }
        },
        {
          "output_type": "stream",
          "text": [
            "\n",
            "Extracting ./MNIST/raw/t10k-labels-idx1-ubyte.gz to ./MNIST/raw\n",
            "\n"
          ],
          "name": "stdout"
        },
        {
          "output_type": "stream",
          "text": [
            "/usr/local/lib/python3.7/dist-packages/torchvision/datasets/mnist.py:498: UserWarning: The given NumPy array is not writeable, and PyTorch does not support non-writeable tensors. This means you can write to the underlying (supposedly non-writeable) NumPy array using the tensor. You may want to copy the array to protect its data or make it writeable before converting it to a tensor. This type of warning will be suppressed for the rest of this program. (Triggered internally at  /pytorch/torch/csrc/utils/tensor_numpy.cpp:180.)\n",
            "  return torch.from_numpy(parsed.astype(m[2], copy=False)).view(*s)\n"
          ],
          "name": "stderr"
        }
      ]
    },
    {
      "cell_type": "markdown",
      "metadata": {
        "id": "07nKManR0RyW"
      },
      "source": [
        "데이터가 잘 들어 왔는지 확인 합니다."
      ],
      "id": "07nKManR0RyW"
    },
    {
      "cell_type": "code",
      "metadata": {
        "id": "0u9TbYB_0RyX",
        "outputId": "df9e9d2c-fa94-45dd-f02b-27e281a9f04c",
        "colab": {
          "base_uri": "https://localhost:8080/",
          "height": 338
        }
      },
      "source": [
        "for batch_idx, (x, y) in enumerate(train_loader):\n",
        "    print(' | Batch index:', batch_idx, end='')\n",
        "    print(' | Batch size:', y.size()[0])\n",
        "\n",
        "    x = x.to(DEVICE)\n",
        "    y = y.to(DEVICE)\n",
        "\n",
        "    x_numpy = x.numpy()\n",
        "    y_numpy = y.numpy()\n",
        "    print('input batch의 모양:', x_numpy.shape)\n",
        "    plt.imshow(x_numpy[0].reshape(28, 28))\n",
        "    plt.title(f'Label {y_numpy[0]}')\n",
        "    plt.show()\n",
        "\n",
        "    print('break minibatch for-loop')\n",
        "    break"
      ],
      "id": "0u9TbYB_0RyX",
      "execution_count": 42,
      "outputs": [
        {
          "output_type": "stream",
          "text": [
            " | Batch index: 0 | Batch size: 64\n",
            "input batch의 모양: (64, 1, 28, 28)\n"
          ],
          "name": "stdout"
        },
        {
          "output_type": "display_data",
          "data": {
            "image/png": "[encoded data removed]",
            "text/plain": [
              "<Figure size 432x288 with 1 Axes>"
            ]
          },
          "metadata": {
            "tags": [],
            "needs_background": "light"
          }
        },
        {
          "output_type": "stream",
          "text": [
            "break minibatch for-loop\n"
          ],
          "name": "stdout"
        }
      ]
    },
    {
      "cell_type": "markdown",
      "metadata": {
        "id": "_IvFSDli0RyX"
      },
      "source": [
        "## 2-1. Deep Neural Network\n",
        "아래 셀은 Deep Neural Network를 정의 합니다."
      ],
      "id": "_IvFSDli0RyX"
    },
    {
      "cell_type": "code",
      "metadata": {
        "id": "FegAwOXD0RyX"
      },
      "source": [
        "# 변경 가능 합니다.\n",
        "class DNN(nn.Module):\n",
        "    def __init__(self, num_features, num_hidden_1, num_hidden_2, num_hidden_3, num_hidden_4, num_hidden_5, num_hidden_6, num_classes):\n",
        "        \"\"\"\n",
        "        num_features: input feature 갯수\n",
        "        num_hidden_1: 첫 번째 레이어의 노드 갯수\n",
        "        num_hidden_2: 두 번째 레이어의 노드 갯수\n",
        "        num_hidden_3: 세 번째 레이어의 노드 갯수\n",
        "        num_classes: 분류하고자 하는 class 갯수\n",
        "        \"\"\"\n",
        "        super(DNN, self).__init__()\n",
        "        \n",
        "        self.num_classes = num_classes\n",
        "        \n",
        "        # 수정 가능!: 레이어를 쌓는 법을 아신다면, 여기서 레이어를 쌓으셔도, 혹은 지우셔도 무방 합니다. (단, nn.Linear만)\n",
        "        self.linear_1 = nn.Linear(num_features, num_hidden_1)\n",
        "        self.linear_2 = nn.Linear(num_hidden_1, num_hidden_2)\n",
        "        self.linear_3 = nn.Linear(num_hidden_2, num_hidden_3)\n",
        "        self.linear_4 = nn.Linear(num_hidden_3, num_hidden_4)\n",
        "        self.linear_5 = nn.Linear(num_hidden_4, num_hidden_5)\n",
        "        self.linear_6 = nn.Linear(num_hidden_5, num_hidden_6)\n",
        "        self.linear_out = nn.Linear(num_hidden_6, num_classes)\n",
        "    \n",
        "    def forward(self, x):\n",
        "        out = self.linear_1(x)\n",
        "        out = torch.relu(out)\n",
        "        out = self.linear_2(out)\n",
        "        out = torch.relu(out)\n",
        "        out = self.linear_3(out)\n",
        "        out = torch.relu(out)\n",
        "        out = self.linear_4(out)\n",
        "        out = torch.relu(out)\n",
        "        out = self.linear_5(out)\n",
        "        out = torch.relu(out)\n",
        "        out = self.linear_6(out)\n",
        "        out = torch.relu(out)\n",
        "        logits = self.linear_out(out)\n",
        "        probas = torch.sigmoid(logits)\n",
        "        return logits, probas\n",
        "\n",
        "# 수정 가능!\n",
        "model = DNN(num_features=28*28, #784\n",
        "        num_hidden_1=512,\n",
        "        num_hidden_2=256,\n",
        "        num_hidden_3=128,\n",
        "        num_hidden_4=64,\n",
        "        num_hidden_5=32,\n",
        "        num_hidden_6=16,\n",
        "        num_classes=10)\n",
        "\n",
        "model = model.to(DEVICE)"
      ],
      "id": "FegAwOXD0RyX",
      "execution_count": 43,
      "outputs": []
    },
    {
      "cell_type": "markdown",
      "metadata": {
        "id": "32-FIqLL0RyY"
      },
      "source": [
        "## 2-2. Training\n",
        "여기서는 **Optimizer**와, **Epoch**를 설정 합니다. "
      ],
      "id": "32-FIqLL0RyY"
    },
    {
      "cell_type": "code",
      "metadata": {
        "id": "-VZvj_zX0RyY"
      },
      "source": [
        "# 수정 가능!\n",
        "LEARNING_LATE = 0.03  # 흠.. 이 친구는 학습률로는 너무 큰 것 같네요..\n",
        "NUM_EPOCHS = 7"
      ],
      "id": "-VZvj_zX0RyY",
      "execution_count": 44,
      "outputs": []
    },
    {
      "cell_type": "code",
      "metadata": {
        "id": "LC4RsJkp0RyY"
      },
      "source": [
        "optimizer = torch.optim.SGD(model.parameters(), lr=LEARNING_LATE)"
      ],
      "id": "LC4RsJkp0RyY",
      "execution_count": 45,
      "outputs": []
    },
    {
      "cell_type": "code",
      "metadata": {
        "id": "mwsrd3SV0RyY",
        "outputId": "6f23517d-b020-4374-ae13-48c03c0c492f",
        "colab": {
          "base_uri": "https://localhost:8080/"
        }
      },
      "source": [
        "def compute_accuracy_and_loss(model, data_loader, device):\n",
        "    correct_pred, num_examples = 0, 0\n",
        "    cross_entropy = 0.\n",
        "    for i, (features, targets) in enumerate(data_loader):\n",
        "            \n",
        "        features = features.view(-1, 28*28).to(device)\n",
        "        targets = targets.to(device)\n",
        "\n",
        "        logits, probas = model(features)\n",
        "        cross_entropy += F.cross_entropy(logits, targets).item()\n",
        "        _, predicted_labels = torch.max(probas, 1)\n",
        "        num_examples += targets.size(0)\n",
        "        correct_pred += (predicted_labels == targets).sum()\n",
        "    return correct_pred.float()/num_examples * 100, cross_entropy/num_examples\n",
        "    \n",
        "\n",
        "start_time = time.time()\n",
        "train_acc_lst, test_acc_lst = [], []\n",
        "train_loss_lst, test_loss_lst = [], []\n",
        "\n",
        "for epoch in range(NUM_EPOCHS):\n",
        "    \n",
        "    model.train()\n",
        "    \n",
        "    for batch_idx, (features, targets) in enumerate(train_loader):\n",
        "    \n",
        "        ### PREPARE MINIBATCH\n",
        "        features = features.view(-1, 28*28).to(DEVICE)\n",
        "        targets = targets.to(DEVICE)\n",
        "            \n",
        "        ### FORWARD AND BACK PROP\n",
        "        logits, probas = model(features)  # 모델 계산\n",
        "        cost = F.cross_entropy(logits, targets)  # 크로스 엔트로피 계산\n",
        "        optimizer.zero_grad()  # 기울기 초기화\n",
        "        \n",
        "        cost.backward()  # 역전파\n",
        "        \n",
        "        ### UPDATE MODEL PARAMETERS\n",
        "        optimizer.step()  # step 적용\n",
        "        \n",
        "        ### LOGGING\n",
        "        if not batch_idx % 40:\n",
        "            print (f'Epoch: {epoch+1:03d}/{NUM_EPOCHS:03d} | '\n",
        "                   f'Batch {batch_idx:03d}/{len(train_loader):03d} |' \n",
        "                   f' Cost: {cost:.4f}')\n",
        "\n",
        "    # 매 Epoch마다 evaluation을 진행합니다. \n",
        "    # Epoch마다 Loss를 기록하여 학습과정을 살펴보고 Underfitting, Overfitting 여부를 확인합니다.\n",
        "    model.eval()\n",
        "    with torch.set_grad_enabled(False): # Gradient 계산이 안되도록\n",
        "        train_acc, train_loss = compute_accuracy_and_loss(model, train_loader, device=DEVICE) # train acc, loss 계산\n",
        "        test_acc, test_loss = compute_accuracy_and_loss(model, test_loader, device=DEVICE)    # test acc, loss 계산\n",
        "        \n",
        "        # list에 train, test의  acc, loss 추가\n",
        "        train_acc_lst.append(train_acc)\n",
        "        test_acc_lst.append(test_acc)\n",
        "        train_loss_lst.append(train_loss)\n",
        "        test_loss_lst.append(test_loss)\n",
        "        \n",
        "        # 로깅\n",
        "        print(f'Epoch: {epoch+1:03d}/{NUM_EPOCHS:03d} Train Acc.: {train_acc:.2f}%'\n",
        "              f' | Test Acc.: {test_acc:.2f}%')\n",
        "    \n",
        "    # 1 epoch 학습 소요시간\n",
        "    elapsed = (time.time() - start_time)/60\n",
        "    print(f'Time elapsed: {elapsed:.2f} min')\n",
        "\n",
        "# 총 학습 소요시간\n",
        "elapsed = (time.time() - start_time)/60\n",
        "print(f'Total Training Time: {elapsed:.2f} min')"
      ],
      "id": "mwsrd3SV0RyY",
      "execution_count": 46,
      "outputs": [
        {
          "output_type": "stream",
          "text": [
            "Epoch: 001/007 | Batch 000/937 | Cost: 2.3051\n",
            "Epoch: 001/007 | Batch 040/937 | Cost: 2.3050\n",
            "Epoch: 001/007 | Batch 080/937 | Cost: 2.3196\n",
            "Epoch: 001/007 | Batch 120/937 | Cost: 2.2933\n",
            "Epoch: 001/007 | Batch 160/937 | Cost: 2.2873\n",
            "Epoch: 001/007 | Batch 200/937 | Cost: 2.3018\n",
            "Epoch: 001/007 | Batch 240/937 | Cost: 2.3024\n",
            "Epoch: 001/007 | Batch 280/937 | Cost: 2.2884\n",
            "Epoch: 001/007 | Batch 320/937 | Cost: 2.2919\n",
            "Epoch: 001/007 | Batch 360/937 | Cost: 2.3014\n",
            "Epoch: 001/007 | Batch 400/937 | Cost: 2.3063\n",
            "Epoch: 001/007 | Batch 440/937 | Cost: 2.2895\n",
            "Epoch: 001/007 | Batch 480/937 | Cost: 2.2928\n",
            "Epoch: 001/007 | Batch 520/937 | Cost: 2.2855\n",
            "Epoch: 001/007 | Batch 560/937 | Cost: 2.2969\n",
            "Epoch: 001/007 | Batch 600/937 | Cost: 2.2637\n",
            "Epoch: 001/007 | Batch 640/937 | Cost: 2.2701\n",
            "Epoch: 001/007 | Batch 680/937 | Cost: 2.2524\n",
            "Epoch: 001/007 | Batch 720/937 | Cost: 2.2408\n",
            "Epoch: 001/007 | Batch 760/937 | Cost: 2.0888\n",
            "Epoch: 001/007 | Batch 800/937 | Cost: 2.1945\n",
            "Epoch: 001/007 | Batch 840/937 | Cost: 2.1121\n",
            "Epoch: 001/007 | Batch 880/937 | Cost: 1.9820\n",
            "Epoch: 001/007 | Batch 920/937 | Cost: 1.9330\n",
            "Epoch: 001/007 Train Acc.: 24.77% | Test Acc.: 24.76%\n",
            "Time elapsed: 0.49 min\n",
            "Epoch: 002/007 | Batch 000/937 | Cost: 1.9802\n",
            "Epoch: 002/007 | Batch 040/937 | Cost: 1.9297\n",
            "Epoch: 002/007 | Batch 080/937 | Cost: 1.7536\n",
            "Epoch: 002/007 | Batch 120/937 | Cost: 1.9944\n",
            "Epoch: 002/007 | Batch 160/937 | Cost: 1.5816\n",
            "Epoch: 002/007 | Batch 200/937 | Cost: 1.2345\n",
            "Epoch: 002/007 | Batch 240/937 | Cost: 1.5398\n",
            "Epoch: 002/007 | Batch 280/937 | Cost: 1.2508\n",
            "Epoch: 002/007 | Batch 320/937 | Cost: 0.8183\n",
            "Epoch: 002/007 | Batch 360/937 | Cost: 0.9308\n",
            "Epoch: 002/007 | Batch 400/937 | Cost: 0.9151\n",
            "Epoch: 002/007 | Batch 440/937 | Cost: 0.9865\n",
            "Epoch: 002/007 | Batch 480/937 | Cost: 1.2493\n",
            "Epoch: 002/007 | Batch 520/937 | Cost: 0.9916\n",
            "Epoch: 002/007 | Batch 560/937 | Cost: 1.0245\n",
            "Epoch: 002/007 | Batch 600/937 | Cost: 0.8331\n",
            "Epoch: 002/007 | Batch 640/937 | Cost: 0.6203\n",
            "Epoch: 002/007 | Batch 680/937 | Cost: 0.6986\n",
            "Epoch: 002/007 | Batch 720/937 | Cost: 0.6322\n",
            "Epoch: 002/007 | Batch 760/937 | Cost: 0.6980\n",
            "Epoch: 002/007 | Batch 800/937 | Cost: 0.6568\n",
            "Epoch: 002/007 | Batch 840/937 | Cost: 0.6600\n",
            "Epoch: 002/007 | Batch 880/937 | Cost: 0.5323\n",
            "Epoch: 002/007 | Batch 920/937 | Cost: 0.4260\n",
            "Epoch: 002/007 Train Acc.: 87.28% | Test Acc.: 87.03%\n",
            "Time elapsed: 0.98 min\n",
            "Epoch: 003/007 | Batch 000/937 | Cost: 0.3698\n",
            "Epoch: 003/007 | Batch 040/937 | Cost: 0.7032\n",
            "Epoch: 003/007 | Batch 080/937 | Cost: 0.8118\n",
            "Epoch: 003/007 | Batch 120/937 | Cost: 0.3664\n",
            "Epoch: 003/007 | Batch 160/937 | Cost: 0.3597\n",
            "Epoch: 003/007 | Batch 200/937 | Cost: 0.2765\n",
            "Epoch: 003/007 | Batch 240/937 | Cost: 0.4732\n",
            "Epoch: 003/007 | Batch 280/937 | Cost: 0.4624\n",
            "Epoch: 003/007 | Batch 320/937 | Cost: 0.5091\n",
            "Epoch: 003/007 | Batch 360/937 | Cost: 0.4168\n",
            "Epoch: 003/007 | Batch 400/937 | Cost: 0.5132\n",
            "Epoch: 003/007 | Batch 440/937 | Cost: 0.4713\n",
            "Epoch: 003/007 | Batch 480/937 | Cost: 0.3877\n",
            "Epoch: 003/007 | Batch 520/937 | Cost: 0.3609\n",
            "Epoch: 003/007 | Batch 560/937 | Cost: 0.2648\n",
            "Epoch: 003/007 | Batch 600/937 | Cost: 0.6133\n",
            "Epoch: 003/007 | Batch 640/937 | Cost: 0.4115\n",
            "Epoch: 003/007 | Batch 680/937 | Cost: 0.6602\n",
            "Epoch: 003/007 | Batch 720/937 | Cost: 0.3881\n",
            "Epoch: 003/007 | Batch 760/937 | Cost: 0.2994\n",
            "Epoch: 003/007 | Batch 800/937 | Cost: 0.6417\n",
            "Epoch: 003/007 | Batch 840/937 | Cost: 0.2931\n",
            "Epoch: 003/007 | Batch 880/937 | Cost: 0.4454\n",
            "Epoch: 003/007 | Batch 920/937 | Cost: 0.2734\n",
            "Epoch: 003/007 Train Acc.: 92.46% | Test Acc.: 92.16%\n",
            "Time elapsed: 1.47 min\n",
            "Epoch: 004/007 | Batch 000/937 | Cost: 0.3526\n",
            "Epoch: 004/007 | Batch 040/937 | Cost: 0.4004\n",
            "Epoch: 004/007 | Batch 080/937 | Cost: 0.2371\n",
            "Epoch: 004/007 | Batch 120/937 | Cost: 0.2601\n",
            "Epoch: 004/007 | Batch 160/937 | Cost: 0.3487\n",
            "Epoch: 004/007 | Batch 200/937 | Cost: 0.1687\n",
            "Epoch: 004/007 | Batch 240/937 | Cost: 0.2159\n",
            "Epoch: 004/007 | Batch 280/937 | Cost: 0.3288\n",
            "Epoch: 004/007 | Batch 320/937 | Cost: 1.0825\n",
            "Epoch: 004/007 | Batch 360/937 | Cost: 0.2884\n",
            "Epoch: 004/007 | Batch 400/937 | Cost: 0.2189\n",
            "Epoch: 004/007 | Batch 440/937 | Cost: 0.1210\n",
            "Epoch: 004/007 | Batch 480/937 | Cost: 0.2503\n",
            "Epoch: 004/007 | Batch 520/937 | Cost: 0.1030\n",
            "Epoch: 004/007 | Batch 560/937 | Cost: 0.3004\n",
            "Epoch: 004/007 | Batch 600/937 | Cost: 0.1807\n",
            "Epoch: 004/007 | Batch 640/937 | Cost: 0.1561\n",
            "Epoch: 004/007 | Batch 680/937 | Cost: 0.5699\n",
            "Epoch: 004/007 | Batch 720/937 | Cost: 0.2622\n",
            "Epoch: 004/007 | Batch 760/937 | Cost: 0.2466\n",
            "Epoch: 004/007 | Batch 800/937 | Cost: 0.1958\n",
            "Epoch: 004/007 | Batch 840/937 | Cost: 0.2646\n",
            "Epoch: 004/007 | Batch 880/937 | Cost: 0.1286\n",
            "Epoch: 004/007 | Batch 920/937 | Cost: 0.1508\n",
            "Epoch: 004/007 Train Acc.: 94.87% | Test Acc.: 94.25%\n",
            "Time elapsed: 1.96 min\n",
            "Epoch: 005/007 | Batch 000/937 | Cost: 0.3580\n",
            "Epoch: 005/007 | Batch 040/937 | Cost: 0.0993\n",
            "Epoch: 005/007 | Batch 080/937 | Cost: 0.2502\n",
            "Epoch: 005/007 | Batch 120/937 | Cost: 0.2258\n",
            "Epoch: 005/007 | Batch 160/937 | Cost: 0.1926\n",
            "Epoch: 005/007 | Batch 200/937 | Cost: 0.3053\n",
            "Epoch: 005/007 | Batch 240/937 | Cost: 0.1361\n",
            "Epoch: 005/007 | Batch 280/937 | Cost: 0.2130\n",
            "Epoch: 005/007 | Batch 320/937 | Cost: 0.3612\n",
            "Epoch: 005/007 | Batch 360/937 | Cost: 0.2541\n",
            "Epoch: 005/007 | Batch 400/937 | Cost: 0.2666\n",
            "Epoch: 005/007 | Batch 440/937 | Cost: 0.2178\n",
            "Epoch: 005/007 | Batch 480/937 | Cost: 0.0790\n",
            "Epoch: 005/007 | Batch 520/937 | Cost: 0.2208\n",
            "Epoch: 005/007 | Batch 560/937 | Cost: 0.1948\n",
            "Epoch: 005/007 | Batch 600/937 | Cost: 0.1294\n",
            "Epoch: 005/007 | Batch 640/937 | Cost: 0.3314\n",
            "Epoch: 005/007 | Batch 680/937 | Cost: 0.1429\n",
            "Epoch: 005/007 | Batch 720/937 | Cost: 0.1141\n",
            "Epoch: 005/007 | Batch 760/937 | Cost: 0.2762\n",
            "Epoch: 005/007 | Batch 800/937 | Cost: 0.2716\n",
            "Epoch: 005/007 | Batch 840/937 | Cost: 0.1363\n",
            "Epoch: 005/007 | Batch 880/937 | Cost: 0.1944\n",
            "Epoch: 005/007 | Batch 920/937 | Cost: 0.2549\n",
            "Epoch: 005/007 Train Acc.: 94.87% | Test Acc.: 93.69%\n",
            "Time elapsed: 2.46 min\n",
            "Epoch: 006/007 | Batch 000/937 | Cost: 0.0830\n",
            "Epoch: 006/007 | Batch 040/937 | Cost: 0.2559\n",
            "Epoch: 006/007 | Batch 080/937 | Cost: 0.1642\n",
            "Epoch: 006/007 | Batch 120/937 | Cost: 0.3356\n",
            "Epoch: 006/007 | Batch 160/937 | Cost: 0.0825\n",
            "Epoch: 006/007 | Batch 200/937 | Cost: 0.0724\n",
            "Epoch: 006/007 | Batch 240/937 | Cost: 0.3306\n",
            "Epoch: 006/007 | Batch 280/937 | Cost: 0.0826\n",
            "Epoch: 006/007 | Batch 320/937 | Cost: 0.1306\n",
            "Epoch: 006/007 | Batch 360/937 | Cost: 0.3551\n",
            "Epoch: 006/007 | Batch 400/937 | Cost: 0.0742\n",
            "Epoch: 006/007 | Batch 440/937 | Cost: 0.1950\n",
            "Epoch: 006/007 | Batch 480/937 | Cost: 0.1934\n",
            "Epoch: 006/007 | Batch 520/937 | Cost: 0.1601\n",
            "Epoch: 006/007 | Batch 560/937 | Cost: 0.2521\n",
            "Epoch: 006/007 | Batch 600/937 | Cost: 0.3337\n",
            "Epoch: 006/007 | Batch 640/937 | Cost: 0.3338\n",
            "Epoch: 006/007 | Batch 680/937 | Cost: 0.0945\n",
            "Epoch: 006/007 | Batch 720/937 | Cost: 0.0896\n",
            "Epoch: 006/007 | Batch 760/937 | Cost: 0.0718\n",
            "Epoch: 006/007 | Batch 800/937 | Cost: 0.0521\n",
            "Epoch: 006/007 | Batch 840/937 | Cost: 0.0457\n",
            "Epoch: 006/007 | Batch 880/937 | Cost: 0.0457\n",
            "Epoch: 006/007 | Batch 920/937 | Cost: 0.0634\n",
            "Epoch: 006/007 Train Acc.: 96.04% | Test Acc.: 94.89%\n",
            "Time elapsed: 2.95 min\n",
            "Epoch: 007/007 | Batch 000/937 | Cost: 0.1325\n",
            "Epoch: 007/007 | Batch 040/937 | Cost: 0.1196\n",
            "Epoch: 007/007 | Batch 080/937 | Cost: 0.2129\n",
            "Epoch: 007/007 | Batch 120/937 | Cost: 0.0569\n",
            "Epoch: 007/007 | Batch 160/937 | Cost: 0.1109\n",
            "Epoch: 007/007 | Batch 200/937 | Cost: 0.1553\n",
            "Epoch: 007/007 | Batch 240/937 | Cost: 0.0450\n",
            "Epoch: 007/007 | Batch 280/937 | Cost: 0.0889\n",
            "Epoch: 007/007 | Batch 320/937 | Cost: 0.2187\n",
            "Epoch: 007/007 | Batch 360/937 | Cost: 0.2150\n",
            "Epoch: 007/007 | Batch 400/937 | Cost: 0.1540\n",
            "Epoch: 007/007 | Batch 440/937 | Cost: 0.1331\n",
            "Epoch: 007/007 | Batch 480/937 | Cost: 0.0868\n",
            "Epoch: 007/007 | Batch 520/937 | Cost: 0.0778\n",
            "Epoch: 007/007 | Batch 560/937 | Cost: 0.1502\n",
            "Epoch: 007/007 | Batch 600/937 | Cost: 0.0152\n",
            "Epoch: 007/007 | Batch 640/937 | Cost: 0.2950\n",
            "Epoch: 007/007 | Batch 680/937 | Cost: 0.0735\n",
            "Epoch: 007/007 | Batch 720/937 | Cost: 0.0800\n",
            "Epoch: 007/007 | Batch 760/937 | Cost: 0.2738\n",
            "Epoch: 007/007 | Batch 800/937 | Cost: 0.1679\n",
            "Epoch: 007/007 | Batch 840/937 | Cost: 0.1302\n",
            "Epoch: 007/007 | Batch 880/937 | Cost: 0.1258\n",
            "Epoch: 007/007 | Batch 920/937 | Cost: 0.0566\n",
            "Epoch: 007/007 Train Acc.: 96.62% | Test Acc.: 95.24%\n",
            "Time elapsed: 3.44 min\n",
            "Total Training Time: 3.44 min\n"
          ],
          "name": "stdout"
        }
      ]
    },
    {
      "cell_type": "markdown",
      "metadata": {
        "id": "47zkfPQ00RyZ"
      },
      "source": [
        "## 2-3. Evaluation\n",
        "테스트 데이터와 학습 데이터의 Loss 변화를 확인 합니다."
      ],
      "id": "47zkfPQ00RyZ"
    },
    {
      "cell_type": "code",
      "metadata": {
        "id": "wgUANDH60RyZ",
        "outputId": "311a16fb-287e-48b5-cf89-fead22021ea0",
        "colab": {
          "base_uri": "https://localhost:8080/",
          "height": 279
        }
      },
      "source": [
        "plt.plot(range(1, NUM_EPOCHS+1), train_loss_lst, label='Training loss')\n",
        "plt.plot(range(1, NUM_EPOCHS+1), test_loss_lst, label='Test loss')\n",
        "plt.legend(loc='upper right')\n",
        "plt.ylabel('Cross entropy')\n",
        "plt.xlabel('Epoch')\n",
        "plt.show()"
      ],
      "id": "wgUANDH60RyZ",
      "execution_count": 47,
      "outputs": [
        {
          "output_type": "display_data",
          "data": {
            "image/png": "[encoded data removed]",
            "text/plain": [
              "<Figure size 432x288 with 1 Axes>"
            ]
          },
          "metadata": {
            "tags": [],
            "needs_background": "light"
          }
        }
      ]
    },
    {
      "cell_type": "code",
      "metadata": {
        "id": "fpfRX_uQ0RyZ",
        "outputId": "741a7a26-479e-463f-9c7e-72e5c6bf6952",
        "colab": {
          "base_uri": "https://localhost:8080/",
          "height": 283
        }
      },
      "source": [
        "plt.plot(range(1, NUM_EPOCHS+1), train_acc_lst, label='Training accuracy')\n",
        "plt.plot(range(1, NUM_EPOCHS+1), test_acc_lst, label='Test accuracy')\n",
        "plt.legend(loc='upper left')\n",
        "plt.ylabel('Cross entropy')\n",
        "plt.xlabel('Epoch')\n",
        "plt.show()"
      ],
      "id": "fpfRX_uQ0RyZ",
      "execution_count": 48,
      "outputs": [
        {
          "output_type": "display_data",
          "data": {
            "image/png": "[encoded data removed]",
            "text/plain": [
              "<Figure size 432x288 with 1 Axes>"
            ]
          },
          "metadata": {
            "tags": [],
            "needs_background": "light"
          }
        }
      ]
    },
    {
      "cell_type": "code",
      "metadata": {
        "id": "3ws9MBWe0Rya",
        "outputId": "f28ba004-81fb-4412-d558-8acbacc895f8",
        "colab": {
          "base_uri": "https://localhost:8080/"
        }
      },
      "source": [
        "model.eval()\n",
        "with torch.set_grad_enabled(False): # save memory during inference\n",
        "    test_acc, test_loss = compute_accuracy_and_loss(model, test_loader, DEVICE)\n",
        "    print(f'Test accuracy: {test_acc:.2f}%')"
      ],
      "id": "3ws9MBWe0Rya",
      "execution_count": 49,
      "outputs": [
        {
          "output_type": "stream",
          "text": [
            "Test accuracy: 95.24%\n"
          ],
          "name": "stdout"
        }
      ]
    },
    {
      "cell_type": "code",
      "metadata": {
        "id": "VqTgX3eb0Rya",
        "outputId": "06b35602-2733-49ad-c65b-83d1603f6b83",
        "colab": {
          "base_uri": "https://localhost:8080/",
          "height": 122
        }
      },
      "source": [
        "for batch_idx, (x, y) in enumerate(test_loader):\n",
        "    x = x.to(DEVICE)\n",
        "    y = y.to(DEVICE)\n",
        "\n",
        "    x_numpy = x.numpy()\n",
        "    \n",
        "    fig, axes = plt.subplots(1, 5)\n",
        "    \n",
        "    for ax in axes:\n",
        "        index = random.randint(0, 64)\n",
        "        logits, probas = model(x[index].view(-1, 28*28))\n",
        "        _, predicted_labels = torch.max(probas, 1)\n",
        "        ax.imshow(x_numpy[index].reshape(28, 28))\n",
        "        ax.set_title(f'Label {predicted_labels[0]}')\n",
        "        \n",
        "    plt.show()\n",
        "    break"
      ],
      "id": "VqTgX3eb0Rya",
      "execution_count": 50,
      "outputs": [
        {
          "output_type": "display_data",
          "data": {
            "image/png": "[encoded data removed]",
            "text/plain": [
              "<Figure size 432x288 with 5 Axes>"
            ]
          },
          "metadata": {
            "tags": [],
            "needs_background": "light"
          }
        }
      ]
    },
    {
      "cell_type": "markdown",
      "metadata": {
        "id": "HXmmdf8P0Rya"
      },
      "source": [
        "## 2-4. Discussion\n",
        "1. Train Data에 대한 정확도와, Test Data에 대한 정확도가 왜 다를까요?\n",
        "- Train Data를 잘 학습하였다 가정해도 Test Data의 정답을 보장할 수 없기 때문이다. Test Data에는 Train Data에는 없는 새로운 유형의 문제가 있을 수 있다. 또한 Train Data를 완벽히 학습한 모델이 그 문제를 완벽하게 풀 수 있는 모델이라 할 수 없으며, 과적합(Overfiting)이 발생할 수도 있다. 따라서 이를 해결하기 위해서 하이퍼파라미터(학습률, 배치사이즈) 조정, Data Augmentation, 모델 개선, 적절한 학습 중단의 방법들이 필요하다.\n",
        "\n",
        "2. 다른 사람들은 정확도가 99퍼가 넘는 모델도 만들던데, DNN의 한계가 있다면 어떤 점이 있을까요? (Hint: 우리는 28x28의 이미지를 768x1로 쫙 펴서 넣어 줬습니다.)\n",
        "- 우선 입력층에 데이터를 768*1로 넣어주며 정보의 손실이 발생하였다. (숫자의 위상 정보, 인접 색상 정보 등)  \n",
        "또한 해결하려는 문제에 비해 모델이 단순하여, 특징(Feature)를 추출하는데 한계가 있어 OverFiting이나 기울기 소실 등의 문제가 발생한다. 이를 해결하기 위해서 더욱 발전한 CNN이나 Pre-Trained 된 Inception 모델 등을 활용하여 문제를 해결한다."
      ],
      "id": "HXmmdf8P0Rya"
    },
    {
      "cell_type": "code",
      "metadata": {
        "id": "8G3ZPWYn0Rya"
      },
      "source": [
        ""
      ],
      "id": "8G3ZPWYn0Rya",
      "execution_count": null,
      "outputs": []
    }
  ]
}