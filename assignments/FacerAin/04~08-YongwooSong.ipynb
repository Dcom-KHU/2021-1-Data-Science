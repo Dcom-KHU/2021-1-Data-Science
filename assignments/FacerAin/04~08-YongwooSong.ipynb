{
  "nbformat": 4,
  "nbformat_minor": 5,
  "metadata": {
    "kernelspec": {
      "display_name": "Python 3",
      "language": "python",
      "name": "python3"
    },
    "language_info": {
      "codemirror_mode": {
        "name": "ipython",
        "version": 3
      },
      "file_extension": ".py",
      "mimetype": "text/x-python",
      "name": "python",
      "nbconvert_exporter": "python",
      "pygments_lexer": "ipython3",
      "version": "3.7.4"
    },
    "colab": {
      "name": "04~08-YongwooSong.ipynb",
      "provenance": []
    }
  },
  "cells": [
    {
      "cell_type": "markdown",
      "metadata": {
        "id": "Mg2AQMlk0RyQ"
      },
      "source": [
        "## Module Import"
      ],
      "id": "Mg2AQMlk0RyQ"
    },
    {
      "cell_type": "code",
      "metadata": {
        "id": "DmFWjQsI0RyS"
      },
      "source": [
        "import numpy as np\n",
        "import pandas as pd\n",
        "import matplotlib.pyplot as plt\n",
        "import sklearn"
      ],
      "id": "DmFWjQsI0RyS",
      "execution_count": 1,
      "outputs": []
    },
    {
      "cell_type": "markdown",
      "metadata": {
        "id": "RDJeKskh0RyS"
      },
      "source": [
        "## Assignment 1.\n",
        "우리는 붓꽃의 **꽃받침의 길이, 꽃받침의 너비, 꽃잎의 길이, 꽃잎의 너비**를 통해서, **꽃의 종류**를 구분 해 볼 것입니다. **Input**으로 주어 지는 데이터는 다음과 같습니다.\n",
        "\n",
        "- Sepal Length: 꽃받침의 길이 정보이다.\n",
        "- Sepal Width: 꽃받침의 너비 정보이다.\n",
        "- Petal Length: 꽃잎의 길이 정보이다.\n",
        "- Petal Width: 꽃잎의 너비 정보이다.\n",
        "- Species: 꽃의 종류 정보이다. **setosa / versicolor / virginica** 의 3종류로 구분된다."
      ],
      "id": "RDJeKskh0RyS"
    },
    {
      "cell_type": "code",
      "metadata": {
        "id": "HpOh_MJn0RyT",
        "colab": {
          "base_uri": "https://localhost:8080/"
        },
        "outputId": "83a11b30-1b95-49e1-a99d-f6a70b3613e2"
      },
      "source": [
        "from sklearn.datasets import load_iris\n",
        "from sklearn.model_selection import train_test_split\n",
        "\n",
        "data = load_iris()\n",
        "X_train, X_test, y_train, y_test = train_test_split(data.data, data.target, test_size=0.33, random_state=42, shuffle=True)\n",
        "\n",
        "print(\"X_train의 shape:\", X_train.shape)\n",
        "print(\"X_test의 shape:\", X_test.shape)\n",
        "print(\"y_train의 shape:\", y_train.shape)\n",
        "print(\"y_test의 shape:\", y_test.shape)"
      ],
      "id": "HpOh_MJn0RyT",
      "execution_count": 2,
      "outputs": [
        {
          "output_type": "stream",
          "text": [
            "X_train의 shape: (100, 4)\n",
            "X_test의 shape: (50, 4)\n",
            "y_train의 shape: (100,)\n",
            "y_test의 shape: (50,)\n"
          ],
          "name": "stdout"
        }
      ]
    },
    {
      "cell_type": "markdown",
      "metadata": {
        "id": "B2QttgPH0RyU"
      },
      "source": [
        "### 1-1. Data Normalization\n",
        "첫 번째로, 데이터를 정규화 하는 것이 중요 할 것 같습니다. 데이터를 정규화 해 보세요.\n",
        "\n",
        "(Min - Max 정규화를 이용하면 될 것 같죠? hint: ndarray.min(), ndarray.max())"
      ],
      "id": "B2QttgPH0RyU"
    },
    {
      "cell_type": "code",
      "metadata": {
        "id": "7hBZ4dZa0RyU",
        "colab": {
          "base_uri": "https://localhost:8080/"
        },
        "outputId": "b79447f2-db2e-4af5-ab6a-0ca94901a800"
      },
      "source": [
        "X_train = (X_train - X_train.min()) / (X_train.max() - X_train.min())\n",
        "X_test = (X_test - X_test.min()) / (X_test.max() - X_test.min())\n",
        "print(X_train[:10])"
      ],
      "id": "7hBZ4dZa0RyU",
      "execution_count": 3,
      "outputs": [
        {
          "output_type": "stream",
          "text": [
            "[[0.73684211 0.36842105 0.53947368 0.15789474]\n",
            " [0.98684211 0.38157895 0.85526316 0.26315789]\n",
            " [0.72368421 0.38157895 0.57894737 0.18421053]\n",
            " [0.65789474 0.44736842 0.17105263 0.01315789]\n",
            " [1.         0.35526316 0.86842105 0.25      ]\n",
            " [0.75       0.34210526 0.52631579 0.11842105]\n",
            " [0.67105263 0.43421053 0.17105263 0.01315789]\n",
            " [0.64473684 0.44736842 0.15789474 0.02631579]\n",
            " [0.65789474 0.48684211 0.23684211 0.03947368]\n",
            " [0.64473684 0.25       0.44736842 0.11842105]]\n"
          ],
          "name": "stdout"
        }
      ]
    },
    {
      "cell_type": "markdown",
      "metadata": {
        "id": "452C6uGm0RyU"
      },
      "source": [
        "## 1-2. Data Training\n",
        "그 다음으로는 이제 데이터를 학습 시킬 시간입니다! SVM 모듈을 import 한 후, 학습을 시켜 보도록 하겠습니다."
      ],
      "id": "452C6uGm0RyU"
    },
    {
      "cell_type": "code",
      "metadata": {
        "id": "GBn3Lvqp0RyU",
        "colab": {
          "base_uri": "https://localhost:8080/"
        },
        "outputId": "561223a9-5e24-4e83-c32a-97fd55624336"
      },
      "source": [
        "from sklearn.svm import SVC\n",
        "\n",
        "svm = SVC(C=2)\n",
        "svm.fit(X_train, y_train)\n",
        "\n",
        "accuracy = (sum(svm.predict(X_test) == y_test) / 50) * 100\n",
        "print(f'정확도 (accuracy): {accuracy}%')"
      ],
      "id": "GBn3Lvqp0RyU",
      "execution_count": 4,
      "outputs": [
        {
          "output_type": "stream",
          "text": [
            "정확도 (accuracy): 100.0%\n"
          ],
          "name": "stdout"
        }
      ]
    },
    {
      "cell_type": "markdown",
      "metadata": {
        "id": "-EYN4w6a0RyV"
      },
      "source": [
        "## Assignment 2.\n",
        "다음은 **MNIST 데이터**에 대해 분류를 해보는 연습을 해 보겠습니다. **MNIST**는 손글씨 데이터로, **Input Data**는 [28 x 28]의 데이터로 이루어져 있습니다. 일단, 우리가 이를 학습 시키기 전에 한번 데이터를 확인 해 볼까요?\n",
        "\n",
        "이 예제는 DNN을 이용하기 때문에, **Pytorch**로 진행 하겠습니다. 실습은 **Hyperparameter**만 고치면 됩니다.\n",
        "\n",
        "**학습률 95%에 도전 해 보세요!**"
      ],
      "id": "-EYN4w6a0RyV"
    },
    {
      "cell_type": "code",
      "metadata": {
        "id": "pUJEbVRP0RyV"
      },
      "source": [
        "import time\n",
        "import random\n",
        "import torch\n",
        "import torch.nn as nn\n",
        "from torchvision.datasets import MNIST\n",
        "from torchvision import transforms\n",
        "from torch.utils.data import DataLoader\n",
        "import torch.nn.functional as F"
      ],
      "id": "pUJEbVRP0RyV",
      "execution_count": 5,
      "outputs": []
    },
    {
      "cell_type": "code",
      "metadata": {
        "id": "tmskaYg20RyV",
        "colab": {
          "base_uri": "https://localhost:8080/"
        },
        "outputId": "2fec68cd-3d56-4c56-e87a-5f1eda6df9e1"
      },
      "source": [
        "# 이 부분은 절대 변경하지 마세요.\n",
        "\n",
        "RANDOM_SEED = 123\n",
        "DEVICE = torch.device('cuda:0' if torch.cuda.is_available() else 'cpu')\n",
        "\n",
        "random.seed(RANDOM_SEED)\n",
        "torch.manual_seed(RANDOM_SEED)"
      ],
      "id": "tmskaYg20RyV",
      "execution_count": 6,
      "outputs": [
        {
          "output_type": "execute_result",
          "data": {
            "text/plain": [
              "<torch._C.Generator at 0x7f1355c95250>"
            ]
          },
          "metadata": {
            "tags": []
          },
          "execution_count": 6
        }
      ]
    },
    {
      "cell_type": "markdown",
      "metadata": {
        "id": "vgRaa6Uv0RyV"
      },
      "source": [
        "## 2-0. Data Load\n",
        "데이터를 불러와 보겠습니다. `transforms.Compose`를 이용하여, 데이터를 pytorch에서 사용하는 **Tensor**형으로 바꾸고, 이를 **Gaussian Distribution**으로 정규화합니다."
      ],
      "id": "vgRaa6Uv0RyV"
    },
    {
      "cell_type": "code",
      "metadata": {
        "id": "qqCu1xMm0RyW"
      },
      "source": [
        "# 수정 가능한 셀입니다.\n",
        "BATCH_SIZE = 64  # 60000을 사용하면, Full-Batch 학습을 진행 합니다."
      ],
      "id": "qqCu1xMm0RyW",
      "execution_count": 24,
      "outputs": []
    },
    {
      "cell_type": "code",
      "metadata": {
        "id": "8Ke2IZBp0RyW"
      },
      "source": [
        "# Don't Touch!\n",
        "custom_train_transform = transforms.Compose([  \n",
        "                                             transforms.ToTensor(),\n",
        "                                             transforms.Normalize(mean=(0.5,), std=(0.5,))\n",
        "])\n",
        "\n",
        "custom_test_transform = transforms.Compose([\n",
        "                                             transforms.ToTensor(),\n",
        "                                             transforms.Normalize(mean=(0.5,), std=(0.5,))\n",
        "])"
      ],
      "id": "8Ke2IZBp0RyW",
      "execution_count": 25,
      "outputs": []
    },
    {
      "cell_type": "markdown",
      "metadata": {
        "id": "e4-oRbf50RyW"
      },
      "source": [
        "`MNIST`를 이용하여 **MNIST** 데이터를 불러 오고, 이를 transform 해 줍니다. 또한, `DataLoader`를 이용하여, 셔플을 해준 후, 미니 배치를 생성 합니다."
      ],
      "id": "e4-oRbf50RyW"
    },
    {
      "cell_type": "code",
      "metadata": {
        "id": "A8nqOI1g0RyW"
      },
      "source": [
        "train_dataset = MNIST(\".\", train=True, download=True, transform=custom_train_transform)\n",
        "\n",
        "train_loader = DataLoader(dataset=train_dataset,\n",
        "                          batch_size=BATCH_SIZE,\n",
        "                          shuffle=True,\n",
        "                          drop_last=True,\n",
        "                          num_workers=2)\n",
        "\n",
        "\n",
        "test_dataset = MNIST(\".\", train=False, download=True, transform=custom_test_transform)\n",
        "\n",
        "test_loader = DataLoader(dataset=test_dataset,\n",
        "                         batch_size=BATCH_SIZE,\n",
        "                         shuffle=False,\n",
        "                         num_workers=2)"
      ],
      "id": "A8nqOI1g0RyW",
      "execution_count": 26,
      "outputs": []
    },
    {
      "cell_type": "markdown",
      "metadata": {
        "id": "07nKManR0RyW"
      },
      "source": [
        "데이터가 잘 들어 왔는지 확인 합니다."
      ],
      "id": "07nKManR0RyW"
    },
    {
      "cell_type": "code",
      "metadata": {
        "id": "0u9TbYB_0RyX",
        "colab": {
          "base_uri": "https://localhost:8080/",
          "height": 335
        },
        "outputId": "e04b8719-6ca4-4e09-bf9b-1dbaf263b66f"
      },
      "source": [
        "for batch_idx, (x, y) in enumerate(train_loader):\n",
        "    print(' | Batch index:', batch_idx, end='')\n",
        "    print(' | Batch size:', y.size()[0])\n",
        "\n",
        "    x = x.to(DEVICE)\n",
        "    y = y.to(DEVICE)\n",
        "\n",
        "    x_numpy = x.numpy()\n",
        "    y_numpy = y.numpy()\n",
        "    print('input batch의 모양:', x_numpy.shape)\n",
        "    plt.imshow(x_numpy[0].reshape(28, 28))\n",
        "    plt.title(f'Label {y_numpy[0]}')\n",
        "    plt.show()\n",
        "\n",
        "    print('break minibatch for-loop')\n",
        "    break"
      ],
      "id": "0u9TbYB_0RyX",
      "execution_count": 27,
      "outputs": [
        {
          "output_type": "stream",
          "text": [
            " | Batch index: 0 | Batch size: 64\n",
            "input batch의 모양: (64, 1, 28, 28)\n"
          ],
          "name": "stdout"
        },
        {
          "output_type": "display_data",
          "data": {
            "image/png": "[encoded data removed]",
            "text/plain": [
              "<Figure size 432x288 with 1 Axes>"
            ]
          },
          "metadata": {
            "tags": [],
            "needs_background": "light"
          }
        },
        {
          "output_type": "stream",
          "text": [
            "break minibatch for-loop\n"
          ],
          "name": "stdout"
        }
      ]
    },
    {
      "cell_type": "markdown",
      "metadata": {
        "id": "_IvFSDli0RyX"
      },
      "source": [
        "## 2-1. Deep Neural Network\n",
        "아래 셀은 Deep Neural Network를 정의 합니다."
      ],
      "id": "_IvFSDli0RyX"
    },
    {
      "cell_type": "code",
      "metadata": {
        "id": "FegAwOXD0RyX"
      },
      "source": [
        "# 변경 가능 합니다.\n",
        "class DNN(nn.Module):\n",
        "    def __init__(self, num_features, num_hidden_1, num_hidden_2, num_hidden_3, num_hidden_4, num_hidden_5, num_hidden_6, num_classes):\n",
        "        \"\"\"\n",
        "        num_features: input feature 갯수\n",
        "        num_hidden_1: 첫 번째 레이어의 노드 갯수\n",
        "        num_hidden_2: 두 번째 레이어의 노드 갯수\n",
        "        num_hidden_3: 세 번째 레이어의 노드 갯수\n",
        "        num_classes: 분류하고자 하는 class 갯수\n",
        "        \"\"\"\n",
        "        super(DNN, self).__init__()\n",
        "        \n",
        "        self.num_classes = num_classes\n",
        "        \n",
        "        # 수정 가능!: 레이어를 쌓는 법을 아신다면, 여기서 레이어를 쌓으셔도, 혹은 지우셔도 무방 합니다. (단, nn.Linear만)\n",
        "        self.linear_1 = nn.Linear(num_features, num_hidden_1)\n",
        "        self.linear_2 = nn.Linear(num_hidden_1, num_hidden_2)\n",
        "        self.linear_3 = nn.Linear(num_hidden_2, num_hidden_3)\n",
        "        self.linear_4 = nn.Linear(num_hidden_3, num_hidden_4)\n",
        "        self.linear_5 = nn.Linear(num_hidden_4, num_hidden_5)\n",
        "        self.linear_6 = nn.Linear(num_hidden_5, num_hidden_6)\n",
        "        self.linear_out = nn.Linear(num_hidden_6, num_classes)\n",
        "    \n",
        "    def forward(self, x):\n",
        "        out = self.linear_1(x)\n",
        "        out = torch.relu(out)\n",
        "        out = self.linear_2(out)\n",
        "        out = torch.relu(out)\n",
        "        out = self.linear_3(out)\n",
        "        out = torch.relu(out)\n",
        "        out = self.linear_4(out)\n",
        "        out = torch.relu(out)\n",
        "        out = self.linear_5(out)\n",
        "        out = torch.relu(out)\n",
        "        out = self.linear_6(out)\n",
        "        out = torch.relu(out)\n",
        "        logits = self.linear_out(out)\n",
        "        probas = torch.sigmoid(logits)\n",
        "        return logits, probas\n",
        "\n",
        "# 수정 가능!\n",
        "model = DNN(num_features=28*28, #784\n",
        "        num_hidden_1=512,\n",
        "        num_hidden_2=256,\n",
        "        num_hidden_3=128,\n",
        "        num_hidden_4=64,\n",
        "        num_hidden_5=32,\n",
        "        num_hidden_6=16,\n",
        "        num_classes=10)\n",
        "\n",
        "model = model.to(DEVICE)"
      ],
      "id": "FegAwOXD0RyX",
      "execution_count": 28,
      "outputs": []
    },
    {
      "cell_type": "markdown",
      "metadata": {
        "id": "32-FIqLL0RyY"
      },
      "source": [
        "## 2-2. Training\n",
        "여기서는 **Optimizer**와, **Epoch**를 설정 합니다. "
      ],
      "id": "32-FIqLL0RyY"
    },
    {
      "cell_type": "code",
      "metadata": {
        "id": "-VZvj_zX0RyY"
      },
      "source": [
        "# 수정 가능!\n",
        "LEARNING_LATE = 0.01  # 흠.. 이 친구는 학습률로는 너무 큰 것 같네요..\n",
        "NUM_EPOCHS = 20"
      ],
      "id": "-VZvj_zX0RyY",
      "execution_count": 29,
      "outputs": []
    },
    {
      "cell_type": "code",
      "metadata": {
        "id": "LC4RsJkp0RyY"
      },
      "source": [
        "optimizer = torch.optim.SGD(model.parameters(), lr=LEARNING_LATE)"
      ],
      "id": "LC4RsJkp0RyY",
      "execution_count": 30,
      "outputs": []
    },
    {
      "cell_type": "code",
      "metadata": {
        "id": "mwsrd3SV0RyY",
        "colab": {
          "base_uri": "https://localhost:8080/"
        },
        "outputId": "46603c05-7583-4b82-e12b-5ca0a80ed5fb"
      },
      "source": [
        "def compute_accuracy_and_loss(model, data_loader, device):\n",
        "    correct_pred, num_examples = 0, 0\n",
        "    cross_entropy = 0.\n",
        "    for i, (features, targets) in enumerate(data_loader):\n",
        "            \n",
        "        features = features.view(-1, 28*28).to(device)\n",
        "        targets = targets.to(device)\n",
        "\n",
        "        logits, probas = model(features)\n",
        "        cross_entropy += F.cross_entropy(logits, targets).item()\n",
        "        _, predicted_labels = torch.max(probas, 1)\n",
        "        num_examples += targets.size(0)\n",
        "        correct_pred += (predicted_labels == targets).sum()\n",
        "    return correct_pred.float()/num_examples * 100, cross_entropy/num_examples\n",
        "    \n",
        "\n",
        "start_time = time.time()\n",
        "train_acc_lst, test_acc_lst = [], []\n",
        "train_loss_lst, test_loss_lst = [], []\n",
        "\n",
        "for epoch in range(NUM_EPOCHS):\n",
        "    \n",
        "    model.train()\n",
        "    \n",
        "    for batch_idx, (features, targets) in enumerate(train_loader):\n",
        "    \n",
        "        ### PREPARE MINIBATCH\n",
        "        features = features.view(-1, 28*28).to(DEVICE)\n",
        "        targets = targets.to(DEVICE)\n",
        "            \n",
        "        ### FORWARD AND BACK PROP\n",
        "        logits, probas = model(features)  # 모델 계산\n",
        "        cost = F.cross_entropy(logits, targets)  # 크로스 엔트로피 계산\n",
        "        optimizer.zero_grad()  # 기울기 초기화\n",
        "        \n",
        "        cost.backward()  # 역전파\n",
        "        \n",
        "        ### UPDATE MODEL PARAMETERS\n",
        "        optimizer.step()  # step 적용\n",
        "        \n",
        "        ### LOGGING\n",
        "        if not batch_idx % 40:\n",
        "            print (f'Epoch: {epoch+1:03d}/{NUM_EPOCHS:03d} | '\n",
        "                   f'Batch {batch_idx:03d}/{len(train_loader):03d} |' \n",
        "                   f' Cost: {cost:.4f}')\n",
        "\n",
        "    # 매 Epoch마다 evaluation을 진행합니다. \n",
        "    # Epoch마다 Loss를 기록하여 학습과정을 살펴보고 Underfitting, Overfitting 여부를 확인합니다.\n",
        "    model.eval()\n",
        "    with torch.set_grad_enabled(False): # Gradient 계산이 안되도록\n",
        "        train_acc, train_loss = compute_accuracy_and_loss(model, train_loader, device=DEVICE) # train acc, loss 계산\n",
        "        test_acc, test_loss = compute_accuracy_and_loss(model, test_loader, device=DEVICE)    # test acc, loss 계산\n",
        "        \n",
        "        # list에 train, test의  acc, loss 추가\n",
        "        train_acc_lst.append(train_acc)\n",
        "        test_acc_lst.append(test_acc)\n",
        "        train_loss_lst.append(train_loss)\n",
        "        test_loss_lst.append(test_loss)\n",
        "        \n",
        "        # 로깅\n",
        "        print(f'Epoch: {epoch+1:03d}/{NUM_EPOCHS:03d} Train Acc.: {train_acc:.2f}%'\n",
        "              f' | Test Acc.: {test_acc:.2f}%')\n",
        "    \n",
        "    # 1 epoch 학습 소요시간\n",
        "    elapsed = (time.time() - start_time)/60\n",
        "    print(f'Time elapsed: {elapsed:.2f} min')\n",
        "\n",
        "# 총 학습 소요시간\n",
        "elapsed = (time.time() - start_time)/60\n",
        "print(f'Total Training Time: {elapsed:.2f} min')"
      ],
      "id": "mwsrd3SV0RyY",
      "execution_count": 31,
      "outputs": [
        {
          "output_type": "stream",
          "text": [
            "Epoch: 001/020 | Batch 000/937 | Cost: 2.3012\n",
            "Epoch: 001/020 | Batch 040/937 | Cost: 2.3005\n",
            "Epoch: 001/020 | Batch 080/937 | Cost: 2.3073\n",
            "Epoch: 001/020 | Batch 120/937 | Cost: 2.3122\n",
            "Epoch: 001/020 | Batch 160/937 | Cost: 2.3271\n",
            "Epoch: 001/020 | Batch 200/937 | Cost: 2.3239\n",
            "Epoch: 001/020 | Batch 240/937 | Cost: 2.2925\n",
            "Epoch: 001/020 | Batch 280/937 | Cost: 2.2823\n",
            "Epoch: 001/020 | Batch 320/937 | Cost: 2.3133\n",
            "Epoch: 001/020 | Batch 360/937 | Cost: 2.2984\n",
            "Epoch: 001/020 | Batch 400/937 | Cost: 2.3063\n",
            "Epoch: 001/020 | Batch 440/937 | Cost: 2.3010\n",
            "Epoch: 001/020 | Batch 480/937 | Cost: 2.2876\n",
            "Epoch: 001/020 | Batch 520/937 | Cost: 2.3022\n",
            "Epoch: 001/020 | Batch 560/937 | Cost: 2.2981\n",
            "Epoch: 001/020 | Batch 600/937 | Cost: 2.2998\n",
            "Epoch: 001/020 | Batch 640/937 | Cost: 2.3031\n",
            "Epoch: 001/020 | Batch 680/937 | Cost: 2.3096\n",
            "Epoch: 001/020 | Batch 720/937 | Cost: 2.2958\n",
            "Epoch: 001/020 | Batch 760/937 | Cost: 2.2925\n",
            "Epoch: 001/020 | Batch 800/937 | Cost: 2.3041\n",
            "Epoch: 001/020 | Batch 840/937 | Cost: 2.2886\n",
            "Epoch: 001/020 | Batch 880/937 | Cost: 2.2935\n",
            "Epoch: 001/020 | Batch 920/937 | Cost: 2.2992\n",
            "Epoch: 001/020 Train Acc.: 11.23% | Test Acc.: 11.35%\n",
            "Time elapsed: 0.43 min\n",
            "Epoch: 002/020 | Batch 000/937 | Cost: 2.2977\n",
            "Epoch: 002/020 | Batch 040/937 | Cost: 2.3049\n",
            "Epoch: 002/020 | Batch 080/937 | Cost: 2.2984\n",
            "Epoch: 002/020 | Batch 120/937 | Cost: 2.3119\n",
            "Epoch: 002/020 | Batch 160/937 | Cost: 2.2959\n",
            "Epoch: 002/020 | Batch 200/937 | Cost: 2.2904\n",
            "Epoch: 002/020 | Batch 240/937 | Cost: 2.2993\n",
            "Epoch: 002/020 | Batch 280/937 | Cost: 2.2952\n",
            "Epoch: 002/020 | Batch 320/937 | Cost: 2.2902\n",
            "Epoch: 002/020 | Batch 360/937 | Cost: 2.2818\n",
            "Epoch: 002/020 | Batch 400/937 | Cost: 2.2918\n",
            "Epoch: 002/020 | Batch 440/937 | Cost: 2.2889\n",
            "Epoch: 002/020 | Batch 480/937 | Cost: 2.2884\n",
            "Epoch: 002/020 | Batch 520/937 | Cost: 2.2842\n",
            "Epoch: 002/020 | Batch 560/937 | Cost: 2.2853\n",
            "Epoch: 002/020 | Batch 600/937 | Cost: 2.2857\n",
            "Epoch: 002/020 | Batch 640/937 | Cost: 2.2980\n",
            "Epoch: 002/020 | Batch 680/937 | Cost: 2.2868\n",
            "Epoch: 002/020 | Batch 720/937 | Cost: 2.2801\n",
            "Epoch: 002/020 | Batch 760/937 | Cost: 2.2873\n",
            "Epoch: 002/020 | Batch 800/937 | Cost: 2.2865\n",
            "Epoch: 002/020 | Batch 840/937 | Cost: 2.2573\n",
            "Epoch: 002/020 | Batch 880/937 | Cost: 2.2615\n",
            "Epoch: 002/020 | Batch 920/937 | Cost: 2.2482\n",
            "Epoch: 002/020 Train Acc.: 20.90% | Test Acc.: 21.09%\n",
            "Time elapsed: 0.87 min\n",
            "Epoch: 003/020 | Batch 000/937 | Cost: 2.2715\n",
            "Epoch: 003/020 | Batch 040/937 | Cost: 2.2294\n",
            "Epoch: 003/020 | Batch 080/937 | Cost: 2.2156\n",
            "Epoch: 003/020 | Batch 120/937 | Cost: 2.2560\n",
            "Epoch: 003/020 | Batch 160/937 | Cost: 2.2122\n",
            "Epoch: 003/020 | Batch 200/937 | Cost: 2.1390\n",
            "Epoch: 003/020 | Batch 240/937 | Cost: 2.1450\n",
            "Epoch: 003/020 | Batch 280/937 | Cost: 2.0993\n",
            "Epoch: 003/020 | Batch 320/937 | Cost: 2.0594\n",
            "Epoch: 003/020 | Batch 360/937 | Cost: 2.0168\n",
            "Epoch: 003/020 | Batch 400/937 | Cost: 2.0213\n",
            "Epoch: 003/020 | Batch 440/937 | Cost: 1.8355\n",
            "Epoch: 003/020 | Batch 480/937 | Cost: 1.8606\n",
            "Epoch: 003/020 | Batch 520/937 | Cost: 1.7398\n",
            "Epoch: 003/020 | Batch 560/937 | Cost: 1.7211\n",
            "Epoch: 003/020 | Batch 600/937 | Cost: 1.5722\n",
            "Epoch: 003/020 | Batch 640/937 | Cost: 1.5618\n",
            "Epoch: 003/020 | Batch 680/937 | Cost: 1.4098\n",
            "Epoch: 003/020 | Batch 720/937 | Cost: 1.3246\n",
            "Epoch: 003/020 | Batch 760/937 | Cost: 1.6306\n",
            "Epoch: 003/020 | Batch 800/937 | Cost: 1.5575\n",
            "Epoch: 003/020 | Batch 840/937 | Cost: 1.5258\n",
            "Epoch: 003/020 | Batch 880/937 | Cost: 1.3285\n",
            "Epoch: 003/020 | Batch 920/937 | Cost: 2.2086\n",
            "Epoch: 003/020 Train Acc.: 54.42% | Test Acc.: 54.22%\n",
            "Time elapsed: 1.29 min\n",
            "Epoch: 004/020 | Batch 000/937 | Cost: 1.1841\n",
            "Epoch: 004/020 | Batch 040/937 | Cost: 1.2035\n",
            "Epoch: 004/020 | Batch 080/937 | Cost: 1.3207\n",
            "Epoch: 004/020 | Batch 120/937 | Cost: 1.3513\n",
            "Epoch: 004/020 | Batch 160/937 | Cost: 0.9850\n",
            "Epoch: 004/020 | Batch 200/937 | Cost: 1.0011\n",
            "Epoch: 004/020 | Batch 240/937 | Cost: 1.3029\n",
            "Epoch: 004/020 | Batch 280/937 | Cost: 0.9808\n",
            "Epoch: 004/020 | Batch 320/937 | Cost: 1.1778\n",
            "Epoch: 004/020 | Batch 360/937 | Cost: 1.1480\n",
            "Epoch: 004/020 | Batch 400/937 | Cost: 0.9096\n",
            "Epoch: 004/020 | Batch 440/937 | Cost: 1.0293\n",
            "Epoch: 004/020 | Batch 480/937 | Cost: 0.9862\n",
            "Epoch: 004/020 | Batch 520/937 | Cost: 0.7859\n",
            "Epoch: 004/020 | Batch 560/937 | Cost: 1.2247\n",
            "Epoch: 004/020 | Batch 600/937 | Cost: 1.0337\n",
            "Epoch: 004/020 | Batch 640/937 | Cost: 0.8213\n",
            "Epoch: 004/020 | Batch 680/937 | Cost: 0.8168\n",
            "Epoch: 004/020 | Batch 720/937 | Cost: 0.9831\n",
            "Epoch: 004/020 | Batch 760/937 | Cost: 1.0742\n",
            "Epoch: 004/020 | Batch 800/937 | Cost: 0.9300\n",
            "Epoch: 004/020 | Batch 840/937 | Cost: 0.7089\n",
            "Epoch: 004/020 | Batch 880/937 | Cost: 1.0563\n",
            "Epoch: 004/020 | Batch 920/937 | Cost: 0.7265\n",
            "Epoch: 004/020 Train Acc.: 67.12% | Test Acc.: 67.47%\n",
            "Time elapsed: 1.73 min\n",
            "Epoch: 005/020 | Batch 000/937 | Cost: 1.0147\n",
            "Epoch: 005/020 | Batch 040/937 | Cost: 0.7112\n",
            "Epoch: 005/020 | Batch 080/937 | Cost: 0.8579\n",
            "Epoch: 005/020 | Batch 120/937 | Cost: 0.6222\n",
            "Epoch: 005/020 | Batch 160/937 | Cost: 0.6596\n",
            "Epoch: 005/020 | Batch 200/937 | Cost: 0.6872\n",
            "Epoch: 005/020 | Batch 240/937 | Cost: 0.8407\n",
            "Epoch: 005/020 | Batch 280/937 | Cost: 0.6526\n",
            "Epoch: 005/020 | Batch 320/937 | Cost: 0.4940\n",
            "Epoch: 005/020 | Batch 360/937 | Cost: 0.7188\n",
            "Epoch: 005/020 | Batch 400/937 | Cost: 0.5395\n",
            "Epoch: 005/020 | Batch 440/937 | Cost: 0.3674\n",
            "Epoch: 005/020 | Batch 480/937 | Cost: 0.3405\n",
            "Epoch: 005/020 | Batch 520/937 | Cost: 0.3517\n",
            "Epoch: 005/020 | Batch 560/937 | Cost: 0.4951\n",
            "Epoch: 005/020 | Batch 600/937 | Cost: 0.6576\n",
            "Epoch: 005/020 | Batch 640/937 | Cost: 0.7479\n",
            "Epoch: 005/020 | Batch 680/937 | Cost: 0.3695\n",
            "Epoch: 005/020 | Batch 720/937 | Cost: 0.6057\n",
            "Epoch: 005/020 | Batch 760/937 | Cost: 0.3740\n",
            "Epoch: 005/020 | Batch 800/937 | Cost: 0.4241\n",
            "Epoch: 005/020 | Batch 840/937 | Cost: 0.5830\n",
            "Epoch: 005/020 | Batch 880/937 | Cost: 0.5765\n",
            "Epoch: 005/020 | Batch 920/937 | Cost: 0.3985\n",
            "Epoch: 005/020 Train Acc.: 88.10% | Test Acc.: 87.90%\n",
            "Time elapsed: 2.16 min\n",
            "Epoch: 006/020 | Batch 000/937 | Cost: 0.5638\n",
            "Epoch: 006/020 | Batch 040/937 | Cost: 0.7022\n",
            "Epoch: 006/020 | Batch 080/937 | Cost: 0.4420\n",
            "Epoch: 006/020 | Batch 120/937 | Cost: 0.3430\n",
            "Epoch: 006/020 | Batch 160/937 | Cost: 0.4842\n",
            "Epoch: 006/020 | Batch 200/937 | Cost: 0.5151\n",
            "Epoch: 006/020 | Batch 240/937 | Cost: 0.5414\n",
            "Epoch: 006/020 | Batch 280/937 | Cost: 0.5612\n",
            "Epoch: 006/020 | Batch 320/937 | Cost: 0.5559\n",
            "Epoch: 006/020 | Batch 360/937 | Cost: 0.4830\n",
            "Epoch: 006/020 | Batch 400/937 | Cost: 0.3299\n",
            "Epoch: 006/020 | Batch 440/937 | Cost: 0.2323\n",
            "Epoch: 006/020 | Batch 480/937 | Cost: 0.2040\n",
            "Epoch: 006/020 | Batch 520/937 | Cost: 0.4372\n",
            "Epoch: 006/020 | Batch 560/937 | Cost: 0.1655\n",
            "Epoch: 006/020 | Batch 600/937 | Cost: 0.3542\n",
            "Epoch: 006/020 | Batch 640/937 | Cost: 0.4034\n",
            "Epoch: 006/020 | Batch 680/937 | Cost: 0.3368\n",
            "Epoch: 006/020 | Batch 720/937 | Cost: 0.5149\n",
            "Epoch: 006/020 | Batch 760/937 | Cost: 0.2821\n",
            "Epoch: 006/020 | Batch 800/937 | Cost: 0.2961\n",
            "Epoch: 006/020 | Batch 840/937 | Cost: 0.2889\n",
            "Epoch: 006/020 | Batch 880/937 | Cost: 0.4820\n",
            "Epoch: 006/020 | Batch 920/937 | Cost: 0.4762\n",
            "Epoch: 006/020 Train Acc.: 92.00% | Test Acc.: 91.55%\n",
            "Time elapsed: 2.60 min\n",
            "Epoch: 007/020 | Batch 000/937 | Cost: 0.2578\n",
            "Epoch: 007/020 | Batch 040/937 | Cost: 0.4315\n",
            "Epoch: 007/020 | Batch 080/937 | Cost: 0.1823\n",
            "Epoch: 007/020 | Batch 120/937 | Cost: 0.1640\n",
            "Epoch: 007/020 | Batch 160/937 | Cost: 0.1813\n",
            "Epoch: 007/020 | Batch 200/937 | Cost: 0.1806\n",
            "Epoch: 007/020 | Batch 240/937 | Cost: 0.3556\n",
            "Epoch: 007/020 | Batch 280/937 | Cost: 0.1148\n",
            "Epoch: 007/020 | Batch 320/937 | Cost: 0.1593\n",
            "Epoch: 007/020 | Batch 360/937 | Cost: 0.2746\n",
            "Epoch: 007/020 | Batch 400/937 | Cost: 0.5478\n",
            "Epoch: 007/020 | Batch 440/937 | Cost: 0.2493\n",
            "Epoch: 007/020 | Batch 480/937 | Cost: 0.3318\n",
            "Epoch: 007/020 | Batch 520/937 | Cost: 0.2553\n",
            "Epoch: 007/020 | Batch 560/937 | Cost: 0.1771\n",
            "Epoch: 007/020 | Batch 600/937 | Cost: 0.2877\n",
            "Epoch: 007/020 | Batch 640/937 | Cost: 0.2490\n",
            "Epoch: 007/020 | Batch 680/937 | Cost: 0.4531\n",
            "Epoch: 007/020 | Batch 720/937 | Cost: 0.2225\n",
            "Epoch: 007/020 | Batch 760/937 | Cost: 0.2489\n",
            "Epoch: 007/020 | Batch 800/937 | Cost: 0.4087\n",
            "Epoch: 007/020 | Batch 840/937 | Cost: 0.3234\n",
            "Epoch: 007/020 | Batch 880/937 | Cost: 0.1445\n",
            "Epoch: 007/020 | Batch 920/937 | Cost: 0.1421\n",
            "Epoch: 007/020 Train Acc.: 93.96% | Test Acc.: 93.48%\n",
            "Time elapsed: 3.03 min\n",
            "Epoch: 008/020 | Batch 000/937 | Cost: 0.3549\n",
            "Epoch: 008/020 | Batch 040/937 | Cost: 0.1031\n",
            "Epoch: 008/020 | Batch 080/937 | Cost: 0.1758\n",
            "Epoch: 008/020 | Batch 120/937 | Cost: 0.1400\n",
            "Epoch: 008/020 | Batch 160/937 | Cost: 0.1813\n",
            "Epoch: 008/020 | Batch 200/937 | Cost: 0.1809\n",
            "Epoch: 008/020 | Batch 240/937 | Cost: 0.2539\n",
            "Epoch: 008/020 | Batch 280/937 | Cost: 0.2136\n",
            "Epoch: 008/020 | Batch 320/937 | Cost: 0.2260\n",
            "Epoch: 008/020 | Batch 360/937 | Cost: 0.3757\n",
            "Epoch: 008/020 | Batch 400/937 | Cost: 0.1228\n",
            "Epoch: 008/020 | Batch 440/937 | Cost: 0.2938\n",
            "Epoch: 008/020 | Batch 480/937 | Cost: 0.4992\n",
            "Epoch: 008/020 | Batch 520/937 | Cost: 0.3056\n",
            "Epoch: 008/020 | Batch 560/937 | Cost: 0.3212\n",
            "Epoch: 008/020 | Batch 600/937 | Cost: 0.2707\n",
            "Epoch: 008/020 | Batch 640/937 | Cost: 0.1113\n",
            "Epoch: 008/020 | Batch 680/937 | Cost: 0.2023\n",
            "Epoch: 008/020 | Batch 720/937 | Cost: 0.1617\n",
            "Epoch: 008/020 | Batch 760/937 | Cost: 0.1719\n",
            "Epoch: 008/020 | Batch 800/937 | Cost: 0.2084\n",
            "Epoch: 008/020 | Batch 840/937 | Cost: 0.1476\n",
            "Epoch: 008/020 | Batch 880/937 | Cost: 0.1321\n",
            "Epoch: 008/020 | Batch 920/937 | Cost: 0.1562\n",
            "Epoch: 008/020 Train Acc.: 94.87% | Test Acc.: 94.43%\n",
            "Time elapsed: 3.47 min\n",
            "Epoch: 009/020 | Batch 000/937 | Cost: 0.1231\n",
            "Epoch: 009/020 | Batch 040/937 | Cost: 0.2433\n",
            "Epoch: 009/020 | Batch 080/937 | Cost: 0.0852\n",
            "Epoch: 009/020 | Batch 120/937 | Cost: 0.1873\n",
            "Epoch: 009/020 | Batch 160/937 | Cost: 0.1123\n",
            "Epoch: 009/020 | Batch 200/937 | Cost: 0.1657\n",
            "Epoch: 009/020 | Batch 240/937 | Cost: 0.1034\n",
            "Epoch: 009/020 | Batch 280/937 | Cost: 0.0921\n",
            "Epoch: 009/020 | Batch 320/937 | Cost: 0.3472\n",
            "Epoch: 009/020 | Batch 360/937 | Cost: 0.1432\n",
            "Epoch: 009/020 | Batch 400/937 | Cost: 0.2078\n",
            "Epoch: 009/020 | Batch 440/937 | Cost: 0.3860\n",
            "Epoch: 009/020 | Batch 480/937 | Cost: 0.1206\n",
            "Epoch: 009/020 | Batch 520/937 | Cost: 0.3270\n",
            "Epoch: 009/020 | Batch 560/937 | Cost: 0.2375\n",
            "Epoch: 009/020 | Batch 600/937 | Cost: 0.1796\n",
            "Epoch: 009/020 | Batch 640/937 | Cost: 0.0934\n",
            "Epoch: 009/020 | Batch 680/937 | Cost: 0.0770\n",
            "Epoch: 009/020 | Batch 720/937 | Cost: 0.1732\n",
            "Epoch: 009/020 | Batch 760/937 | Cost: 0.2545\n",
            "Epoch: 009/020 | Batch 800/937 | Cost: 0.1963\n",
            "Epoch: 009/020 | Batch 840/937 | Cost: 0.0865\n",
            "Epoch: 009/020 | Batch 880/937 | Cost: 0.1539\n",
            "Epoch: 009/020 | Batch 920/937 | Cost: 0.1869\n",
            "Epoch: 009/020 Train Acc.: 94.35% | Test Acc.: 93.88%\n",
            "Time elapsed: 3.90 min\n",
            "Epoch: 010/020 | Batch 000/937 | Cost: 0.3590\n",
            "Epoch: 010/020 | Batch 040/937 | Cost: 0.1529\n",
            "Epoch: 010/020 | Batch 080/937 | Cost: 0.1383\n",
            "Epoch: 010/020 | Batch 120/937 | Cost: 0.1237\n",
            "Epoch: 010/020 | Batch 160/937 | Cost: 0.1837\n",
            "Epoch: 010/020 | Batch 200/937 | Cost: 0.1683\n",
            "Epoch: 010/020 | Batch 240/937 | Cost: 0.0845\n",
            "Epoch: 010/020 | Batch 280/937 | Cost: 0.1453\n",
            "Epoch: 010/020 | Batch 320/937 | Cost: 0.2665\n",
            "Epoch: 010/020 | Batch 360/937 | Cost: 0.1664\n",
            "Epoch: 010/020 | Batch 400/937 | Cost: 0.1516\n",
            "Epoch: 010/020 | Batch 440/937 | Cost: 0.1237\n",
            "Epoch: 010/020 | Batch 480/937 | Cost: 0.0793\n",
            "Epoch: 010/020 | Batch 520/937 | Cost: 0.1785\n",
            "Epoch: 010/020 | Batch 560/937 | Cost: 0.0770\n",
            "Epoch: 010/020 | Batch 600/937 | Cost: 0.1104\n",
            "Epoch: 010/020 | Batch 640/937 | Cost: 0.1387\n",
            "Epoch: 010/020 | Batch 680/937 | Cost: 0.3228\n",
            "Epoch: 010/020 | Batch 720/937 | Cost: 0.0711\n",
            "Epoch: 010/020 | Batch 760/937 | Cost: 0.0645\n",
            "Epoch: 010/020 | Batch 800/937 | Cost: 0.0912\n",
            "Epoch: 010/020 | Batch 840/937 | Cost: 0.0730\n",
            "Epoch: 010/020 | Batch 880/937 | Cost: 0.1896\n",
            "Epoch: 010/020 | Batch 920/937 | Cost: 0.1323\n",
            "Epoch: 010/020 Train Acc.: 95.76% | Test Acc.: 94.89%\n",
            "Time elapsed: 4.34 min\n",
            "Epoch: 011/020 | Batch 000/937 | Cost: 0.3141\n",
            "Epoch: 011/020 | Batch 040/937 | Cost: 0.2399\n",
            "Epoch: 011/020 | Batch 080/937 | Cost: 0.0969\n",
            "Epoch: 011/020 | Batch 120/937 | Cost: 0.0378\n",
            "Epoch: 011/020 | Batch 160/937 | Cost: 0.1284\n",
            "Epoch: 011/020 | Batch 200/937 | Cost: 0.0599\n",
            "Epoch: 011/020 | Batch 240/937 | Cost: 0.1038\n",
            "Epoch: 011/020 | Batch 280/937 | Cost: 0.1736\n",
            "Epoch: 011/020 | Batch 320/937 | Cost: 0.0980\n",
            "Epoch: 011/020 | Batch 360/937 | Cost: 0.3053\n",
            "Epoch: 011/020 | Batch 400/937 | Cost: 0.1455\n",
            "Epoch: 011/020 | Batch 440/937 | Cost: 0.3743\n",
            "Epoch: 011/020 | Batch 480/937 | Cost: 0.3741\n",
            "Epoch: 011/020 | Batch 520/937 | Cost: 0.0461\n",
            "Epoch: 011/020 | Batch 560/937 | Cost: 0.2599\n",
            "Epoch: 011/020 | Batch 600/937 | Cost: 0.1628\n",
            "Epoch: 011/020 | Batch 640/937 | Cost: 0.3181\n",
            "Epoch: 011/020 | Batch 680/937 | Cost: 0.1171\n",
            "Epoch: 011/020 | Batch 720/937 | Cost: 0.2842\n",
            "Epoch: 011/020 | Batch 760/937 | Cost: 0.0703\n",
            "Epoch: 011/020 | Batch 800/937 | Cost: 0.0969\n",
            "Epoch: 011/020 | Batch 840/937 | Cost: 0.0353\n",
            "Epoch: 011/020 | Batch 880/937 | Cost: 0.1061\n",
            "Epoch: 011/020 | Batch 920/937 | Cost: 0.0692\n",
            "Epoch: 011/020 Train Acc.: 97.07% | Test Acc.: 95.87%\n",
            "Time elapsed: 4.78 min\n",
            "Epoch: 012/020 | Batch 000/937 | Cost: 0.1496\n",
            "Epoch: 012/020 | Batch 040/937 | Cost: 0.0741\n",
            "Epoch: 012/020 | Batch 080/937 | Cost: 0.0524\n",
            "Epoch: 012/020 | Batch 120/937 | Cost: 0.0694\n",
            "Epoch: 012/020 | Batch 160/937 | Cost: 0.0904\n",
            "Epoch: 012/020 | Batch 200/937 | Cost: 0.1062\n",
            "Epoch: 012/020 | Batch 240/937 | Cost: 0.0866\n",
            "Epoch: 012/020 | Batch 280/937 | Cost: 0.0812\n",
            "Epoch: 012/020 | Batch 320/937 | Cost: 0.2009\n",
            "Epoch: 012/020 | Batch 360/937 | Cost: 0.0972\n",
            "Epoch: 012/020 | Batch 400/937 | Cost: 0.3654\n",
            "Epoch: 012/020 | Batch 440/937 | Cost: 0.0789\n",
            "Epoch: 012/020 | Batch 480/937 | Cost: 0.0727\n",
            "Epoch: 012/020 | Batch 520/937 | Cost: 0.1924\n",
            "Epoch: 012/020 | Batch 560/937 | Cost: 0.0490\n",
            "Epoch: 012/020 | Batch 600/937 | Cost: 0.1828\n",
            "Epoch: 012/020 | Batch 640/937 | Cost: 0.0780\n",
            "Epoch: 012/020 | Batch 680/937 | Cost: 0.0249\n",
            "Epoch: 012/020 | Batch 720/937 | Cost: 0.1490\n",
            "Epoch: 012/020 | Batch 760/937 | Cost: 0.0711\n",
            "Epoch: 012/020 | Batch 800/937 | Cost: 0.1214\n",
            "Epoch: 012/020 | Batch 840/937 | Cost: 0.2558\n",
            "Epoch: 012/020 | Batch 880/937 | Cost: 0.1298\n",
            "Epoch: 012/020 | Batch 920/937 | Cost: 0.1253\n",
            "Epoch: 012/020 Train Acc.: 96.96% | Test Acc.: 95.96%\n",
            "Time elapsed: 5.21 min\n",
            "Epoch: 013/020 | Batch 000/937 | Cost: 0.1789\n",
            "Epoch: 013/020 | Batch 040/937 | Cost: 0.0726\n",
            "Epoch: 013/020 | Batch 080/937 | Cost: 0.0366\n",
            "Epoch: 013/020 | Batch 120/937 | Cost: 0.0714\n",
            "Epoch: 013/020 | Batch 160/937 | Cost: 0.1054\n",
            "Epoch: 013/020 | Batch 200/937 | Cost: 0.0288\n",
            "Epoch: 013/020 | Batch 240/937 | Cost: 0.0378\n",
            "Epoch: 013/020 | Batch 280/937 | Cost: 0.0630\n",
            "Epoch: 013/020 | Batch 320/937 | Cost: 0.2096\n",
            "Epoch: 013/020 | Batch 360/937 | Cost: 0.1481\n",
            "Epoch: 013/020 | Batch 400/937 | Cost: 0.0264\n",
            "Epoch: 013/020 | Batch 440/937 | Cost: 0.1189\n",
            "Epoch: 013/020 | Batch 480/937 | Cost: 0.0971\n",
            "Epoch: 013/020 | Batch 520/937 | Cost: 0.1194\n",
            "Epoch: 013/020 | Batch 560/937 | Cost: 0.1063\n",
            "Epoch: 013/020 | Batch 600/937 | Cost: 0.0454\n",
            "Epoch: 013/020 | Batch 640/937 | Cost: 0.0993\n",
            "Epoch: 013/020 | Batch 680/937 | Cost: 0.0435\n",
            "Epoch: 013/020 | Batch 720/937 | Cost: 0.0345\n",
            "Epoch: 013/020 | Batch 760/937 | Cost: 0.0661\n",
            "Epoch: 013/020 | Batch 800/937 | Cost: 0.1311\n",
            "Epoch: 013/020 | Batch 840/937 | Cost: 0.0297\n",
            "Epoch: 013/020 | Batch 880/937 | Cost: 0.0915\n",
            "Epoch: 013/020 | Batch 920/937 | Cost: 0.0660\n",
            "Epoch: 013/020 Train Acc.: 97.67% | Test Acc.: 96.61%\n",
            "Time elapsed: 5.65 min\n",
            "Epoch: 014/020 | Batch 000/937 | Cost: 0.0616\n",
            "Epoch: 014/020 | Batch 040/937 | Cost: 0.0285\n",
            "Epoch: 014/020 | Batch 080/937 | Cost: 0.0268\n",
            "Epoch: 014/020 | Batch 120/937 | Cost: 0.0627\n",
            "Epoch: 014/020 | Batch 160/937 | Cost: 0.0545\n",
            "Epoch: 014/020 | Batch 200/937 | Cost: 0.0540\n",
            "Epoch: 014/020 | Batch 240/937 | Cost: 0.0803\n",
            "Epoch: 014/020 | Batch 280/937 | Cost: 0.0845\n",
            "Epoch: 014/020 | Batch 320/937 | Cost: 0.1103\n",
            "Epoch: 014/020 | Batch 360/937 | Cost: 0.0378\n",
            "Epoch: 014/020 | Batch 400/937 | Cost: 0.1181\n",
            "Epoch: 014/020 | Batch 440/937 | Cost: 0.1154\n",
            "Epoch: 014/020 | Batch 480/937 | Cost: 0.0558\n",
            "Epoch: 014/020 | Batch 520/937 | Cost: 0.0421\n",
            "Epoch: 014/020 | Batch 560/937 | Cost: 0.0519\n",
            "Epoch: 014/020 | Batch 600/937 | Cost: 0.0735\n",
            "Epoch: 014/020 | Batch 640/937 | Cost: 0.0315\n",
            "Epoch: 014/020 | Batch 680/937 | Cost: 0.1610\n",
            "Epoch: 014/020 | Batch 720/937 | Cost: 0.0124\n",
            "Epoch: 014/020 | Batch 760/937 | Cost: 0.0783\n",
            "Epoch: 014/020 | Batch 800/937 | Cost: 0.1037\n",
            "Epoch: 014/020 | Batch 840/937 | Cost: 0.1573\n",
            "Epoch: 014/020 | Batch 880/937 | Cost: 0.0210\n",
            "Epoch: 014/020 | Batch 920/937 | Cost: 0.0786\n",
            "Epoch: 014/020 Train Acc.: 97.47% | Test Acc.: 96.40%\n",
            "Time elapsed: 6.09 min\n",
            "Epoch: 015/020 | Batch 000/937 | Cost: 0.0479\n",
            "Epoch: 015/020 | Batch 040/937 | Cost: 0.0098\n",
            "Epoch: 015/020 | Batch 080/937 | Cost: 0.0437\n",
            "Epoch: 015/020 | Batch 120/937 | Cost: 0.1208\n",
            "Epoch: 015/020 | Batch 160/937 | Cost: 0.1970\n",
            "Epoch: 015/020 | Batch 200/937 | Cost: 0.0446\n",
            "Epoch: 015/020 | Batch 240/937 | Cost: 0.0987\n",
            "Epoch: 015/020 | Batch 280/937 | Cost: 0.1855\n",
            "Epoch: 015/020 | Batch 320/937 | Cost: 0.0427\n",
            "Epoch: 015/020 | Batch 360/937 | Cost: 0.0667\n",
            "Epoch: 015/020 | Batch 400/937 | Cost: 0.0605\n",
            "Epoch: 015/020 | Batch 440/937 | Cost: 0.1831\n",
            "Epoch: 015/020 | Batch 480/937 | Cost: 0.0432\n",
            "Epoch: 015/020 | Batch 520/937 | Cost: 0.0832\n",
            "Epoch: 015/020 | Batch 560/937 | Cost: 0.0664\n",
            "Epoch: 015/020 | Batch 600/937 | Cost: 0.0755\n",
            "Epoch: 015/020 | Batch 640/937 | Cost: 0.0918\n",
            "Epoch: 015/020 | Batch 680/937 | Cost: 0.0487\n",
            "Epoch: 015/020 | Batch 720/937 | Cost: 0.0321\n",
            "Epoch: 015/020 | Batch 760/937 | Cost: 0.0615\n",
            "Epoch: 015/020 | Batch 800/937 | Cost: 0.0261\n",
            "Epoch: 015/020 | Batch 840/937 | Cost: 0.0737\n",
            "Epoch: 015/020 | Batch 880/937 | Cost: 0.0902\n",
            "Epoch: 015/020 | Batch 920/937 | Cost: 0.2007\n",
            "Epoch: 015/020 Train Acc.: 97.89% | Test Acc.: 96.48%\n",
            "Time elapsed: 6.54 min\n",
            "Epoch: 016/020 | Batch 000/937 | Cost: 0.0447\n",
            "Epoch: 016/020 | Batch 040/937 | Cost: 0.0435\n",
            "Epoch: 016/020 | Batch 080/937 | Cost: 0.2645\n",
            "Epoch: 016/020 | Batch 120/937 | Cost: 0.1039\n",
            "Epoch: 016/020 | Batch 160/937 | Cost: 0.2067\n",
            "Epoch: 016/020 | Batch 200/937 | Cost: 0.0886\n",
            "Epoch: 016/020 | Batch 240/937 | Cost: 0.0718\n",
            "Epoch: 016/020 | Batch 280/937 | Cost: 0.1545\n",
            "Epoch: 016/020 | Batch 320/937 | Cost: 0.0302\n",
            "Epoch: 016/020 | Batch 360/937 | Cost: 0.0590\n",
            "Epoch: 016/020 | Batch 400/937 | Cost: 0.0560\n",
            "Epoch: 016/020 | Batch 440/937 | Cost: 0.1834\n",
            "Epoch: 016/020 | Batch 480/937 | Cost: 0.0223\n",
            "Epoch: 016/020 | Batch 520/937 | Cost: 0.0470\n",
            "Epoch: 016/020 | Batch 560/937 | Cost: 0.0448\n",
            "Epoch: 016/020 | Batch 600/937 | Cost: 0.0507\n",
            "Epoch: 016/020 | Batch 640/937 | Cost: 0.1167\n",
            "Epoch: 016/020 | Batch 680/937 | Cost: 0.0591\n",
            "Epoch: 016/020 | Batch 720/937 | Cost: 0.0466\n",
            "Epoch: 016/020 | Batch 760/937 | Cost: 0.0615\n",
            "Epoch: 016/020 | Batch 800/937 | Cost: 0.0466\n",
            "Epoch: 016/020 | Batch 840/937 | Cost: 0.1365\n",
            "Epoch: 016/020 | Batch 880/937 | Cost: 0.1401\n",
            "Epoch: 016/020 | Batch 920/937 | Cost: 0.0401\n",
            "Epoch: 016/020 Train Acc.: 98.12% | Test Acc.: 96.59%\n",
            "Time elapsed: 6.98 min\n",
            "Epoch: 017/020 | Batch 000/937 | Cost: 0.0769\n",
            "Epoch: 017/020 | Batch 040/937 | Cost: 0.0438\n",
            "Epoch: 017/020 | Batch 080/937 | Cost: 0.1746\n",
            "Epoch: 017/020 | Batch 120/937 | Cost: 0.1629\n",
            "Epoch: 017/020 | Batch 160/937 | Cost: 0.0291\n",
            "Epoch: 017/020 | Batch 200/937 | Cost: 0.1429\n",
            "Epoch: 017/020 | Batch 240/937 | Cost: 0.0414\n",
            "Epoch: 017/020 | Batch 280/937 | Cost: 0.0926\n",
            "Epoch: 017/020 | Batch 320/937 | Cost: 0.0250\n",
            "Epoch: 017/020 | Batch 360/937 | Cost: 0.0082\n",
            "Epoch: 017/020 | Batch 400/937 | Cost: 0.0382\n",
            "Epoch: 017/020 | Batch 440/937 | Cost: 0.1146\n",
            "Epoch: 017/020 | Batch 480/937 | Cost: 0.0573\n",
            "Epoch: 017/020 | Batch 520/937 | Cost: 0.0085\n",
            "Epoch: 017/020 | Batch 560/937 | Cost: 0.0237\n",
            "Epoch: 017/020 | Batch 600/937 | Cost: 0.1302\n",
            "Epoch: 017/020 | Batch 640/937 | Cost: 0.0528\n",
            "Epoch: 017/020 | Batch 680/937 | Cost: 0.0351\n",
            "Epoch: 017/020 | Batch 720/937 | Cost: 0.0732\n",
            "Epoch: 017/020 | Batch 760/937 | Cost: 0.0245\n",
            "Epoch: 017/020 | Batch 800/937 | Cost: 0.0395\n",
            "Epoch: 017/020 | Batch 840/937 | Cost: 0.0228\n",
            "Epoch: 017/020 | Batch 880/937 | Cost: 0.0448\n",
            "Epoch: 017/020 | Batch 920/937 | Cost: 0.0416\n",
            "Epoch: 017/020 Train Acc.: 98.65% | Test Acc.: 96.82%\n",
            "Time elapsed: 7.42 min\n",
            "Epoch: 018/020 | Batch 000/937 | Cost: 0.1535\n",
            "Epoch: 018/020 | Batch 040/937 | Cost: 0.0489\n",
            "Epoch: 018/020 | Batch 080/937 | Cost: 0.1077\n",
            "Epoch: 018/020 | Batch 120/937 | Cost: 0.0768\n",
            "Epoch: 018/020 | Batch 160/937 | Cost: 0.0150\n",
            "Epoch: 018/020 | Batch 200/937 | Cost: 0.0680\n",
            "Epoch: 018/020 | Batch 240/937 | Cost: 0.0236\n",
            "Epoch: 018/020 | Batch 280/937 | Cost: 0.0489\n",
            "Epoch: 018/020 | Batch 320/937 | Cost: 0.0961\n",
            "Epoch: 018/020 | Batch 360/937 | Cost: 0.1147\n",
            "Epoch: 018/020 | Batch 400/937 | Cost: 0.0097\n",
            "Epoch: 018/020 | Batch 440/937 | Cost: 0.0372\n",
            "Epoch: 018/020 | Batch 480/937 | Cost: 0.0117\n",
            "Epoch: 018/020 | Batch 520/937 | Cost: 0.0354\n",
            "Epoch: 018/020 | Batch 560/937 | Cost: 0.0632\n",
            "Epoch: 018/020 | Batch 600/937 | Cost: 0.0865\n",
            "Epoch: 018/020 | Batch 640/937 | Cost: 0.0346\n",
            "Epoch: 018/020 | Batch 680/937 | Cost: 0.0340\n",
            "Epoch: 018/020 | Batch 720/937 | Cost: 0.0600\n",
            "Epoch: 018/020 | Batch 760/937 | Cost: 0.0275\n",
            "Epoch: 018/020 | Batch 800/937 | Cost: 0.0484\n",
            "Epoch: 018/020 | Batch 840/937 | Cost: 0.0546\n",
            "Epoch: 018/020 | Batch 880/937 | Cost: 0.0406\n",
            "Epoch: 018/020 | Batch 920/937 | Cost: 0.0525\n",
            "Epoch: 018/020 Train Acc.: 97.57% | Test Acc.: 95.86%\n",
            "Time elapsed: 7.86 min\n",
            "Epoch: 019/020 | Batch 000/937 | Cost: 0.0201\n",
            "Epoch: 019/020 | Batch 040/937 | Cost: 0.0070\n",
            "Epoch: 019/020 | Batch 080/937 | Cost: 0.0375\n",
            "Epoch: 019/020 | Batch 120/937 | Cost: 0.0170\n",
            "Epoch: 019/020 | Batch 160/937 | Cost: 0.0265\n",
            "Epoch: 019/020 | Batch 200/937 | Cost: 0.0052\n",
            "Epoch: 019/020 | Batch 240/937 | Cost: 0.0862\n",
            "Epoch: 019/020 | Batch 280/937 | Cost: 0.0598\n",
            "Epoch: 019/020 | Batch 320/937 | Cost: 0.0658\n",
            "Epoch: 019/020 | Batch 360/937 | Cost: 0.0587\n",
            "Epoch: 019/020 | Batch 400/937 | Cost: 0.0267\n",
            "Epoch: 019/020 | Batch 440/937 | Cost: 0.0339\n",
            "Epoch: 019/020 | Batch 480/937 | Cost: 0.0387\n",
            "Epoch: 019/020 | Batch 520/937 | Cost: 0.0109\n",
            "Epoch: 019/020 | Batch 560/937 | Cost: 0.0221\n",
            "Epoch: 019/020 | Batch 600/937 | Cost: 0.0234\n",
            "Epoch: 019/020 | Batch 640/937 | Cost: 0.0164\n",
            "Epoch: 019/020 | Batch 680/937 | Cost: 0.0169\n",
            "Epoch: 019/020 | Batch 720/937 | Cost: 0.0231\n",
            "Epoch: 019/020 | Batch 760/937 | Cost: 0.1381\n",
            "Epoch: 019/020 | Batch 800/937 | Cost: 0.0262\n",
            "Epoch: 019/020 | Batch 840/937 | Cost: 0.0402\n",
            "Epoch: 019/020 | Batch 880/937 | Cost: 0.0682\n",
            "Epoch: 019/020 | Batch 920/937 | Cost: 0.0060\n",
            "Epoch: 019/020 Train Acc.: 98.47% | Test Acc.: 96.55%\n",
            "Time elapsed: 8.30 min\n",
            "Epoch: 020/020 | Batch 000/937 | Cost: 0.0434\n",
            "Epoch: 020/020 | Batch 040/937 | Cost: 0.0673\n",
            "Epoch: 020/020 | Batch 080/937 | Cost: 0.0414\n",
            "Epoch: 020/020 | Batch 120/937 | Cost: 0.1378\n",
            "Epoch: 020/020 | Batch 160/937 | Cost: 0.0901\n",
            "Epoch: 020/020 | Batch 200/937 | Cost: 0.0652\n",
            "Epoch: 020/020 | Batch 240/937 | Cost: 0.0150\n",
            "Epoch: 020/020 | Batch 280/937 | Cost: 0.0026\n",
            "Epoch: 020/020 | Batch 320/937 | Cost: 0.0081\n",
            "Epoch: 020/020 | Batch 360/937 | Cost: 0.0200\n",
            "Epoch: 020/020 | Batch 400/937 | Cost: 0.0268\n",
            "Epoch: 020/020 | Batch 440/937 | Cost: 0.0329\n",
            "Epoch: 020/020 | Batch 480/937 | Cost: 0.0198\n",
            "Epoch: 020/020 | Batch 520/937 | Cost: 0.0186\n",
            "Epoch: 020/020 | Batch 560/937 | Cost: 0.1687\n",
            "Epoch: 020/020 | Batch 600/937 | Cost: 0.0098\n",
            "Epoch: 020/020 | Batch 640/937 | Cost: 0.0056\n",
            "Epoch: 020/020 | Batch 680/937 | Cost: 0.0309\n",
            "Epoch: 020/020 | Batch 720/937 | Cost: 0.0575\n",
            "Epoch: 020/020 | Batch 760/937 | Cost: 0.0231\n",
            "Epoch: 020/020 | Batch 800/937 | Cost: 0.0271\n",
            "Epoch: 020/020 | Batch 840/937 | Cost: 0.2149\n",
            "Epoch: 020/020 | Batch 880/937 | Cost: 0.0182\n",
            "Epoch: 020/020 | Batch 920/937 | Cost: 0.0227\n",
            "Epoch: 020/020 Train Acc.: 98.77% | Test Acc.: 96.92%\n",
            "Time elapsed: 8.74 min\n",
            "Total Training Time: 8.74 min\n"
          ],
          "name": "stdout"
        }
      ]
    },
    {
      "cell_type": "markdown",
      "metadata": {
        "id": "47zkfPQ00RyZ"
      },
      "source": [
        "## 2-3. Evaluation\n",
        "테스트 데이터와 학습 데이터의 Loss 변화를 확인 합니다."
      ],
      "id": "47zkfPQ00RyZ"
    },
    {
      "cell_type": "code",
      "metadata": {
        "id": "wgUANDH60RyZ",
        "colab": {
          "base_uri": "https://localhost:8080/",
          "height": 279
        },
        "outputId": "56e55393-d195-437b-c653-ab846b66de2f"
      },
      "source": [
        "plt.plot(range(1, NUM_EPOCHS+1), train_loss_lst, label='Training loss')\n",
        "plt.plot(range(1, NUM_EPOCHS+1), test_loss_lst, label='Test loss')\n",
        "plt.legend(loc='upper right')\n",
        "plt.ylabel('Cross entropy')\n",
        "plt.xlabel('Epoch')\n",
        "plt.show()"
      ],
      "id": "wgUANDH60RyZ",
      "execution_count": 32,
      "outputs": [
        {
          "output_type": "display_data",
          "data": {
            "image/png": "[encoded data removed]",
            "text/plain": [
              "<Figure size 432x288 with 1 Axes>"
            ]
          },
          "metadata": {
            "tags": [],
            "needs_background": "light"
          }
        }
      ]
    },
    {
      "cell_type": "code",
      "metadata": {
        "id": "fpfRX_uQ0RyZ",
        "colab": {
          "base_uri": "https://localhost:8080/",
          "height": 279
        },
        "outputId": "8205ce66-ded6-408d-ac13-abd2df423d2e"
      },
      "source": [
        "plt.plot(range(1, NUM_EPOCHS+1), train_acc_lst, label='Training accuracy')\n",
        "plt.plot(range(1, NUM_EPOCHS+1), test_acc_lst, label='Test accuracy')\n",
        "plt.legend(loc='upper left')\n",
        "plt.ylabel('Cross entropy')\n",
        "plt.xlabel('Epoch')\n",
        "plt.show()"
      ],
      "id": "fpfRX_uQ0RyZ",
      "execution_count": 33,
      "outputs": [
        {
          "output_type": "display_data",
          "data": {
            "image/png": "[encoded data removed]",
            "text/plain": [
              "<Figure size 432x288 with 1 Axes>"
            ]
          },
          "metadata": {
            "tags": [],
            "needs_background": "light"
          }
        }
      ]
    },
    {
      "cell_type": "code",
      "metadata": {
        "id": "3ws9MBWe0Rya",
        "colab": {
          "base_uri": "https://localhost:8080/"
        },
        "outputId": "dcbeebaa-d216-4ae7-cea5-7bd84e3252e1"
      },
      "source": [
        "model.eval()\n",
        "with torch.set_grad_enabled(False): # save memory during inference\n",
        "    test_acc, test_loss = compute_accuracy_and_loss(model, test_loader, DEVICE)\n",
        "    print(f'Test accuracy: {test_acc:.2f}%')"
      ],
      "id": "3ws9MBWe0Rya",
      "execution_count": 34,
      "outputs": [
        {
          "output_type": "stream",
          "text": [
            "Test accuracy: 96.92%\n"
          ],
          "name": "stdout"
        }
      ]
    },
    {
      "cell_type": "code",
      "metadata": {
        "id": "VqTgX3eb0Rya",
        "colab": {
          "base_uri": "https://localhost:8080/",
          "height": 122
        },
        "outputId": "44e4ec25-bdda-4085-da76-47572884fb16"
      },
      "source": [
        "for batch_idx, (x, y) in enumerate(test_loader):\n",
        "    x = x.to(DEVICE)\n",
        "    y = y.to(DEVICE)\n",
        "\n",
        "    x_numpy = x.numpy()\n",
        "    \n",
        "    fig, axes = plt.subplots(1, 5)\n",
        "    \n",
        "    for ax in axes:\n",
        "        index = random.randint(0, 64)\n",
        "        logits, probas = model(x[index].view(-1, 28*28))\n",
        "        _, predicted_labels = torch.max(probas, 1)\n",
        "        ax.imshow(x_numpy[index].reshape(28, 28))\n",
        "        ax.set_title(f'Label {predicted_labels[0]}')\n",
        "        \n",
        "    plt.show()\n",
        "    break"
      ],
      "id": "VqTgX3eb0Rya",
      "execution_count": 35,
      "outputs": [
        {
          "output_type": "display_data",
          "data": {
            "image/png": "[encoded data removed]",
            "text/plain": [
              "<Figure size 432x288 with 5 Axes>"
            ]
          },
          "metadata": {
            "tags": [],
            "needs_background": "light"
          }
        }
      ]
    },
    {
      "cell_type": "markdown",
      "metadata": {
        "id": "HXmmdf8P0Rya"
      },
      "source": [
        "## 2-4. Discussion\n",
        "1. Train Data에 대한 정확도와, Test Data에 대한 정확도가 왜 다를까요?\n",
        "- Train Data를 잘 학습하였다 가정해도 Test Data의 정답을 보장할 수 없기 때문이다. Test Data에는 Train Data에는 없는 새로운 유형의 문제가 있을 수 있다. 또한 Train Data를 완벽히 학습한 모델이라해도 그 문제를 완벽하게 풀 수 있는 모델이라 할 수 없으며, 과적합(Overfiting)이 발생할 수도 있다. 따라서 이를 해결하기 위해서 하이퍼파라미터(학습률, 배치사이즈) 조정, Data Augmentation, 모델 개선, 정규화, 적절한 학습 중단 등의 방법들이 필요하다.\n",
        "\n",
        "2. 다른 사람들은 정확도가 99퍼가 넘는 모델도 만들던데, DNN의 한계가 있다면 어떤 점이 있을까요? (Hint: 우리는 28x28의 이미지를 768x1로 쫙 펴서 넣어 줬습니다.)\n",
        "- 우선 입력층에 데이터를 28 * 28의 이미지를 768 * 1로 변환하여 넣어주며 정보의 손실이 발생하였다. (숫자의 위상 정보, 인접 색상 정보 등)  \n",
        "또한 해결하려는 문제에 비해 모델이 단순하여, 특징(Feature)를 추출하는데 한계가 있어 OverFiting이나 기울기 소실 등의 문제가 발생한다. 이를 해결하기 위해서 더욱 발전한 CNN이나 Pre-Trained 된 Inception 모델 등을 활용하여 문제를 해결하여야 한다"
      ],
      "id": "HXmmdf8P0Rya"
    },
    {
      "cell_type": "code",
      "metadata": {
        "id": "8G3ZPWYn0Rya"
      },
      "source": [
        ""
      ],
      "id": "8G3ZPWYn0Rya",
      "execution_count": null,
      "outputs": []
    }
  ]
}