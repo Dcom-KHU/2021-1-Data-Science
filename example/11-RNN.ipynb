{
 "cells": [
  {
   "cell_type": "markdown",
   "id": "70b995ef",
   "metadata": {},
   "source": [
    "## Module Import"
   ]
  },
  {
   "cell_type": "code",
   "execution_count": 1,
   "id": "aefe8034",
   "metadata": {},
   "outputs": [],
   "source": [
    "import numpy as np\n",
    "import torch\n",
    "import torch.nn as nn\n",
    "import torch.optim as optim\n",
    "from torch.nn.utils.rnn import pack_padded_sequence, pad_packed_sequence"
   ]
  },
  {
   "cell_type": "markdown",
   "id": "05c59ab3",
   "metadata": {},
   "source": [
    "## Input Data"
   ]
  },
  {
   "cell_type": "code",
   "execution_count": 2,
   "id": "4302415e",
   "metadata": {},
   "outputs": [],
   "source": [
    "sentences = [\n",
    "    \"i am happy\", \"you are happy\", \"feel good\", \"you feel good\", \"i am not sad\", \"you are not sad\", \"you feel not bad\",\n",
    "    \"i am sad\", \"you are sad\", \"feel bad\", \"you feel bad\", \"i am not happy\", \"you are not happy\", \"i feel not good\"\n",
    "]\n",
    "targets = [1, 1, 1, 1, 1, 1, 1, 0, 0, 0, 0, 0, 0, 0] #1 긍정, 0 부정\n",
    "dtype = torch.float\n",
    "\n",
    "word_list = list(set(\" \".join(sentences).split()))  # 단어 리스트\n",
    "word_dict = {w: i for i, w in enumerate(word_list)}  # 단어 -> 숫자\n",
    "number_dict = {i: w for i, w in enumerate(word_list)}  # 숫자 -> 단어\n",
    "n_class = len(word_dict)  # 단어 갯수"
   ]
  },
  {
   "cell_type": "markdown",
   "id": "632e6fc3",
   "metadata": {},
   "source": [
    "## Make Batch"
   ]
  },
  {
   "cell_type": "code",
   "execution_count": 3,
   "id": "fb86bae1",
   "metadata": {},
   "outputs": [
    {
     "name": "stdout",
     "output_type": "stream",
     "text": [
      "Input batch: tensor([[ 7,  3,  1,  4],\n",
      "        [ 8, 10,  1,  4],\n",
      "        [ 8,  6,  1,  5],\n",
      "        [ 7,  3,  1,  2],\n",
      "        [ 8, 10,  1,  2],\n",
      "        [ 7,  6,  1,  9],\n",
      "        [ 7,  3,  2,  0],\n",
      "        [ 8, 10,  2,  0],\n",
      "        [ 8,  6,  9,  0],\n",
      "        [ 7,  3,  4,  0],\n",
      "        [ 8, 10,  4,  0],\n",
      "        [ 8,  6,  5,  0],\n",
      "        [ 6,  9,  0,  0],\n",
      "        [ 6,  5,  0,  0]])\n",
      "Input length: tensor([4, 4, 4, 4, 4, 4, 3, 3, 3, 3, 3, 3, 2, 2])\n",
      "Target batch: tensor([1, 1, 1, 0, 0, 0, 1, 1, 1, 0, 0, 0, 1, 0])\n"
     ]
    }
   ],
   "source": [
    "batch_size = len(sentences)\n",
    "n_embedding = 4\n",
    "n_hidden = 10  # 은닉층 사이즈\n",
    "max_length = 4  # 문장 단어 최대 갯수\n",
    "\n",
    "def make_batch(sentences, targets):  # 데이터 전처리\n",
    "    input_batch = []\n",
    "    input_length = []\n",
    "    \n",
    "    for sen in sentences:\n",
    "        word = sen.split()\n",
    "        input = [word_dict[n] + 1 for n in word]\n",
    "        input += [0] * (max_length - len(word))\n",
    "        input_batch.append(input)\n",
    "        input_length.append(len(word))\n",
    "    \n",
    "    input_batch = torch.LongTensor(input_batch)\n",
    "    input_length = torch.LongTensor(input_length)\n",
    "    target_batch = torch.LongTensor(targets)\n",
    "    input_length, sorted_idx = input_length.sort(0, descending=True)\n",
    "    input_batch = input_batch[sorted_idx]\n",
    "    target_batch = target_batch[sorted_idx]\n",
    "    print(\"Input batch:\", input_batch)\n",
    "    print(\"Input length:\", input_length)\n",
    "    print(\"Target batch:\", target_batch)\n",
    "    return input_batch, input_length, target_batch\n",
    "\n",
    "input_batch, input_length, target_batch = make_batch(sentences, targets)"
   ]
  },
  {
   "cell_type": "markdown",
   "id": "65869b70",
   "metadata": {},
   "source": [
    "## Make Model"
   ]
  },
  {
   "cell_type": "code",
   "execution_count": 4,
   "id": "c0fdfb2e",
   "metadata": {},
   "outputs": [],
   "source": [
    "class TextLSTM(nn.Module):\n",
    "    def __init__(self):\n",
    "        super(TextLSTM, self).__init__()\n",
    "        self.embed = nn.Embedding(n_class + 1, n_embedding, padding_idx=0)\n",
    "        self.lstm = nn.LSTM(input_size=n_embedding,  # input vector의 size\n",
    "                            hidden_size=n_hidden,  # hidden layer의 size\n",
    "                            proj_size=5)  # output vector의 size\n",
    "        self.linear = nn.Linear(5, 2)\n",
    "\n",
    "    def forward(self, X, lengths):\n",
    "        embeded = self.embed(X)\n",
    "        input_batch = pack_padded_sequence(embeded, lengths.tolist(), batch_first=True)\n",
    "        input_batch, hidden = self.lstm(input_batch)\n",
    "        output, output_length = pad_packed_sequence(input_batch, batch_first=True)\n",
    "        output = output[range(output.shape[0]), lengths - 1, :]\n",
    "        output = self.linear(output)\n",
    "        \n",
    "        return output"
   ]
  },
  {
   "cell_type": "markdown",
   "id": "c5c5e09b",
   "metadata": {},
   "source": [
    "## Training"
   ]
  },
  {
   "cell_type": "code",
   "execution_count": 5,
   "id": "1f04a0c1",
   "metadata": {},
   "outputs": [
    {
     "name": "stdout",
     "output_type": "stream",
     "text": [
      "Epoch: 0100 cost = 0.030195\n",
      "Input batch: tensor([[7, 3, 1, 9]])\n",
      "Input length: tensor([4])\n",
      "Target batch: tensor([1])\n",
      "i am not good -> negative\n"
     ]
    }
   ],
   "source": [
    "model = TextLSTM()\n",
    "criterion = nn.CrossEntropyLoss()\n",
    "optimizer = optim.Adam(model.parameters(), lr=0.005)\n",
    "\n",
    "\n",
    "for epoch in range(100):\n",
    "    output = model(input_batch, input_length)\n",
    "    loss = criterion(output, target_batch)\n",
    "\n",
    "    if (epoch + 1) % 100 == 0:\n",
    "        print('Epoch:', '%04d' % (epoch + 1), 'cost =', '{:.6f}'.format(loss))\n",
    "\n",
    "    optimizer.zero_grad()\n",
    "    loss.backward()\n",
    "    optimizer.step()\n",
    "    \n",
    "\n",
    "model.eval()\n",
    "\n",
    "test_string = \"i am not good\"\n",
    "test_input, test_length, test_target = make_batch([test_string], [1])\n",
    "predict = model(test_input, test_length).data.max(1, keepdim=True)[1][0][0]\n",
    "\n",
    "print(test_string, '->', \"positive\" if predict == 1 else \"negative\")"
   ]
  },
  {
   "cell_type": "code",
   "execution_count": null,
   "id": "1ba66492",
   "metadata": {},
   "outputs": [],
   "source": []
  }
 ],
 "metadata": {
  "kernelspec": {
   "display_name": "Python 3",
   "language": "python",
   "name": "python3"
  },
  "language_info": {
   "codemirror_mode": {
    "name": "ipython",
    "version": 3
   },
   "file_extension": ".py",
   "mimetype": "text/x-python",
   "name": "python",
   "nbconvert_exporter": "python",
   "pygments_lexer": "ipython3",
   "version": "3.8.10"
  }
 },
 "nbformat": 4,
 "nbformat_minor": 5
}
