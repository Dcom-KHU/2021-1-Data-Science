{
 "cells": [
  {
   "cell_type": "markdown",
   "metadata": {},
   "source": [
    "### Module Import"
   ]
  },
  {
   "cell_type": "code",
   "execution_count": 1,
   "metadata": {},
   "outputs": [],
   "source": [
    "import numpy as np\n",
    "import pandas as pd"
   ]
  },
  {
   "cell_type": "markdown",
   "metadata": {},
   "source": [
    "### Min-Max Normalization"
   ]
  },
  {
   "cell_type": "code",
   "execution_count": 2,
   "metadata": {},
   "outputs": [
    {
     "data": {
      "text/plain": [
       "array([-9.00416361,  2.08694512, -8.37613501,  0.4509243 ,  9.46290203,\n",
       "       -2.03785303,  2.89632848, -6.07910749, -1.18693698, -0.26791896])"
      ]
     },
     "execution_count": 2,
     "metadata": {},
     "output_type": "execute_result"
    }
   ],
   "source": [
    "before_n = np.random.normal(0, 10, size=(10,))\n",
    "before_n"
   ]
  },
  {
   "cell_type": "code",
   "execution_count": 3,
   "metadata": {},
   "outputs": [
    {
     "data": {
      "text/plain": [
       "array([0.        , 0.60058858, 0.03400803, 0.51199731, 1.        ,\n",
       "       0.37722889, 0.64441706, 0.15839312, 0.42330638, 0.47307162])"
      ]
     },
     "execution_count": 3,
     "metadata": {},
     "output_type": "execute_result"
    }
   ],
   "source": [
    "after_n = (before_n - before_n.min()) / (before_n.max() - before_n.min())\n",
    "after_n  # numpy의 Broadcast를 이용하여 간편하게 구현 가능."
   ]
  },
  {
   "cell_type": "markdown",
   "metadata": {},
   "source": [
    "### Z-Score Normalization"
   ]
  },
  {
   "cell_type": "code",
   "execution_count": 4,
   "metadata": {},
   "outputs": [
    {
     "data": {
      "text/plain": [
       "array([ -5.78749701,  -8.81153928,   9.50489424,  11.33451834,\n",
       "         7.06594794,  -0.85395526, -10.91650695,  -8.52068197,\n",
       "        -1.35764311,   6.96244746])"
      ]
     },
     "execution_count": 4,
     "metadata": {},
     "output_type": "execute_result"
    }
   ],
   "source": [
    "before_n = np.random.normal(5, 10, size=(10,))\n",
    "before_n"
   ]
  },
  {
   "cell_type": "code",
   "execution_count": 5,
   "metadata": {},
   "outputs": [
    {
     "data": {
      "text/plain": [
       "array([-0.71603865, -1.09931732,  1.22217747,  1.45407102,  0.91305609,\n",
       "       -0.09074271, -1.36610897, -1.06245296, -0.15458203,  0.89993805])"
      ]
     },
     "execution_count": 5,
     "metadata": {},
     "output_type": "execute_result"
    }
   ],
   "source": [
    "after_n = (before_n - before_n.mean()) / before_n.std()\n",
    "after_n"
   ]
  },
  {
   "cell_type": "markdown",
   "metadata": {},
   "source": [
    "### PCA (Complex Version by numpy)"
   ]
  },
  {
   "cell_type": "code",
   "execution_count": 6,
   "metadata": {},
   "outputs": [
    {
     "name": "stderr",
     "output_type": "stream",
     "text": [
      "<ipython-input-6-1d472b5ad431>:3: RuntimeWarning: covariance is not positive-semidefinite.\n",
      "  array = np.random.multivariate_normal([5, 5], [[1, 3], [3, 1]], 50)\n"
     ]
    },
    {
     "data": {
      "image/png": "[encoded data removed]",
      "text/plain": [
       "<Figure size 432x288 with 1 Axes>"
      ]
     },
     "metadata": {
      "needs_background": "light"
     },
     "output_type": "display_data"
    }
   ],
   "source": [
    "import matplotlib.pyplot as plt\n",
    "\n",
    "array = np.random.multivariate_normal([5, 5], [[1, 3], [3, 1]], 50)\n",
    "plt.xlim(-5, 10)\n",
    "plt.ylim(-5, 10)\n",
    "plt.scatter(array.T[0], array.T[1])\n",
    "plt.show()"
   ]
  },
  {
   "cell_type": "code",
   "execution_count": 7,
   "metadata": {},
   "outputs": [
    {
     "data": {
      "image/png": "[encoded data removed]",
      "text/plain": [
       "<Figure size 432x288 with 1 Axes>"
      ]
     },
     "metadata": {
      "needs_background": "light"
     },
     "output_type": "display_data"
    }
   ],
   "source": [
    "array -= np.array([array.T[0].mean(), array.T[1].mean()])\n",
    "array /= np.array([array.T[0].std(), array.T[1].std()])\n",
    "\n",
    "plt.xlim(-5, 5)\n",
    "plt.ylim(-5, 5)\n",
    "plt.scatter(array.T[0], array.T[1])\n",
    "plt.show()"
   ]
  },
  {
   "cell_type": "code",
   "execution_count": 8,
   "metadata": {},
   "outputs": [
    {
     "name": "stdout",
     "output_type": "stream",
     "text": [
      "eigenvalue:  [1.37868277 0.66213356]\n",
      "eigenvector:  [[ 0.70710678 -0.70710678]\n",
      " [ 0.70710678  0.70710678]]\n"
     ]
    },
    {
     "data": {
      "image/png": "[encoded data removed]",
      "text/plain": [
       "<Figure size 432x288 with 1 Axes>"
      ]
     },
     "metadata": {
      "needs_background": "light"
     },
     "output_type": "display_data"
    }
   ],
   "source": [
    "cov = np.cov(array.T)\n",
    "eigen_val, eigen_vec = np.linalg.eig(cov)\n",
    "\n",
    "plt.scatter(array.T[0], array.T[1])\n",
    "plt.quiver([0, 0], [0, 0], eigen_vec[:, 0], eigen_vec[:, 1], color=['r', 'b'], scale=3)\n",
    "\n",
    "print(\"eigenvalue: \", eigen_val)\n",
    "print(\"eigenvector: \", eigen_vec)"
   ]
  },
  {
   "cell_type": "code",
   "execution_count": 9,
   "metadata": {},
   "outputs": [
    {
     "data": {
      "image/png": "[encoded data removed]",
      "text/plain": [
       "<Figure size 432x288 with 1 Axes>"
      ]
     },
     "metadata": {
      "needs_background": "light"
     },
     "output_type": "display_data"
    }
   ],
   "source": [
    "# 2차원 -> 1차원\n",
    "index = eigen_val.argmax()\n",
    "v = eigen_vec[index, :]  # norm: 1\n",
    "\n",
    "result = array.dot(v) * v.reshape(-1, 1)\n",
    "plt.scatter(result[0], result[1], color='green')\n",
    "plt.scatter(array.T[0], array.T[1])\n",
    "plt.xlim(-4, 4)\n",
    "plt.ylim(-4, 4)\n",
    "plt.show()"
   ]
  },
  {
   "cell_type": "code",
   "execution_count": 10,
   "metadata": {},
   "outputs": [
    {
     "name": "stdout",
     "output_type": "stream",
     "text": [
      "고유 값 : [1.37868277]\n",
      "고유 벡터 : [[-0.70710678]\n",
      " [-0.70710678]]\n",
      "사영 후: [[ 0.74294083]\n",
      " [-0.94307048]\n",
      " [ 0.61839566]\n",
      " [-0.43973508]\n",
      " [ 0.29021079]\n",
      " [-1.22711771]\n",
      " [-0.97603161]\n",
      " [-0.50363041]\n",
      " [-1.51911067]\n",
      " [-1.95516322]\n",
      " [ 1.69424327]\n",
      " [-0.21173885]\n",
      " [-0.80680118]\n",
      " [ 0.06700227]\n",
      " [-2.17616083]\n",
      " [-1.02729412]\n",
      " [ 0.61817404]\n",
      " [-0.35968561]\n",
      " [-1.14520853]\n",
      " [ 0.04673977]\n",
      " [ 1.19547148]\n",
      " [-1.01964879]\n",
      " [ 0.73747498]\n",
      " [-2.42142473]\n",
      " [ 3.14625774]\n",
      " [-0.45833225]\n",
      " [-0.51561902]\n",
      " [ 1.11511519]\n",
      " [-0.75372664]\n",
      " [ 0.92259916]\n",
      " [ 0.91352659]\n",
      " [ 0.74813001]\n",
      " [-0.26835234]\n",
      " [-1.42581592]\n",
      " [ 1.27974275]\n",
      " [ 0.64486924]\n",
      " [-0.35104897]\n",
      " [-0.37354348]\n",
      " [ 1.11172166]\n",
      " [-1.2327128 ]\n",
      " [-0.42964753]\n",
      " [ 0.23598146]\n",
      " [-0.55205187]\n",
      " [ 0.4071089 ]\n",
      " [ 2.38139002]\n",
      " [ 2.49359029]\n",
      " [-0.29456415]\n",
      " [ 0.73860085]\n",
      " [ 1.30514651]\n",
      " [-0.06719663]]\n"
     ]
    }
   ],
   "source": [
    "from sklearn.decomposition import PCA\n",
    "\n",
    "pca = PCA(n_components=1)  # 차원 수 1개\n",
    "pca.fit(array)\n",
    "\n",
    "print('고유 값 :', pca.explained_variance_)  # 고윳값\n",
    "print('고유 벡터 :', pca.components_.T)  # 고유 벡터\n",
    "print('사영 후:', pca.transform(array))"
   ]
  },
  {
   "cell_type": "code",
   "execution_count": null,
   "metadata": {},
   "outputs": [],
   "source": []
  }
 ],
 "metadata": {
  "kernelspec": {
   "display_name": "Python 3",
   "language": "python",
   "name": "python3"
  },
  "language_info": {
   "codemirror_mode": {
    "name": "ipython",
    "version": 3
   },
   "file_extension": ".py",
   "mimetype": "text/x-python",
   "name": "python",
   "nbconvert_exporter": "python",
   "pygments_lexer": "ipython3",
   "version": "3.8.5"
  }
 },
 "nbformat": 4,
 "nbformat_minor": 4
}
